{
 "cells": [
  {
   "cell_type": "code",
   "execution_count": 1,
   "metadata": {},
   "outputs": [],
   "source": [
    "import argparse\n",
    "import datetime\n",
    "import os\n",
    "import traceback\n",
    "import cv2\n",
    "import numpy as np\n",
    "import torch\n",
    "import yaml\n",
    "from torch import nn\n",
    "from torch.utils.data import DataLoader\n",
    "from torchvision import transforms\n",
    "from tqdm.autonotebook import tqdm\n",
    "from glob import glob\n",
    "from backbone import EfficientDetBackbone\n",
    "from efficientdet.dataset import HmDataset, Resizer, Normalizer, Augmenter, collater, get_bbox\n",
    "from efficientdet.loss import FocalLoss\n",
    "from utils.sync_batchnorm import patch_replication_callback\n",
    "from utils.utils import replace_w_sync_bn, CustomDataParallel, get_last_weights, init_weights, boolean_string\n",
    "from efficientdet.utils import BBoxTransform, ClipBoxes\n",
    "from utils.utils import preprocess, invert_affine, postprocess\n",
    "from torch.backends import cudnn\n",
    "import matplotlib.pyplot as plt\n",
    "import matplotlib.patches as patches\n",
    "import PIL.Image as Image\n",
    "import math\n",
    "from tensorboardX import SummaryWriter\n",
    "from mean_average_precision import MeanAveragePrecision\n",
    "import csv\n",
    "import warnings\n",
    "warnings.filterwarnings(action='ignore')\n",
    "%matplotlib inline\n",
    "#torch.autograd.set_detect_anomaly(True)"
   ]
  },
  {
   "cell_type": "markdown",
   "metadata": {},
   "source": [
    "# Hyperparameter"
   ]
  },
  {
   "cell_type": "code",
   "execution_count": 2,
   "metadata": {},
   "outputs": [],
   "source": [
    "opt = {\n",
    "    'project':'hemorrhage_binary',\n",
    "    'compound_coef':0,\n",
    "    'num_workers':12,\n",
    "    'batch_size':12*torch.cuda.device_count(),\n",
    "    'test_batch_size':1,\n",
    "    'head_only':False,\n",
    "    'lr':1e-3,\n",
    "    'optim':'adamw',\n",
    "    'num_epochs':600,\n",
    "    'val_interval':1,\n",
    "    'save_interval':1000,\n",
    "    'es_min_delta':0.0,\n",
    "    'es_patience':0.0,\n",
    "    'data_path':'../Hemorrhage_dataset/',\n",
    "    'log_path':'logs/',\n",
    "    'load_weights':'weights/efficientdet-d0.pth',\n",
    "    'saved_path':'logs/',\n",
    "    'debug':False,\n",
    "}\n",
    "\n",
    "class Params:\n",
    "    def __init__(self, project_file):\n",
    "        self.params = yaml.safe_load(open(project_file).read())\n",
    "\n",
    "    def __getattr__(self, item):\n",
    "        return self.params.get(item, None)\n",
    "\n",
    "params = Params(f'projects/'+opt['project']+'.yml')\n",
    "\n",
    "if params.num_gpus == 0:\n",
    "    os.environ['CUDA_VISIBLE_DEVICES'] = '-1'\n",
    "\n",
    "if torch.cuda.is_available():\n",
    "    torch.cuda.manual_seed(42)\n",
    "else:\n",
    "    torch.manual_seed(42)\n",
    "\n",
    "opt['saved_path'] = opt['saved_path'] + f'/{params.project_name}/d0/'\n",
    "opt['log_path'] = opt['log_path'] + f'/{params.project_name}/tensorboard/'\n",
    "os.makedirs(opt['log_path'], exist_ok=True)\n",
    "os.makedirs(opt['saved_path'], exist_ok=True)\n",
    "\n",
    "training_params = {'batch_size': opt['batch_size'],\n",
    "                   'shuffle': True,\n",
    "                   'drop_last': True,\n",
    "                   'collate_fn': collater,\n",
    "                   'num_workers': opt['num_workers']}\n",
    "\n",
    "val_params = {'batch_size': opt['batch_size'],\n",
    "              'shuffle': False,\n",
    "              'drop_last': True,\n",
    "              'collate_fn': collater,\n",
    "              'num_workers': opt['num_workers']}\n",
    "\n",
    "test_params = {'batch_size': opt['test_batch_size'],\n",
    "              'shuffle': False,\n",
    "              'drop_last': True,\n",
    "              'collate_fn': collater,\n",
    "              'num_workers': opt['num_workers']}\n",
    "\n",
    "input_sizes = [512, 640, 768, 896, 1024, 1280, 1280, 1536, 1536]"
   ]
  },
  {
   "cell_type": "markdown",
   "metadata": {},
   "source": [
    "# Utils"
   ]
  },
  {
   "cell_type": "code",
   "execution_count": 3,
   "metadata": {},
   "outputs": [],
   "source": [
    "class ModelWithLoss(nn.Module):\n",
    "    def __init__(self, model, debug=False):\n",
    "        super().__init__()\n",
    "        self.criterion = FocalLoss()\n",
    "        self.model = model\n",
    "        self.debug = debug\n",
    "\n",
    "    def forward(self, imgs, annotations, obj_list=None):\n",
    "        _, regression, classification, anchors = self.model(imgs)\n",
    "        if self.debug:\n",
    "            cls_loss, reg_loss = self.criterion(classification, regression, anchors, annotations,\n",
    "                                                imgs=imgs, obj_list=obj_list)\n",
    "        else:\n",
    "            cls_loss, reg_loss = self.criterion(classification, regression, anchors, annotations)\n",
    "        return cls_loss, reg_loss\n",
    "\n",
    "def save_checkpoint(model, name):\n",
    "    if isinstance(model, CustomDataParallel):\n",
    "        torch.save(model.module.model.state_dict(), os.path.join(opt['saved_path'], name))\n",
    "    else:\n",
    "        torch.save(model.model.state_dict(), os.path.join(opt['saved_path'], name))"
   ]
  },
  {
   "cell_type": "code",
   "execution_count": 4,
   "metadata": {},
   "outputs": [],
   "source": [
    "def visualization(img_path, weight_path=opt['load_weights'], threshold=0.2, iou_threshold=0.2):\n",
    "    \n",
    "    # Bounding-box colors\n",
    "    cmap = plt.get_cmap(\"tab20b\")\n",
    "    colors = [cmap(i) for i in np.linspace(0, 1, len(params.obj_list))]\n",
    "\n",
    "    fig, ax0 = plt.subplots(figsize=(5,5))\n",
    "    \n",
    "    compound_coef = 0\n",
    "    force_input_size = None  # set None to use default size\n",
    "\n",
    "    use_cuda = True\n",
    "    use_float16 = False\n",
    "    cudnn.fastest = True\n",
    "    cudnn.benchmark = True\n",
    "\n",
    "    # tf bilinear interpolation is different from any other's, just make do\n",
    "    input_sizes = [512, 640, 768, 896, 1024, 1280, 1280, 1536]\n",
    "    input_size = input_sizes[opt['compound_coef']] if force_input_size is None else force_input_size\n",
    "    ori_imgs, framed_imgs, framed_metas = preprocess(img_path, max_size=input_size, mean=params.mean, std=params.std)\n",
    "    \n",
    "    if use_cuda:\n",
    "        x = torch.stack([torch.from_numpy(fi).cuda() for fi in framed_imgs], 0)\n",
    "    else:\n",
    "        x = torch.stack([torch.from_numpy(fi) for fi in framed_imgs], 0)\n",
    "\n",
    "    x = x.to(torch.float32 if not use_float16 else torch.float16).permute(0, 3, 1, 2)\n",
    "\n",
    "    model_vis = EfficientDetBackbone(num_classes=len(params.obj_list), compound_coef=opt['compound_coef'],\n",
    "                                 ratios=eval(params.anchors_ratios), scales=eval(params.anchors_scales))\n",
    "    \n",
    "    try:\n",
    "        model_vis.load_state_dict(torch.load(weight_path))\n",
    "    except:\n",
    "        print('The rest of the weights should be loaded already.')\n",
    "        \n",
    "    model_vis.requires_grad_(False)\n",
    "    model_vis.eval()\n",
    "\n",
    "    if use_cuda:\n",
    "        model_vis = model_vis.cuda()\n",
    "    if use_float16:\n",
    "        model_vis = model_vis.half()\n",
    "\n",
    "    with torch.no_grad():\n",
    "        features, regression, classification, anchors = model_vis(x)\n",
    "\n",
    "        regressBoxes = BBoxTransform()\n",
    "        clipBoxes = ClipBoxes()\n",
    "\n",
    "        out = postprocess(x,\n",
    "                          anchors, regression, classification,\n",
    "                          regressBoxes, clipBoxes,\n",
    "                          threshold, iou_threshold)\n",
    "\n",
    "    out = invert_affine(framed_metas, out)\n",
    "\n",
    "    for i in range(len(ori_imgs)):\n",
    "        if len(out[i]['rois']) == 0:\n",
    "            continue\n",
    "        ori_imgs[i] = ori_imgs[i].copy()\n",
    "        for j in range(len(out[i]['rois'])):\n",
    "            (x1, y1, x2, y2) = out[i]['rois'][j].astype(np.int)\n",
    "            obj = params.obj_list[out[i]['class_ids'][j]]\n",
    "            score = float(out[i]['scores'][j])\n",
    "                       \n",
    "            color = colors[out[i]['class_ids'][j]]\n",
    "            bbox = patches.Rectangle((x1, y1), x2-x1, y2-y1, linewidth=2, edgecolor=color, facecolor=\"none\")\n",
    "            \n",
    "            ax0.add_patch(bbox)\n",
    "            # Add label\n",
    "            ax0.text(\n",
    "                x1,\n",
    "                y2,\n",
    "                s=\"{} {:.3f}\".format(obj,score),\n",
    "                color=\"white\",\n",
    "                verticalalignment=\"top\", \n",
    "                bbox={\"color\": color, \"pad\": 0},   \n",
    "            )\n",
    "\n",
    "    ax0.imshow(ori_imgs[i])\n",
    "    ax0.axis(\"off\")"
   ]
  },
  {
   "cell_type": "code",
   "execution_count": 5,
   "metadata": {},
   "outputs": [],
   "source": [
    "def save_result(image_paths, number, weight_path=opt['load_weights'], threshold=0.2, iou_threshold=0.2):\n",
    "    # Bounding-box colors\n",
    "    for num in range(0,number):\n",
    "        img_path = image_paths[num]\n",
    "\n",
    "        cmap = plt.get_cmap(\"tab20b\")\n",
    "        colors = [cmap(i) for i in np.linspace(0, 1, len(params.obj_list))]\n",
    "\n",
    "        fig, (ax0, ax1) = plt.subplots(1, 2, figsize=(12,12))\n",
    "\n",
    "        cudnn.fastest = True\n",
    "        cudnn.benchmark = True\n",
    "\n",
    "        # tf bilinear interpolation is different from any other's, just make do\n",
    "        input_size = input_sizes[opt['compound_coef']]\n",
    "        ori_imgs, framed_imgs, framed_metas = preprocess(img_path, max_size=input_size, mean=params.mean, std=params.std)\n",
    "\n",
    "        if torch.cuda.is_available():\n",
    "            x = torch.stack([torch.from_numpy(fi).cuda() for fi in framed_imgs], 0)\n",
    "        else:\n",
    "            x = torch.stack([torch.from_numpy(fi) for fi in framed_imgs], 0)\n",
    "\n",
    "        x = x.to(torch.float32).permute(0, 3, 1, 2)\n",
    "\n",
    "        model_eval = EfficientDetBackbone(num_classes=len(params.obj_list), compound_coef=opt['compound_coef'],\n",
    "                                     ratios=eval(params.anchors_ratios), scales=eval(params.anchors_scales))\n",
    "\n",
    "        try:\n",
    "            model_eval.load_state_dict(torch.load(weight_path))\n",
    "        except:\n",
    "            print('The rest of the weights should be loaded already.')\n",
    "\n",
    "        model_eval.requires_grad_(False)\n",
    "        model_eval.eval()\n",
    "\n",
    "        if torch.cuda.is_available():\n",
    "            model_eval = model_eval.cuda()\n",
    "        if use_float16:\n",
    "            model_eval = model_eval.half()\n",
    "\n",
    "        with torch.no_grad():\n",
    "            features, regression, classification, anchors = model_eval(x)\n",
    "\n",
    "            regressBoxes = BBoxTransform()\n",
    "            clipBoxes = ClipBoxes()\n",
    "\n",
    "            out = postprocess(x,\n",
    "                              anchors, regression, classification,\n",
    "                              regressBoxes, clipBoxes,\n",
    "                              threshold, iou_threshold)\n",
    "\n",
    "        out = invert_affine(framed_metas, out)\n",
    "\n",
    "        for i in range(len(ori_imgs)):\n",
    "            if len(out[i]['rois']) == 0:\n",
    "                continue\n",
    "            ori_imgs[i] = ori_imgs[i].copy()\n",
    "            for j in range(len(out[i]['rois'])):\n",
    "                (x1, y1, x2, y2) = out[i]['rois'][j].astype(np.int)\n",
    "                obj = params.obj_list[out[i]['class_ids'][j]]\n",
    "                score = float(out[i]['scores'][j])\n",
    "\n",
    "                color = colors[out[i]['class_ids'][j]]\n",
    "                bbox = patches.Rectangle((x1, y1), x2-x1, y2-y1, linewidth=2, edgecolor=color, facecolor=\"none\")\n",
    "\n",
    "                ax0.add_patch(bbox)\n",
    "                # Add label\n",
    "                ax0.text(\n",
    "                    x1,\n",
    "                    y2,\n",
    "                    s=\"{} {:.3f}\".format(obj,score),\n",
    "                    color=\"white\",\n",
    "                    verticalalignment=\"top\", \n",
    "                    bbox={\"color\": color, \"pad\": 0},   \n",
    "                )\n",
    "        # Get specific val images\n",
    "        data = test_set.__getitem__(num) # Convert to 4d tensor (BxNxHxW)\n",
    "        test_image = data['img'].unsqueeze(0)\n",
    "        test_image = ((test_image - test_image.min()) / (test_image.max() - test_image.min()))\n",
    "\n",
    "        for i in range(0,data['annot'].shape[0]):\n",
    "            [x1,y1,x2,y2,cls] = data['annot'][i].numpy()\n",
    "            color = colors[int(cls)]\n",
    "            bbox = patches.Rectangle((x1, y1), x2-x1, y2-y1, linewidth=2, edgecolor=color, facecolor=\"none\")\n",
    "            ax1.add_patch(bbox)\n",
    "            # Add label\n",
    "            ax1.text(\n",
    "                x1,\n",
    "                y2,\n",
    "                s=params.obj_list[int(cls)],\n",
    "                color=\"white\",\n",
    "                verticalalignment=\"top\", \n",
    "                bbox={\"color\": color, \"pad\": 0},   \n",
    "            )\n",
    "\n",
    "        ax0.imshow(ori_imgs[0])\n",
    "        ax0.set_title('Prediction')\n",
    "        ax0.axis('off')\n",
    "        ax1.imshow(test_image[0])\n",
    "        ax1.set_title('Ground truth')\n",
    "        ax1.axis('off')\n",
    "        fig.savefig('./test/hemorrhage/result_{}'.format(num))"
   ]
  },
  {
   "cell_type": "code",
   "execution_count": 6,
   "metadata": {},
   "outputs": [],
   "source": [
    "def eval_bbox(image_paths, mask_paths, weight_path=opt['load_weights'], cls_num=1, threshold=0.2, iou_threshold=0.2):\n",
    "    \n",
    "    # create metric_fn\n",
    "    metric_fn = MeanAveragePrecision(num_classes=len(params.obj_list))\n",
    "    \n",
    "    compound_coef = 0\n",
    "    force_input_size = None  # set None to use default size\n",
    "\n",
    "    use_cuda = True\n",
    "    use_float16 = False\n",
    "    cudnn.fastest = True\n",
    "    cudnn.benchmark = True\n",
    "\n",
    "    model_eval = EfficientDetBackbone(num_classes=len(params.obj_list), compound_coef=opt['compound_coef'],\n",
    "                                 ratios=eval(params.anchors_ratios), scales=eval(params.anchors_scales))\n",
    "    \n",
    "    try:\n",
    "        model_eval.load_state_dict(torch.load(weight_path))\n",
    "    except:\n",
    "        print('The rest of the weights should be loaded already.')\n",
    "        \n",
    "    model_eval.requires_grad_(False)\n",
    "    model_eval.eval()\n",
    "\n",
    "    if use_cuda:\n",
    "        model_eval = model_eval.cuda()\n",
    "    if use_float16:\n",
    "        model_eval = model_eval.half()    \n",
    "    \n",
    "    # tf bilinear interpolation is different from any other's, just make do\n",
    "    input_size = input_sizes[opt['compound_coef']] if force_input_size is None else force_input_size\n",
    "    \n",
    "    step = 1\n",
    "    \n",
    "    with torch.no_grad():\n",
    "        for image_path, mask_path in zip(image_paths, mask_paths):\n",
    "            \n",
    "            \n",
    "            preds = np.zeros((0,6))\n",
    "            gts = np.zeros((0,7))\n",
    "\n",
    "            ori_imgs, framed_imgs, framed_metas = preprocess(\n",
    "                image_path, max_size=input_sizes[opt['compound_coef']], mean=params.mean, std=params.std)\n",
    "            \n",
    "            mask = np.array(Image.open(mask_path))\n",
    "            annots = get_bbox(mask, cls_num)\n",
    "            for annot in annots:\n",
    "                gts = np.append(gts, [[annot[0],annot[1],annot[2],annot[3],annot[4],0,0]], axis=0)\n",
    "            \n",
    "            if use_cuda:\n",
    "                x = torch.stack([torch.from_numpy(fi).cuda() for fi in framed_imgs], 0)\n",
    "            else:\n",
    "                x = torch.stack([torch.from_numpy(fi) for fi in framed_imgs], 0)\n",
    "\n",
    "            x = x.to(torch.float32 if not use_float16 else torch.float16).permute(0, 3, 1, 2)\n",
    "\n",
    "            features, regression, classification, anchors = model_eval(x)\n",
    "\n",
    "            regressBoxes = BBoxTransform()\n",
    "            clipBoxes = ClipBoxes()\n",
    "\n",
    "            out = postprocess(x,\n",
    "                              anchors, regression, classification,\n",
    "                              regressBoxes, clipBoxes,\n",
    "                              threshold, iou_threshold)\n",
    "\n",
    "            out = invert_affine(framed_metas, out)\n",
    "\n",
    "            for i in range(len(ori_imgs)):\n",
    "                if len(out[i]['rois']) == 0:\n",
    "                    continue\n",
    "                for j in range(len(out[i]['rois'])):\n",
    "                    (x1, y1, x2, y2) = out[i]['rois'][j].astype(np.int)\n",
    "                    obj = params.obj_list[out[i]['class_ids'][j]]\n",
    "                    score = float(out[i]['scores'][j])\n",
    "                    preds = np.append(preds, [[x1,y1,x2,y2,out[i]['class_ids'][j],score]], axis=0)\n",
    "                    \n",
    "            # add some samples to evaluation\n",
    "            metric_fn.add(preds, gts)\n",
    "                        \n",
    "            if step%(len(image_paths)/20)==0:\n",
    "                \n",
    "                AR = []\n",
    "                AR05 = []\n",
    "                AR10 = []\n",
    "                AR25 = []\n",
    "                AR50 = []\n",
    "                AR75 = []\n",
    "\n",
    "                for cls in range(len(params.obj_list)):\n",
    "                    if not(math.isnan(metric_fn.value(iou_thresholds=0.05)[0.05][cls]['recall'].mean())):\n",
    "                        AR05.append(metric_fn.value(iou_thresholds=0.05)[0.05][cls]['recall'].mean())\n",
    "                    if not(math.isnan(metric_fn.value(iou_thresholds=0.1)[0.1][cls]['recall'].mean())):\n",
    "                        AR10.append(metric_fn.value(iou_thresholds=0.1)[0.1][cls]['recall'].mean())\n",
    "                    if not(math.isnan(metric_fn.value(iou_thresholds=0.25)[0.25][cls]['recall'].mean())):\n",
    "                        AR25.append(metric_fn.value(iou_thresholds=0.25)[0.25][cls]['recall'].mean())\n",
    "                    if not(math.isnan(metric_fn.value(iou_thresholds=0.5)[0.5][cls]['recall'].mean())):\n",
    "                        AR50.append(metric_fn.value(iou_thresholds=0.5)[0.5][cls]['recall'].mean())\n",
    "                    if not(math.isnan(metric_fn.value(iou_thresholds=0.75)[0.75][cls]['recall'].mean())):\n",
    "                        AR75.append(metric_fn.value(iou_thresholds=0.75)[0.75][cls]['recall'].mean())\n",
    "\n",
    "                AR05 = np.array(AR05).mean()\n",
    "                AR10 = np.array(AR10).mean()\n",
    "                AR25 = np.array(AR25).mean()\n",
    "                AR50 = np.array(AR50).mean()    \n",
    "                AR75 = np.array(AR75).mean()\n",
    "\n",
    "                for cls in range(len(params.obj_list)):\n",
    "                    for thr in np.arange(0.5, 1.0, 0.05):\n",
    "                        if not(math.isnan(metric_fn.value(iou_thresholds=np.arange(0.5, 1.0, 0.05))[thr][cls]['recall'].mean())):\n",
    "                            AR.append(metric_fn.value(iou_thresholds=np.arange(0.5, 1.0, 0.05))[thr][cls]['recall'].mean()) \n",
    "                AR = np.array(AR).mean()\n",
    "                \n",
    "                print(\n",
    "                   'Images: {}/{}  AP: {:.3f} AP05 {:.3f} AP10: {:.3f} AP25: {:.3f} AP50: {:.3f} AP75: {:.3f}\\t\\t\\t\\t\\t\\\n",
    "                    AR: {:.3f} AR05: {:.3f} AR10: {:.3f} AR25: {:.3f} AR50: {:.3f} AR75: {:.3f}\\r'.format(\n",
    "                       step, len(image_paths),\n",
    "                       metric_fn.value(iou_thresholds=np.arange(0.5, 1.0, 0.05))['mAP'],\n",
    "                       metric_fn.value(iou_thresholds=0.05)['mAP'], metric_fn.value(iou_thresholds=0.1)['mAP'],\n",
    "                       metric_fn.value(iou_thresholds=0.25)['mAP'], metric_fn.value(iou_thresholds=0.5)['mAP'],\n",
    "                       metric_fn.value(iou_thresholds=0.75)['mAP'],\n",
    "                       AR, AR05, AR10, AR25, AR50, AR75), end=\"\")\n",
    "                \n",
    "            step+=1\n",
    "            \n",
    "    return metric_fn"
   ]
  },
  {
   "cell_type": "code",
   "execution_count": 14,
   "metadata": {},
   "outputs": [],
   "source": [
    "def eval_class(image_paths, num_image, weight_path=opt['load_weights'], threshold=0.2, iou_threshold=0.2):\n",
    "    # Bounding-box colors\n",
    "    \n",
    "    tp = 0\n",
    "    fp = 0\n",
    "    tn = 0\n",
    "    fn = 0\n",
    "    obj_list = [i for i in range(len(params.obj_list))]\n",
    "    eps = 1e-10\n",
    "    \n",
    "    for num in range(0,num_image):\n",
    "        \n",
    "        obj_pred = []\n",
    "        obj_gt = []\n",
    "        \n",
    "        img_path = image_paths[num]\n",
    "\n",
    "        cudnn.fastest = True\n",
    "        cudnn.benchmark = True\n",
    "\n",
    "        # tf bilinear interpolation is different from any other's, just make do\n",
    "        input_size = input_sizes[opt['compound_coef']]\n",
    "        ori_imgs, framed_imgs, framed_metas = preprocess(img_path, max_size=input_size, mean=params.mean, std=params.std)\n",
    "\n",
    "        if torch.cuda.is_available():\n",
    "            x = torch.stack([torch.from_numpy(fi).cuda() for fi in framed_imgs], 0)\n",
    "        else:\n",
    "            x = torch.stack([torch.from_numpy(fi) for fi in framed_imgs], 0)\n",
    "\n",
    "        x = x.to(torch.float32).permute(0, 3, 1, 2)\n",
    "\n",
    "        model_eval = EfficientDetBackbone(num_classes=len(params.obj_list), compound_coef=opt['compound_coef'],\n",
    "                                     ratios=eval(params.anchors_ratios), scales=eval(params.anchors_scales))\n",
    "\n",
    "        try:\n",
    "            model_eval.load_state_dict(torch.load(weight_path))\n",
    "        except:\n",
    "            print('The rest of the weights should be loaded already.')\n",
    "\n",
    "        model_eval.requires_grad_(False)\n",
    "        model_eval.eval()\n",
    "\n",
    "        if torch.cuda.is_available():\n",
    "            model_eval = model_eval.cuda()\n",
    "\n",
    "        with torch.no_grad():\n",
    "            features, regression, classification, anchors = model_eval(x)\n",
    "\n",
    "            regressBoxes = BBoxTransform()\n",
    "            clipBoxes = ClipBoxes()\n",
    "\n",
    "            out = postprocess(x,\n",
    "                              anchors, regression, classification,\n",
    "                              regressBoxes, clipBoxes,\n",
    "                              threshold, iou_threshold)\n",
    "\n",
    "        out = invert_affine(framed_metas, out)\n",
    "\n",
    "        for i in range(len(ori_imgs)):\n",
    "            if len(out[i]['rois']) == 0:\n",
    "                continue\n",
    "            ori_imgs[i] = ori_imgs[i].copy()\n",
    "            for j in range(len(out[i]['rois'])):\n",
    "                obj_pred.append(out[i]['class_ids'][j])\n",
    "\n",
    "        # Get specific val images\n",
    "        data = test_set.__getitem__(num) # Convert to 4d tensor (BxNxHxW)\n",
    "\n",
    "        for i in range(0,data['annot'].shape[0]):\n",
    "            [x1,y1,x2,y2,cls] = data['annot'][i].numpy()\n",
    "            obj_gt.append(int(cls))\n",
    "        \n",
    "        if len(obj_pred)>0:\n",
    "            for i in range(len(obj_pred)):\n",
    "                if obj_pred[i] in obj_gt:\n",
    "                    tp += 1\n",
    "                else: fp += 1\n",
    "        \n",
    "        if len(obj_gt)>0:\n",
    "            for i in range(len(obj_gt)):\n",
    "                if obj_gt[i] not in obj_pred:\n",
    "                    fn += 1\n",
    "        \n",
    "        not_gt = [x for x in obj_list if x not in obj_gt]\n",
    "        if len(not_gt)>0:\n",
    "            for i in not_gt:\n",
    "                if i not in obj_pred:\n",
    "                    tn += 1\n",
    "    \n",
    "        print(\n",
    "           'Images: {}/{}  Precision: {:.3f} Recall: {:.3f} Specificity: {:.3f} Accuracy: {:.3f} F1 score: {:.3f}\\r'.format(\n",
    "               num+1, num_image,\n",
    "               tp/(tp+fp+eps),\n",
    "               tp/(tp+fn+eps),\n",
    "               tn/(tn+fp+eps),\n",
    "               (tp+tn)/(tp+tn+fp+fn+eps),\n",
    "               (2*tp)/(2*tp+fp+fn+eps)), end=\"\")    \n",
    "\n",
    "    return tp, fp, tn, fn"
   ]
  },
  {
   "cell_type": "markdown",
   "metadata": {},
   "source": [
    "# Model"
   ]
  },
  {
   "cell_type": "code",
   "execution_count": 8,
   "metadata": {},
   "outputs": [
    {
     "name": "stdout",
     "output_type": "stream",
     "text": [
      "[Warning] Ignoring Error(s) in loading state_dict for EfficientDetBackbone:\n",
      "\tsize mismatch for classifier.header.pointwise_conv.conv.weight: copying a param with shape torch.Size([810, 64, 1, 1]) from checkpoint, the shape in current model is torch.Size([9, 64, 1, 1]).\n",
      "\tsize mismatch for classifier.header.pointwise_conv.conv.bias: copying a param with shape torch.Size([810]) from checkpoint, the shape in current model is torch.Size([9]).\n",
      "[Warning] Don't panic if you see this, this might be because you load a pretrained weights with different number of classes. The rest of the weights should be loaded already.\n",
      "[Info] loaded weights: efficientdet-d0.pth, resuming checkpoint from step: 0\n"
     ]
    }
   ],
   "source": [
    "model = EfficientDetBackbone(num_classes=len(params.obj_list), compound_coef=opt['compound_coef'],\n",
    "                             ratios=eval(params.anchors_ratios), scales=eval(params.anchors_scales))\n",
    "\n",
    "# load last weights\n",
    "if opt['load_weights'] is not None:\n",
    "    if opt['load_weights'].endswith('.pth'):\n",
    "        weights_path = opt['load_weights']\n",
    "    else:\n",
    "        weights_path = get_last_weights(opt['saved_path'])\n",
    "    try:\n",
    "        last_step = int(os.path.basename(weights_path).split('_')[-1].split('.')[0])\n",
    "    except:\n",
    "        last_step = 0\n",
    "\n",
    "    try:\n",
    "        ret = model.load_state_dict(torch.load(weights_path), strict=False)\n",
    "    except RuntimeError as e:\n",
    "        print(f'[Warning] Ignoring {e}')\n",
    "        print(\n",
    "            '[Warning] Don\\'t panic if you see this, this might be because you load a pretrained weights with different number of classes. The rest of the weights should be loaded already.')\n",
    "\n",
    "    print(f'[Info] loaded weights: {os.path.basename(weights_path)}, resuming checkpoint from step: {last_step}')\n",
    "else:\n",
    "    last_step = 0\n",
    "    print('[Info] initializing weights...')\n",
    "    init_weights(model)\n",
    "\n",
    "# freeze backbone if train head_only\n",
    "if opt['head_only']:\n",
    "    def freeze_backbone(m):\n",
    "        classname = m.__class__.__name__\n",
    "        for ntl in ['EfficientNet', 'BiFPN']:\n",
    "            if ntl in classname:\n",
    "                for param in m.parameters():\n",
    "                    param.requires_grad = False\n",
    "\n",
    "    model.apply(freeze_backbone)\n",
    "    print('[Info] freezed backbone')\n",
    "\n",
    "# https://github.com/vacancy/Synchronized-BatchNorm-PyTorch\n",
    "# apply sync_bn when using multiple gpu and batch_size per gpu is lower than 4\n",
    "#  useful when gpu memory is limited.\n",
    "# because when bn is disable, the training will be very unstable or slow to converge,\n",
    "# apply sync_bn can solve it,\n",
    "# by packing all mini-batch across all gpus as one batch and normalize, then send it back to all gpus.\n",
    "# but it would also slow down the training by a little bit.\n",
    "if params.num_gpus > 1 and opt.batch_size // params.num_gpus < 4:\n",
    "    model.apply(replace_w_sync_bn)\n",
    "    use_sync_bn = True\n",
    "else:\n",
    "    use_sync_bn = False\n",
    "\n",
    "writer = SummaryWriter(opt['log_path'] + f'/{datetime.datetime.now().strftime(\"%Y%m%d-%H%M%S\")}/')\n",
    "\n",
    "# warp the model with loss function, to reduce the memory usage on gpu0 and speedup\n",
    "model = ModelWithLoss(model, debug=opt['debug'])\n",
    "\n",
    "if params.num_gpus > 0:\n",
    "    model = model.cuda()\n",
    "    if params.num_gpus > 1:\n",
    "        model = CustomDataParallel(model, params.num_gpus)\n",
    "        if use_sync_bn:\n",
    "            patch_replication_callback(model)"
   ]
  },
  {
   "cell_type": "markdown",
   "metadata": {},
   "source": [
    "# Preprocessing"
   ]
  },
  {
   "cell_type": "code",
   "execution_count": 9,
   "metadata": {},
   "outputs": [
    {
     "name": "stdout",
     "output_type": "stream",
     "text": [
      "Train images: 86225   Val images: 10000   Test images: 10000\n"
     ]
    }
   ],
   "source": [
    "image_paths = glob(opt['data_path'] + 'image/*.png')\n",
    "image_list = os.listdir(opt['data_path'] + 'image')\n",
    "mask_paths = [image_paths[i][:22] + 'label_binary/' + image_list[i][:-8] + '_label.png' for i in range(len(image_paths))]\n",
    "\n",
    "train_image_paths = image_paths[20000:]\n",
    "train_mask_paths = mask_paths[20000:]\n",
    "\n",
    "val_image_paths = image_paths[:10000]\n",
    "val_mask_paths = mask_paths[:10000]\n",
    "\n",
    "test_image_paths = image_paths[10000:20000]\n",
    "test_mask_paths = mask_paths[10000:20000]\n",
    "\n",
    "print('Train images: {}   Val images: {}   Test images: {}'.format(len(train_image_paths),len(val_image_paths),len(test_image_paths)))"
   ]
  },
  {
   "cell_type": "code",
   "execution_count": 10,
   "metadata": {},
   "outputs": [],
   "source": [
    "training_set = HmDataset(train_image_paths, train_mask_paths, len(params.obj_list),\n",
    "                           transform=transforms.Compose([Normalizer(mean=params.mean, std=params.std),\n",
    "                                                         Augmenter(),\n",
    "                                                         Resizer(input_sizes[opt['compound_coef']])]))\n",
    "training_generator = DataLoader(training_set, **training_params)\n",
    "\n",
    "val_set = HmDataset(val_image_paths, val_mask_paths, len(params.obj_list),\n",
    "                      transform=transforms.Compose([Normalizer(mean=params.mean, std=params.std),\n",
    "                                                    Resizer(input_sizes[opt['compound_coef']])]))\n",
    "val_generator = DataLoader(val_set, **val_params)\n",
    "\n",
    "test_set = HmDataset(test_image_paths, test_mask_paths, len(params.obj_list),\n",
    "                      transform=transforms.Compose([Normalizer(mean=params.mean, std=params.std),\n",
    "                                                    Resizer(input_sizes[opt['compound_coef']])]))\n",
    "test_generator = DataLoader(test_set, **test_params)"
   ]
  },
  {
   "cell_type": "code",
   "execution_count": 9,
   "metadata": {},
   "outputs": [
    {
     "name": "stdout",
     "output_type": "stream",
     "text": [
      "torch.Size([12, 3, 512, 512]) torch.Size([12, 5, 5])\n"
     ]
    }
   ],
   "source": [
    "for i, data in enumerate(val_generator):\n",
    "    if i == 0:\n",
    "        print(data['img'].shape, data['annot'].shape)\n",
    "        break"
   ]
  },
  {
   "cell_type": "code",
   "execution_count": 11,
   "metadata": {},
   "outputs": [
    {
     "data": {
      "text/plain": [
       "<matplotlib.image.AxesImage at 0x1bf35e06eb0>"
      ]
     },
     "execution_count": 11,
     "metadata": {},
     "output_type": "execute_result"
    },
    {
     "data": {
      "image/png": "[encoded data removed]",
      "text/plain": [
       "<Figure size 360x360 with 1 Axes>"
      ]
     },
     "metadata": {
      "needs_background": "light"
     },
     "output_type": "display_data"
    }
   ],
   "source": [
    "# Get specific val images\n",
    "data = val_set.__getitem__(0) # Convert to 4d tensor (BxNxHxW)\n",
    "val_image = data['img'].unsqueeze(0)\n",
    "val_image = ((val_image - val_image.min()) / (val_image.max() - val_image.min()))\n",
    "val_annot = data['annot']\n",
    "\n",
    "cmap = plt.get_cmap(\"tab20b\")\n",
    "colors = [cmap(i) for i in np.linspace(0, 1, len(params.obj_list))]\n",
    "fig, ax0 = plt.subplots(figsize=(5,5))\n",
    "for i in range(0,data['annot'].shape[0]):\n",
    "    [x1,y1,x2,y2,cls] = data['annot'][i].numpy()\n",
    "    color = colors[int(cls)]\n",
    "    bbox = patches.Rectangle((x1, y1), x2-x1, y2-y1, linewidth=2, edgecolor=color, facecolor=\"none\")\n",
    "    ax0.add_patch(bbox)\n",
    "    # Add label\n",
    "    ax0.text(\n",
    "        x1,\n",
    "        y2,\n",
    "        s=params.obj_list[int(cls)],\n",
    "        color=\"white\",\n",
    "        verticalalignment=\"top\", \n",
    "        bbox={\"color\": color, \"pad\": 0},   \n",
    "    )\n",
    "    \n",
    "ax0.imshow(val_image[0])\n",
    "#ax0.axis('off')"
   ]
  },
  {
   "cell_type": "markdown",
   "metadata": {},
   "source": [
    "# Visualization"
   ]
  },
  {
   "cell_type": "code",
   "execution_count": 17,
   "metadata": {},
   "outputs": [
    {
     "name": "stdout",
     "output_type": "stream",
     "text": [
      "The rest of the weights should be loaded already.\n"
     ]
    },
    {
     "data": {
      "image/png": "[encoded data removed]",
      "text/plain": [
       "<Figure size 360x360 with 1 Axes>"
      ]
     },
     "metadata": {
      "needs_background": "light"
     },
     "output_type": "display_data"
    }
   ],
   "source": [
    "img_path = image_paths[0]\n",
    "visualization(img_path)"
   ]
  },
  {
   "cell_type": "markdown",
   "metadata": {},
   "source": [
    "# Optimizer"
   ]
  },
  {
   "cell_type": "code",
   "execution_count": 12,
   "metadata": {},
   "outputs": [],
   "source": [
    "if opt['optim'] == 'adamw':\n",
    "    optimizer = torch.optim.AdamW(model.parameters(), opt['lr'])\n",
    "else:\n",
    "    optimizer = torch.optim.SGD(model.parameters(), opt['lr'], momentum=0.9, nesterov=True)\n",
    "\n",
    "scheduler = torch.optim.lr_scheduler.ReduceLROnPlateau(optimizer, patience=3, verbose=True)"
   ]
  },
  {
   "cell_type": "markdown",
   "metadata": {},
   "source": [
    "# Train"
   ]
  },
  {
   "cell_type": "code",
   "execution_count": null,
   "metadata": {
    "scrolled": true
   },
   "outputs": [
    {
     "data": {
      "application/vnd.jupyter.widget-view+json": {
       "model_id": "9cd3ae0e1bde4c4bb9b383f8a5fd14e8",
       "version_major": 2,
       "version_minor": 0
      },
      "text/plain": [
       "HBox(children=(HTML(value=''), FloatProgress(value=0.0, max=7185.0), HTML(value='')))"
      ]
     },
     "metadata": {},
     "output_type": "display_data"
    },
    {
     "name": "stdout",
     "output_type": "stream",
     "text": [
      "\n",
      "Val. Epoch: 0/600. Classification loss: 0.31206. Regression loss: 1.64439. Total loss: 1.95645\n"
     ]
    },
    {
     "data": {
      "application/vnd.jupyter.widget-view+json": {
       "model_id": "65840beb0a4a4ff186985f5f7ca68a6d",
       "version_major": 2,
       "version_minor": 0
      },
      "text/plain": [
       "HBox(children=(HTML(value=''), FloatProgress(value=0.0, max=7185.0), HTML(value='')))"
      ]
     },
     "metadata": {},
     "output_type": "display_data"
    },
    {
     "name": "stdout",
     "output_type": "stream",
     "text": [
      "\n",
      "Val. Epoch: 1/600. Classification loss: 0.30610. Regression loss: 1.61702. Total loss: 1.92312\n"
     ]
    },
    {
     "data": {
      "application/vnd.jupyter.widget-view+json": {
       "model_id": "f9d1a68758594b0d913616f6d64bc691",
       "version_major": 2,
       "version_minor": 0
      },
      "text/plain": [
       "HBox(children=(HTML(value=''), FloatProgress(value=0.0, max=7185.0), HTML(value='')))"
      ]
     },
     "metadata": {},
     "output_type": "display_data"
    },
    {
     "name": "stdout",
     "output_type": "stream",
     "text": [
      "\n",
      "Val. Epoch: 2/600. Classification loss: 0.34422. Regression loss: 1.61886. Total loss: 1.96307\n"
     ]
    },
    {
     "data": {
      "application/vnd.jupyter.widget-view+json": {
       "model_id": "6d26c958cad04969b28f3abf3a68db40",
       "version_major": 2,
       "version_minor": 0
      },
      "text/plain": [
       "HBox(children=(HTML(value=''), FloatProgress(value=0.0, max=7185.0), HTML(value='')))"
      ]
     },
     "metadata": {},
     "output_type": "display_data"
    },
    {
     "name": "stdout",
     "output_type": "stream",
     "text": [
      "\n",
      "Val. Epoch: 3/600. Classification loss: 0.31490. Regression loss: 1.57855. Total loss: 1.89345\n"
     ]
    },
    {
     "data": {
      "application/vnd.jupyter.widget-view+json": {
       "model_id": "31fc4c9cbf4e46f58c3c673ae6c5ade7",
       "version_major": 2,
       "version_minor": 0
      },
      "text/plain": [
       "HBox(children=(HTML(value=''), FloatProgress(value=0.0, max=7185.0), HTML(value='')))"
      ]
     },
     "metadata": {},
     "output_type": "display_data"
    },
    {
     "name": "stdout",
     "output_type": "stream",
     "text": [
      "\n",
      "Val. Epoch: 4/600. Classification loss: 0.35622. Regression loss: 1.79121. Total loss: 2.14743\n"
     ]
    },
    {
     "data": {
      "application/vnd.jupyter.widget-view+json": {
       "model_id": "31f7e902819847c7a9cc57b943c6ea21",
       "version_major": 2,
       "version_minor": 0
      },
      "text/plain": [
       "HBox(children=(HTML(value=''), FloatProgress(value=0.0, max=7185.0), HTML(value='')))"
      ]
     },
     "metadata": {},
     "output_type": "display_data"
    },
    {
     "name": "stdout",
     "output_type": "stream",
     "text": [
      "\n",
      "Val. Epoch: 5/600. Classification loss: 0.36018. Regression loss: 1.73245. Total loss: 2.09262\n"
     ]
    },
    {
     "data": {
      "application/vnd.jupyter.widget-view+json": {
       "model_id": "1a18d589cb164d7e985ddadc361f78c8",
       "version_major": 2,
       "version_minor": 0
      },
      "text/plain": [
       "HBox(children=(HTML(value=''), FloatProgress(value=0.0, max=7185.0), HTML(value='')))"
      ]
     },
     "metadata": {},
     "output_type": "display_data"
    },
    {
     "name": "stdout",
     "output_type": "stream",
     "text": [
      "\n",
      "Val. Epoch: 6/600. Classification loss: 0.37021. Regression loss: 1.65884. Total loss: 2.02905\n"
     ]
    },
    {
     "data": {
      "application/vnd.jupyter.widget-view+json": {
       "model_id": "1b431bca7b93443b93cad19994ffe66a",
       "version_major": 2,
       "version_minor": 0
      },
      "text/plain": [
       "HBox(children=(HTML(value=''), FloatProgress(value=0.0, max=7185.0), HTML(value='')))"
      ]
     },
     "metadata": {},
     "output_type": "display_data"
    },
    {
     "name": "stdout",
     "output_type": "stream",
     "text": [
      "\n",
      "Val. Epoch: 7/600. Classification loss: 0.26925. Regression loss: 1.51087. Total loss: 1.78012\n"
     ]
    },
    {
     "data": {
      "application/vnd.jupyter.widget-view+json": {
       "model_id": "b2f74b1563ba4360ad3d0a8545e4804c",
       "version_major": 2,
       "version_minor": 0
      },
      "text/plain": [
       "HBox(children=(HTML(value=''), FloatProgress(value=0.0, max=7185.0), HTML(value='')))"
      ]
     },
     "metadata": {},
     "output_type": "display_data"
    },
    {
     "name": "stdout",
     "output_type": "stream",
     "text": [
      "\n",
      "Val. Epoch: 8/600. Classification loss: 0.27803. Regression loss: 1.47770. Total loss: 1.75573\n"
     ]
    },
    {
     "data": {
      "application/vnd.jupyter.widget-view+json": {
       "model_id": "e30d0bc154684df79a900d3e497d7377",
       "version_major": 2,
       "version_minor": 0
      },
      "text/plain": [
       "HBox(children=(HTML(value=''), FloatProgress(value=0.0, max=7185.0), HTML(value='')))"
      ]
     },
     "metadata": {},
     "output_type": "display_data"
    },
    {
     "name": "stdout",
     "output_type": "stream",
     "text": [
      "\n",
      "Val. Epoch: 9/600. Classification loss: 0.38299. Regression loss: 1.78906. Total loss: 2.17204\n"
     ]
    },
    {
     "data": {
      "application/vnd.jupyter.widget-view+json": {
       "model_id": "c328b4c47e2c4d5c89bd2f4f6c450d41",
       "version_major": 2,
       "version_minor": 0
      },
      "text/plain": [
       "HBox(children=(HTML(value=''), FloatProgress(value=0.0, max=7185.0), HTML(value='')))"
      ]
     },
     "metadata": {},
     "output_type": "display_data"
    },
    {
     "name": "stdout",
     "output_type": "stream",
     "text": [
      "\n",
      "Val. Epoch: 10/600. Classification loss: 0.28594. Regression loss: 1.42254. Total loss: 1.70849\n"
     ]
    },
    {
     "data": {
      "application/vnd.jupyter.widget-view+json": {
       "model_id": "563dc217b5184717b83c8a4fc3e27150",
       "version_major": 2,
       "version_minor": 0
      },
      "text/plain": [
       "HBox(children=(HTML(value=''), FloatProgress(value=0.0, max=7185.0), HTML(value='')))"
      ]
     },
     "metadata": {},
     "output_type": "display_data"
    },
    {
     "name": "stdout",
     "output_type": "stream",
     "text": [
      "\n",
      "Val. Epoch: 11/600. Classification loss: 0.26193. Regression loss: 1.46160. Total loss: 1.72353\n"
     ]
    },
    {
     "data": {
      "application/vnd.jupyter.widget-view+json": {
       "model_id": "9b3ea732b6b44640a0f91b5c872de144",
       "version_major": 2,
       "version_minor": 0
      },
      "text/plain": [
       "HBox(children=(HTML(value=''), FloatProgress(value=0.0, max=7185.0), HTML(value='')))"
      ]
     },
     "metadata": {},
     "output_type": "display_data"
    },
    {
     "name": "stdout",
     "output_type": "stream",
     "text": [
      "\n",
      "Val. Epoch: 12/600. Classification loss: 0.26839. Regression loss: 1.41528. Total loss: 1.68367\n"
     ]
    },
    {
     "data": {
      "application/vnd.jupyter.widget-view+json": {
       "model_id": "baf81939d8214d6abe1d340c8ceb4417",
       "version_major": 2,
       "version_minor": 0
      },
      "text/plain": [
       "HBox(children=(HTML(value=''), FloatProgress(value=0.0, max=7185.0), HTML(value='')))"
      ]
     },
     "metadata": {},
     "output_type": "display_data"
    },
    {
     "name": "stdout",
     "output_type": "stream",
     "text": [
      "\n",
      "Val. Epoch: 13/600. Classification loss: 0.33225. Regression loss: 1.70535. Total loss: 2.03760\n"
     ]
    },
    {
     "data": {
      "application/vnd.jupyter.widget-view+json": {
       "model_id": "f27822b2802145d3bb3fd323995a91f6",
       "version_major": 2,
       "version_minor": 0
      },
      "text/plain": [
       "HBox(children=(HTML(value=''), FloatProgress(value=0.0, max=7185.0), HTML(value='')))"
      ]
     },
     "metadata": {},
     "output_type": "display_data"
    },
    {
     "name": "stdout",
     "output_type": "stream",
     "text": [
      "\n",
      "Val. Epoch: 14/600. Classification loss: 0.28548. Regression loss: 1.44515. Total loss: 1.73063\n"
     ]
    },
    {
     "data": {
      "application/vnd.jupyter.widget-view+json": {
       "model_id": "8b69b61773f24aeea700ef9928fc179b",
       "version_major": 2,
       "version_minor": 0
      },
      "text/plain": [
       "HBox(children=(HTML(value=''), FloatProgress(value=0.0, max=7185.0), HTML(value='')))"
      ]
     },
     "metadata": {},
     "output_type": "display_data"
    },
    {
     "name": "stdout",
     "output_type": "stream",
     "text": [
      "\n",
      "Val. Epoch: 15/600. Classification loss: 0.26005. Regression loss: 1.41042. Total loss: 1.67047\n"
     ]
    },
    {
     "data": {
      "application/vnd.jupyter.widget-view+json": {
       "model_id": "1a57458094544c22b4450229e79d4850",
       "version_major": 2,
       "version_minor": 0
      },
      "text/plain": [
       "HBox(children=(HTML(value=''), FloatProgress(value=0.0, max=7185.0), HTML(value='')))"
      ]
     },
     "metadata": {},
     "output_type": "display_data"
    },
    {
     "name": "stdout",
     "output_type": "stream",
     "text": [
      "\n",
      "Val. Epoch: 16/600. Classification loss: 0.27014. Regression loss: 1.45610. Total loss: 1.72624\n"
     ]
    },
    {
     "data": {
      "application/vnd.jupyter.widget-view+json": {
       "model_id": "0251c298957b428ca1985eeafbb0f13f",
       "version_major": 2,
       "version_minor": 0
      },
      "text/plain": [
       "HBox(children=(HTML(value=''), FloatProgress(value=0.0, max=7185.0), HTML(value='')))"
      ]
     },
     "metadata": {},
     "output_type": "display_data"
    },
    {
     "name": "stdout",
     "output_type": "stream",
     "text": [
      "\n",
      "Val. Epoch: 17/600. Classification loss: 0.25071. Regression loss: 1.41855. Total loss: 1.66926\n"
     ]
    },
    {
     "data": {
      "application/vnd.jupyter.widget-view+json": {
       "model_id": "b3ef880edd994ae7b5dd8d5f734168c9",
       "version_major": 2,
       "version_minor": 0
      },
      "text/plain": [
       "HBox(children=(HTML(value=''), FloatProgress(value=0.0, max=7185.0), HTML(value='')))"
      ]
     },
     "metadata": {},
     "output_type": "display_data"
    },
    {
     "name": "stdout",
     "output_type": "stream",
     "text": [
      "\n",
      "Val. Epoch: 18/600. Classification loss: 0.26145. Regression loss: 1.42869. Total loss: 1.69013\n"
     ]
    },
    {
     "data": {
      "application/vnd.jupyter.widget-view+json": {
       "model_id": "e80cf29530ec4e2e9cb69ee45ffa1ac0",
       "version_major": 2,
       "version_minor": 0
      },
      "text/plain": [
       "HBox(children=(HTML(value=''), FloatProgress(value=0.0, max=7185.0), HTML(value='')))"
      ]
     },
     "metadata": {},
     "output_type": "display_data"
    },
    {
     "name": "stdout",
     "output_type": "stream",
     "text": [
      "\n",
      "Val. Epoch: 19/600. Classification loss: 0.27956. Regression loss: 1.44671. Total loss: 1.72627\n"
     ]
    },
    {
     "data": {
      "application/vnd.jupyter.widget-view+json": {
       "model_id": "b1754008b63642a6bfcf165f7aabfbf5",
       "version_major": 2,
       "version_minor": 0
      },
      "text/plain": [
       "HBox(children=(HTML(value=''), FloatProgress(value=0.0, max=7185.0), HTML(value='')))"
      ]
     },
     "metadata": {},
     "output_type": "display_data"
    },
    {
     "name": "stdout",
     "output_type": "stream",
     "text": [
      "\n",
      "Val. Epoch: 20/600. Classification loss: 0.26682. Regression loss: 1.41347. Total loss: 1.68030\n"
     ]
    },
    {
     "data": {
      "application/vnd.jupyter.widget-view+json": {
       "model_id": "66e0ffd8381a4872855b11d117c89ed4",
       "version_major": 2,
       "version_minor": 0
      },
      "text/plain": [
       "HBox(children=(HTML(value=''), FloatProgress(value=0.0, max=7185.0), HTML(value='')))"
      ]
     },
     "metadata": {},
     "output_type": "display_data"
    },
    {
     "name": "stdout",
     "output_type": "stream",
     "text": [
      "\n",
      "Val. Epoch: 21/600. Classification loss: 0.27653. Regression loss: 1.43135. Total loss: 1.70788\n"
     ]
    },
    {
     "data": {
      "application/vnd.jupyter.widget-view+json": {
       "model_id": "4f6e5378aa61420bbbc7b3343eab7c70",
       "version_major": 2,
       "version_minor": 0
      },
      "text/plain": [
       "HBox(children=(HTML(value=''), FloatProgress(value=0.0, max=7185.0), HTML(value='')))"
      ]
     },
     "metadata": {},
     "output_type": "display_data"
    },
    {
     "name": "stdout",
     "output_type": "stream",
     "text": [
      "\n",
      "Val. Epoch: 22/600. Classification loss: 0.26323. Regression loss: 1.41982. Total loss: 1.68305\n"
     ]
    },
    {
     "data": {
      "application/vnd.jupyter.widget-view+json": {
       "model_id": "8c1a1e4560464c8b9377625c652ea0e4",
       "version_major": 2,
       "version_minor": 0
      },
      "text/plain": [
       "HBox(children=(HTML(value=''), FloatProgress(value=0.0, max=7185.0), HTML(value='')))"
      ]
     },
     "metadata": {},
     "output_type": "display_data"
    },
    {
     "name": "stdout",
     "output_type": "stream",
     "text": [
      "\n",
      "Val. Epoch: 23/600. Classification loss: 0.37602. Regression loss: 1.86757. Total loss: 2.24359\n"
     ]
    },
    {
     "data": {
      "application/vnd.jupyter.widget-view+json": {
       "model_id": "6866c4981d44467da1110aecd97ba3e0",
       "version_major": 2,
       "version_minor": 0
      },
      "text/plain": [
       "HBox(children=(HTML(value=''), FloatProgress(value=0.0, max=7185.0), HTML(value='')))"
      ]
     },
     "metadata": {},
     "output_type": "display_data"
    },
    {
     "name": "stdout",
     "output_type": "stream",
     "text": [
      "\n",
      "Val. Epoch: 24/600. Classification loss: 0.27211. Regression loss: 1.46663. Total loss: 1.73874\n"
     ]
    },
    {
     "data": {
      "application/vnd.jupyter.widget-view+json": {
       "model_id": "bcf5e1f96b36439fbe999309fe044207",
       "version_major": 2,
       "version_minor": 0
      },
      "text/plain": [
       "HBox(children=(HTML(value=''), FloatProgress(value=0.0, max=7185.0), HTML(value='')))"
      ]
     },
     "metadata": {},
     "output_type": "display_data"
    },
    {
     "name": "stdout",
     "output_type": "stream",
     "text": [
      "\n",
      "Val. Epoch: 25/600. Classification loss: 0.25690. Regression loss: 1.41025. Total loss: 1.66715\n"
     ]
    },
    {
     "data": {
      "application/vnd.jupyter.widget-view+json": {
       "model_id": "318ea3f32d254199a28f32f771c2eb30",
       "version_major": 2,
       "version_minor": 0
      },
      "text/plain": [
       "HBox(children=(HTML(value=''), FloatProgress(value=0.0, max=7185.0), HTML(value='')))"
      ]
     },
     "metadata": {},
     "output_type": "display_data"
    },
    {
     "name": "stdout",
     "output_type": "stream",
     "text": [
      "\n",
      "Val. Epoch: 26/600. Classification loss: 0.25664. Regression loss: 1.40166. Total loss: 1.65830\n"
     ]
    },
    {
     "data": {
      "application/vnd.jupyter.widget-view+json": {
       "model_id": "a5989b5ee2a14caabccfb68731b64823",
       "version_major": 2,
       "version_minor": 0
      },
      "text/plain": [
       "HBox(children=(HTML(value=''), FloatProgress(value=0.0, max=7185.0), HTML(value='')))"
      ]
     },
     "metadata": {},
     "output_type": "display_data"
    },
    {
     "name": "stdout",
     "output_type": "stream",
     "text": [
      "\n",
      "Val. Epoch: 27/600. Classification loss: 0.32896. Regression loss: 1.63956. Total loss: 1.96852\n"
     ]
    },
    {
     "data": {
      "application/vnd.jupyter.widget-view+json": {
       "model_id": "aeaa2c5d2afc47edb50be3a24c685384",
       "version_major": 2,
       "version_minor": 0
      },
      "text/plain": [
       "HBox(children=(HTML(value=''), FloatProgress(value=0.0, max=7185.0), HTML(value='')))"
      ]
     },
     "metadata": {},
     "output_type": "display_data"
    },
    {
     "name": "stdout",
     "output_type": "stream",
     "text": [
      "\n",
      "Val. Epoch: 28/600. Classification loss: 0.47777. Regression loss: 2.03496. Total loss: 2.51273\n"
     ]
    },
    {
     "data": {
      "application/vnd.jupyter.widget-view+json": {
       "model_id": "03375033b1d9406cbbe060fb48fcd563",
       "version_major": 2,
       "version_minor": 0
      },
      "text/plain": [
       "HBox(children=(HTML(value=''), FloatProgress(value=0.0, max=7185.0), HTML(value='')))"
      ]
     },
     "metadata": {},
     "output_type": "display_data"
    },
    {
     "name": "stdout",
     "output_type": "stream",
     "text": [
      "\n",
      "Val. Epoch: 29/600. Classification loss: 0.27326. Regression loss: 1.43648. Total loss: 1.70974\n"
     ]
    },
    {
     "data": {
      "application/vnd.jupyter.widget-view+json": {
       "model_id": "7d59ea7d89e54b2f9d6fb180976271f9",
       "version_major": 2,
       "version_minor": 0
      },
      "text/plain": [
       "HBox(children=(HTML(value=''), FloatProgress(value=0.0, max=7185.0), HTML(value='')))"
      ]
     },
     "metadata": {},
     "output_type": "display_data"
    },
    {
     "name": "stdout",
     "output_type": "stream",
     "text": [
      "\n",
      "Val. Epoch: 30/600. Classification loss: 0.28482. Regression loss: 1.52844. Total loss: 1.81325\n"
     ]
    },
    {
     "data": {
      "application/vnd.jupyter.widget-view+json": {
       "model_id": "2ca188e8dc28471ca9dec30557e09ba2",
       "version_major": 2,
       "version_minor": 0
      },
      "text/plain": [
       "HBox(children=(HTML(value=''), FloatProgress(value=0.0, max=7185.0), HTML(value='')))"
      ]
     },
     "metadata": {},
     "output_type": "display_data"
    },
    {
     "name": "stdout",
     "output_type": "stream",
     "text": [
      "\n",
      "Val. Epoch: 31/600. Classification loss: 0.26133. Regression loss: 1.42046. Total loss: 1.68178\n"
     ]
    },
    {
     "data": {
      "application/vnd.jupyter.widget-view+json": {
       "model_id": "a8b808adfa704bca965d5922949d0c92",
       "version_major": 2,
       "version_minor": 0
      },
      "text/plain": [
       "HBox(children=(HTML(value=''), FloatProgress(value=0.0, max=7185.0), HTML(value='')))"
      ]
     },
     "metadata": {},
     "output_type": "display_data"
    },
    {
     "name": "stdout",
     "output_type": "stream",
     "text": [
      "\n",
      "Val. Epoch: 32/600. Classification loss: 0.31872. Regression loss: 1.60479. Total loss: 1.92351\n"
     ]
    },
    {
     "data": {
      "application/vnd.jupyter.widget-view+json": {
       "model_id": "222ddaf8690e490eb948f163844da460",
       "version_major": 2,
       "version_minor": 0
      },
      "text/plain": [
       "HBox(children=(HTML(value=''), FloatProgress(value=0.0, max=7185.0), HTML(value='')))"
      ]
     },
     "metadata": {},
     "output_type": "display_data"
    },
    {
     "name": "stdout",
     "output_type": "stream",
     "text": [
      "\n",
      "Val. Epoch: 33/600. Classification loss: 0.26958. Regression loss: 1.42010. Total loss: 1.68968\n"
     ]
    },
    {
     "data": {
      "application/vnd.jupyter.widget-view+json": {
       "model_id": "bad48148191b426c83b0f0b1d9857e5d",
       "version_major": 2,
       "version_minor": 0
      },
      "text/plain": [
       "HBox(children=(HTML(value=''), FloatProgress(value=0.0, max=7185.0), HTML(value='')))"
      ]
     },
     "metadata": {},
     "output_type": "display_data"
    },
    {
     "name": "stdout",
     "output_type": "stream",
     "text": [
      "\n",
      "Val. Epoch: 34/600. Classification loss: 0.27029. Regression loss: 1.47202. Total loss: 1.74231\n"
     ]
    },
    {
     "data": {
      "application/vnd.jupyter.widget-view+json": {
       "model_id": "ce07815f978b4e94b5c9ee092e188a20",
       "version_major": 2,
       "version_minor": 0
      },
      "text/plain": [
       "HBox(children=(HTML(value=''), FloatProgress(value=0.0, max=7185.0), HTML(value='')))"
      ]
     },
     "metadata": {},
     "output_type": "display_data"
    },
    {
     "name": "stdout",
     "output_type": "stream",
     "text": [
      "\n",
      "Val. Epoch: 35/600. Classification loss: 0.27798. Regression loss: 1.44741. Total loss: 1.72539\n"
     ]
    },
    {
     "data": {
      "application/vnd.jupyter.widget-view+json": {
       "model_id": "344c84e7deeb4a558d5e3a48ba245d67",
       "version_major": 2,
       "version_minor": 0
      },
      "text/plain": [
       "HBox(children=(HTML(value=''), FloatProgress(value=0.0, max=7185.0), HTML(value='')))"
      ]
     },
     "metadata": {},
     "output_type": "display_data"
    },
    {
     "name": "stdout",
     "output_type": "stream",
     "text": [
      "\n",
      "Val. Epoch: 36/600. Classification loss: 0.46011. Regression loss: 1.73577. Total loss: 2.19589\n"
     ]
    },
    {
     "data": {
      "application/vnd.jupyter.widget-view+json": {
       "model_id": "e656c41d44a04276842448b9997c6efa",
       "version_major": 2,
       "version_minor": 0
      },
      "text/plain": [
       "HBox(children=(HTML(value=''), FloatProgress(value=0.0, max=7185.0), HTML(value='')))"
      ]
     },
     "metadata": {},
     "output_type": "display_data"
    },
    {
     "name": "stdout",
     "output_type": "stream",
     "text": [
      "\n",
      "Val. Epoch: 37/600. Classification loss: 0.27130. Regression loss: 1.47895. Total loss: 1.75026\n"
     ]
    },
    {
     "data": {
      "application/vnd.jupyter.widget-view+json": {
       "model_id": "1423941f9a924b2a8ba8e11d2640b745",
       "version_major": 2,
       "version_minor": 0
      },
      "text/plain": [
       "HBox(children=(HTML(value=''), FloatProgress(value=0.0, max=7185.0), HTML(value='')))"
      ]
     },
     "metadata": {},
     "output_type": "display_data"
    },
    {
     "name": "stdout",
     "output_type": "stream",
     "text": [
      "\n",
      "Val. Epoch: 38/600. Classification loss: 0.29307. Regression loss: 1.47930. Total loss: 1.77237\n"
     ]
    },
    {
     "data": {
      "application/vnd.jupyter.widget-view+json": {
       "model_id": "52d7186e010541c6af1c48cbca8d50ac",
       "version_major": 2,
       "version_minor": 0
      },
      "text/plain": [
       "HBox(children=(HTML(value=''), FloatProgress(value=0.0, max=7185.0), HTML(value='')))"
      ]
     },
     "metadata": {},
     "output_type": "display_data"
    },
    {
     "name": "stdout",
     "output_type": "stream",
     "text": [
      "\n",
      "Val. Epoch: 39/600. Classification loss: 0.51163. Regression loss: 2.29717. Total loss: 2.80880\n"
     ]
    },
    {
     "data": {
      "application/vnd.jupyter.widget-view+json": {
       "model_id": "6af62a78ae2f47208685bda130e2976b",
       "version_major": 2,
       "version_minor": 0
      },
      "text/plain": [
       "HBox(children=(HTML(value=''), FloatProgress(value=0.0, max=7185.0), HTML(value='')))"
      ]
     },
     "metadata": {},
     "output_type": "display_data"
    },
    {
     "name": "stdout",
     "output_type": "stream",
     "text": [
      "\n",
      "Val. Epoch: 40/600. Classification loss: 0.26343. Regression loss: 1.46902. Total loss: 1.73245\n"
     ]
    },
    {
     "data": {
      "application/vnd.jupyter.widget-view+json": {
       "model_id": "8b9e34ad34974b8285bde05ea0ac89ac",
       "version_major": 2,
       "version_minor": 0
      },
      "text/plain": [
       "HBox(children=(HTML(value=''), FloatProgress(value=0.0, max=7185.0), HTML(value='')))"
      ]
     },
     "metadata": {},
     "output_type": "display_data"
    },
    {
     "name": "stdout",
     "output_type": "stream",
     "text": [
      "\n",
      "Val. Epoch: 41/600. Classification loss: 0.27795. Regression loss: 1.45875. Total loss: 1.73670\n"
     ]
    },
    {
     "data": {
      "application/vnd.jupyter.widget-view+json": {
       "model_id": "44b42e1ae3a34e8fa2089b22672a8848",
       "version_major": 2,
       "version_minor": 0
      },
      "text/plain": [
       "HBox(children=(HTML(value=''), FloatProgress(value=0.0, max=7185.0), HTML(value='')))"
      ]
     },
     "metadata": {},
     "output_type": "display_data"
    },
    {
     "name": "stdout",
     "output_type": "stream",
     "text": [
      "\n",
      "Val. Epoch: 42/600. Classification loss: 0.34514. Regression loss: 1.67622. Total loss: 2.02136\n"
     ]
    },
    {
     "data": {
      "application/vnd.jupyter.widget-view+json": {
       "model_id": "e0146b33e9d54dc2af6fc9a71e44f4e0",
       "version_major": 2,
       "version_minor": 0
      },
      "text/plain": [
       "HBox(children=(HTML(value=''), FloatProgress(value=0.0, max=7185.0), HTML(value='')))"
      ]
     },
     "metadata": {},
     "output_type": "display_data"
    },
    {
     "name": "stdout",
     "output_type": "stream",
     "text": [
      "\n",
      "Val. Epoch: 43/600. Classification loss: 0.55686. Regression loss: 1.96157. Total loss: 2.51843\n"
     ]
    },
    {
     "data": {
      "application/vnd.jupyter.widget-view+json": {
       "model_id": "465004d37abc4e05ae25e909822f9e02",
       "version_major": 2,
       "version_minor": 0
      },
      "text/plain": [
       "HBox(children=(HTML(value=''), FloatProgress(value=0.0, max=7185.0), HTML(value='')))"
      ]
     },
     "metadata": {},
     "output_type": "display_data"
    },
    {
     "name": "stdout",
     "output_type": "stream",
     "text": [
      "\n",
      "Val. Epoch: 44/600. Classification loss: 0.42633. Regression loss: 1.62748. Total loss: 2.05381\n"
     ]
    },
    {
     "data": {
      "application/vnd.jupyter.widget-view+json": {
       "model_id": "a1899c3f7336438fbc5a7b68a6acf88d",
       "version_major": 2,
       "version_minor": 0
      },
      "text/plain": [
       "HBox(children=(HTML(value=''), FloatProgress(value=0.0, max=7185.0), HTML(value='')))"
      ]
     },
     "metadata": {},
     "output_type": "display_data"
    }
   ],
   "source": [
    "epoch = 0\n",
    "best_loss = 1e5\n",
    "best_epoch = 0\n",
    "step = max(0, last_step)\n",
    "model.train()\n",
    "\n",
    "num_iter_per_epoch = len(training_generator)\n",
    "train_avg_losses = []\n",
    "train_avg_cls_losses = []\n",
    "train_avg_reg_losses = []\n",
    "val_avg_losses = []\n",
    "val_avg_cls_losses = []\n",
    "val_avg_reg_losses = []\n",
    "\n",
    "try:\n",
    "    for epoch in range(opt['num_epochs']+1):\n",
    "        last_epoch = step // num_iter_per_epoch\n",
    "        if epoch < last_epoch:\n",
    "            continue\n",
    "\n",
    "        train_losses = []\n",
    "        train_cls_losses = []\n",
    "        train_reg_losses = []\n",
    "        val_losses = []\n",
    "        val_cls_losses = []\n",
    "        val_reg_losses = []\n",
    "        \n",
    "        progress_bar = tqdm(training_generator)\n",
    "        for iter, data in enumerate(progress_bar):\n",
    "                \n",
    "            imgs = data['img']\n",
    "            annot = data['annot']\n",
    "\n",
    "            if params.num_gpus == 1:\n",
    "                # if only one gpu, just send it to cuda:0\n",
    "                # elif multiple gpus, send it to multiple gpus in CustomDataParallel, not here\n",
    "                imgs = imgs.cuda()\n",
    "                annot = annot.cuda()\n",
    "            \n",
    "            optimizer.zero_grad()\n",
    "            cls_loss, reg_loss = model(imgs, annot, obj_list=params.obj_list)\n",
    "            cls_loss = cls_loss.mean()\n",
    "            reg_loss = reg_loss.mean()\n",
    "\n",
    "            loss = cls_loss + reg_loss\n",
    "            if loss == 0 or not torch.isfinite(loss):\n",
    "                continue\n",
    "\n",
    "            loss.backward()\n",
    "            # torch.nn.utils.clip_grad_norm_(model.parameters(), 0.1)\n",
    "            optimizer.step()\n",
    "\n",
    "            train_losses.append(loss.item())\n",
    "            train_cls_losses.append(cls_loss.item())\n",
    "            train_reg_losses.append(reg_loss.item())\n",
    "            \n",
    "            progress_bar.set_description(\n",
    "               'Step: {}. Epoch: {}/{}. Iteration: {}/{}. Cls loss: {:.5f}. Reg loss: {:.5f}. Total loss: {:.5f}'.format(\n",
    "                   step, epoch, opt['num_epochs'], iter + 1, num_iter_per_epoch, cls_loss.item(),\n",
    "                   reg_loss.item(), loss.item()))\n",
    "            \n",
    "            step += 1\n",
    "\n",
    "            #if step % opt['save_interval'] == 0 and step > 0:\n",
    "            #    save_checkpoint(model, 'efficientdet-d{}_{}_{}.pth'.format(opt['compound_coef'],epoch,step))\n",
    "            #    print('checkpoint...')\n",
    "        \n",
    "        train_avg_loss = torch.mean(torch.FloatTensor(train_losses))\n",
    "        train_avg_losses.append(train_avg_loss.item())\n",
    "        train_avg_cls_loss = torch.mean(torch.FloatTensor(train_cls_losses))\n",
    "        train_avg_cls_losses.append(train_avg_cls_loss.item())        \n",
    "        train_avg_reg_loss = torch.mean(torch.FloatTensor(train_reg_losses))\n",
    "        train_avg_reg_losses.append(train_avg_reg_loss.item())               \n",
    "        \n",
    "        writer.add_scalars('Loss', {'train': train_avg_loss}, epoch)\n",
    "        writer.add_scalars('Regression_loss', {'train': train_avg_reg_loss}, epoch)\n",
    "        writer.add_scalars('Classfication_loss', {'train': train_avg_cls_loss}, epoch)\n",
    "        \n",
    "        # log learning_rate\n",
    "        current_lr = optimizer.param_groups[0]['lr']\n",
    "        writer.add_scalar('learning_rate', current_lr, epoch)          \n",
    "\n",
    "        scheduler.step(train_avg_loss)\n",
    "\n",
    "        model.eval()\n",
    "        with torch.no_grad():\n",
    "            for iter, data in enumerate(val_generator):\n",
    "                imgs = data['img']\n",
    "                annot = data['annot']\n",
    "\n",
    "                if params.num_gpus == 1:\n",
    "                    # if only one gpu, just send it to cuda:0\n",
    "                    # elif multiple gpus, send it to multiple gpus in CustomDataParallel, not here\n",
    "                    imgs = imgs.cuda()\n",
    "                    annot = annot.cuda()\n",
    "\n",
    "                cls_loss, reg_loss = model(imgs, annot, obj_list=params.obj_list)\n",
    "                cls_loss = cls_loss.mean()\n",
    "                reg_loss = reg_loss.mean()\n",
    "                \n",
    "                loss = cls_loss + reg_loss\n",
    "\n",
    "                if loss == 0 or not torch.isfinite(loss):\n",
    "                    continue\n",
    "                \n",
    "                val_losses.append(loss.item())\n",
    "                val_cls_losses.append(cls_loss.item())\n",
    "                val_reg_losses.append(reg_loss.item())\n",
    "                      \n",
    "        val_avg_loss = torch.mean(torch.FloatTensor(val_losses))\n",
    "        val_avg_losses.append(val_avg_loss.item())\n",
    "        val_avg_cls_loss = torch.mean(torch.FloatTensor(val_cls_losses))\n",
    "        val_avg_cls_losses.append(val_avg_cls_loss.item())\n",
    "        val_avg_reg_loss = torch.mean(torch.FloatTensor(val_reg_losses))\n",
    "        val_avg_reg_losses.append(val_avg_reg_loss.item())\n",
    "\n",
    "        print(\n",
    "            'Val. Epoch: {}/{}. Classification loss: {:1.5f}. Regression loss: {:1.5f}. Total loss: {:1.5f}'.format(\n",
    "                epoch, opt['num_epochs'], val_avg_cls_loss.item(), val_avg_reg_loss.item(), val_avg_loss.item()))\n",
    "        \n",
    "        writer.add_scalars('Loss', {'val': val_avg_loss}, epoch)\n",
    "        writer.add_scalars('Regression_loss', {'val': val_avg_reg_loss}, epoch)\n",
    "        writer.add_scalars('Classfication_loss', {'val': val_avg_cls_loss}, epoch)\n",
    "        \n",
    "        if val_avg_loss + opt['es_min_delta'] < best_loss:\n",
    "            best_loss = val_avg_loss\n",
    "            best_epoch = epoch\n",
    "\n",
    "            save_checkpoint(model, 'efficientdet-d{}_{}_{}.pth'.format(opt['compound_coef'],epoch,step))\n",
    "\n",
    "        model.train()\n",
    "        \n",
    "        # Early stopping\n",
    "        if epoch - best_epoch > opt['es_patience'] > 0:\n",
    "            print('[Info] Stop training at epoch {}. The lowest loss achieved is {}'.format(epoch, best_loss))\n",
    "            break\n",
    "                \n",
    "except KeyboardInterrupt:\n",
    "    save_checkpoint(model, 'efficientdet-d{}_{}_{}.pth'.format(opt['compound_coef'], epoch, step))\n",
    "    writer.close()\n",
    "writer.close()    "
   ]
  },
  {
   "cell_type": "markdown",
   "metadata": {},
   "source": [
    "# Restore Checkpoint"
   ]
  },
  {
   "cell_type": "code",
   "execution_count": 13,
   "metadata": {},
   "outputs": [
    {
     "data": {
      "image/png": "[encoded data removed]",
      "text/plain": [
       "<Figure size 360x360 with 1 Axes>"
      ]
     },
     "metadata": {
      "needs_background": "light"
     },
     "output_type": "display_data"
    }
   ],
   "source": [
    "img_path = val_image_paths[0]\n",
    "weight_path = \"./logs/hemorrhage_binary/d0/efficientdet-d0_26_193995.pth\"\n",
    "visualization(img_path, weight_path, 0.1, 0.1)"
   ]
  },
  {
   "cell_type": "code",
   "execution_count": null,
   "metadata": {},
   "outputs": [],
   "source": [
    "save_result(test_image_paths, weight_path, 1000, 0.1, 0.1) "
   ]
  },
  {
   "cell_type": "markdown",
   "metadata": {},
   "source": [
    "# Evaluation"
   ]
  },
  {
   "cell_type": "code",
   "execution_count": 35,
   "metadata": {
    "scrolled": true
   },
   "outputs": [
    {
     "name": "stdout",
     "output_type": "stream",
     "text": [
      "Images: 10000/10000  AP: 0.104 AP05 0.390 AP10: 0.380 AP25: 0.336 AP50: 0.239 AP75: 0.078\t\t\t\t\t                    AR: 0.112 AR05: 0.281 AR10: 0.277 AR25: 0.258 AR50: 0.211 AR75: 0.106\r"
     ]
    }
   ],
   "source": [
    "metric_fn = eval_bbox(\n",
    "    test_image_paths, test_mask_paths, weight_path, len(params.obj_list), 0.1, 0.1)"
   ]
  },
  {
   "cell_type": "code",
   "execution_count": 15,
   "metadata": {},
   "outputs": [
    {
     "name": "stdout",
     "output_type": "stream",
     "text": [
      "Images: 10000/10000  Precision: 1.000 Recall: 0.845 Specificity: 0.000 Accuracy: 0.845 F1 score: 0.916\r"
     ]
    }
   ],
   "source": [
    "tp, fp, tn, fn = eval_class(test_image_paths, len(test_image_paths), weight_path, 0.1, 0.1)"
   ]
  },
  {
   "cell_type": "code",
   "execution_count": null,
   "metadata": {},
   "outputs": [],
   "source": []
  }
 ],
 "metadata": {
  "kernelspec": {
   "display_name": "Python 3",
   "language": "python",
   "name": "python3"
  },
  "language_info": {
   "codemirror_mode": {
    "name": "ipython",
    "version": 3
   },
   "file_extension": ".py",
   "mimetype": "text/x-python",
   "name": "python",
   "nbconvert_exporter": "python",
   "pygments_lexer": "ipython3",
   "version": "3.8.5"
  }
 },
 "nbformat": 4,
 "nbformat_minor": 4
}
