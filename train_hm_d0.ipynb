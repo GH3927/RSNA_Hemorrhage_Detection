{
 "cells": [
  {
   "cell_type": "code",
   "execution_count": 23,
   "metadata": {},
   "outputs": [],
   "source": [
    "import argparse\n",
    "import datetime\n",
    "import os\n",
    "import traceback\n",
    "import cv2\n",
    "import numpy as np\n",
    "import torch\n",
    "import yaml\n",
    "from torch import nn\n",
    "from torch.utils.data import DataLoader\n",
    "from torchvision import transforms\n",
    "from tqdm.autonotebook import tqdm\n",
    "from glob import glob\n",
    "from backbone import EfficientDetBackbone\n",
    "from efficientdet.dataset import HmDataset, Resizer, Normalizer, Augmenter, collater, get_bbox\n",
    "from efficientdet.loss import FocalLoss\n",
    "from utils.sync_batchnorm import patch_replication_callback\n",
    "from utils.utils import replace_w_sync_bn, CustomDataParallel, get_last_weights, init_weights, boolean_string\n",
    "from efficientdet.utils import BBoxTransform, ClipBoxes\n",
    "from utils.utils import preprocess, invert_affine, postprocess\n",
    "from torch.backends import cudnn\n",
    "import matplotlib.pyplot as plt\n",
    "import matplotlib.patches as patches\n",
    "import PIL.Image as Image\n",
    "from tensorboardX import SummaryWriter\n",
    "from mean_average_precision import MeanAveragePrecision\n",
    "import seaborn as sns\n",
    "import csv\n",
    "import warnings\n",
    "import math\n",
    "warnings.filterwarnings(action='ignore')\n",
    "%matplotlib inline\n",
    "#torch.autograd.set_detect_anomaly(True)"
   ]
  },
  {
   "cell_type": "markdown",
   "metadata": {},
   "source": [
    "# Hyperparameter"
   ]
  },
  {
   "cell_type": "code",
   "execution_count": 2,
   "metadata": {},
   "outputs": [],
   "source": [
    "opt = {\n",
    "    'project':'hemorrhage',\n",
    "    'compound_coef':0,\n",
    "    'num_workers':12,\n",
    "    'batch_size':12*torch.cuda.device_count(),\n",
    "    'test_batch_size':1,\n",
    "    'head_only':False,\n",
    "    'lr':1e-3,\n",
    "    'optim':'adamw',\n",
    "    'num_epochs':600,\n",
    "    'val_interval':1,\n",
    "    'save_interval':1000,\n",
    "    'es_min_delta':0.0,\n",
    "    'es_patience':0.0,\n",
    "    'data_path':'../Hemorrhage_dataset/',\n",
    "    'log_path':'logs/',\n",
    "    'load_weights':'weights/efficientdet-d0.pth',\n",
    "    'saved_path':'logs/',\n",
    "    'debug':False,\n",
    "}\n",
    "\n",
    "class Params:\n",
    "    def __init__(self, project_file):\n",
    "        self.params = yaml.safe_load(open(project_file).read())\n",
    "\n",
    "    def __getattr__(self, item):\n",
    "        return self.params.get(item, None)\n",
    "\n",
    "params = Params(f'projects/'+opt['project']+'.yml')\n",
    "\n",
    "if params.num_gpus == 0:\n",
    "    os.environ['CUDA_VISIBLE_DEVICES'] = '-1'\n",
    "\n",
    "if torch.cuda.is_available():\n",
    "    torch.cuda.manual_seed(42)\n",
    "else:\n",
    "    torch.manual_seed(42)\n",
    "\n",
    "opt['saved_path'] = opt['saved_path'] + f'/{params.project_name}/'\n",
    "opt['log_path'] = opt['log_path'] + f'/{params.project_name}/tensorboard/'\n",
    "os.makedirs(opt['log_path'], exist_ok=True)\n",
    "os.makedirs(opt['saved_path'], exist_ok=True)\n",
    "\n",
    "training_params = {'batch_size': opt['batch_size'],\n",
    "                   'shuffle': True,\n",
    "                   'drop_last': True,\n",
    "                   'collate_fn': collater,\n",
    "                   'num_workers': opt['num_workers']}\n",
    "\n",
    "val_params = {'batch_size': opt['batch_size'],\n",
    "              'shuffle': False,\n",
    "              'drop_last': True,\n",
    "              'collate_fn': collater,\n",
    "              'num_workers': opt['num_workers']}\n",
    "\n",
    "test_params = {'batch_size': opt['test_batch_size'],\n",
    "              'shuffle': False,\n",
    "              'drop_last': True,\n",
    "              'collate_fn': collater,\n",
    "              'num_workers': opt['num_workers']}\n",
    "\n",
    "input_sizes = [512, 640, 768, 896, 1024, 1280, 1280, 1536, 1536]"
   ]
  },
  {
   "cell_type": "markdown",
   "metadata": {},
   "source": [
    "# Utils"
   ]
  },
  {
   "cell_type": "code",
   "execution_count": 3,
   "metadata": {},
   "outputs": [],
   "source": [
    "class ModelWithLoss(nn.Module):\n",
    "    def __init__(self, model, debug=False):\n",
    "        super().__init__()\n",
    "        self.criterion = FocalLoss()\n",
    "        self.model = model\n",
    "        self.debug = debug\n",
    "\n",
    "    def forward(self, imgs, annotations, obj_list=None):\n",
    "        _, regression, classification, anchors = self.model(imgs)\n",
    "        if self.debug:\n",
    "            cls_loss, reg_loss = self.criterion(classification, regression, anchors, annotations,\n",
    "                                                imgs=imgs, obj_list=obj_list)\n",
    "        else:\n",
    "            cls_loss, reg_loss = self.criterion(classification, regression, anchors, annotations)\n",
    "        return cls_loss, reg_loss\n",
    "\n",
    "def save_checkpoint(model, name):\n",
    "    if isinstance(model, CustomDataParallel):\n",
    "        torch.save(model.module.model.state_dict(), os.path.join(opt['saved_path'], name))\n",
    "    else:\n",
    "        torch.save(model.model.state_dict(), os.path.join(opt['saved_path'], name))"
   ]
  },
  {
   "cell_type": "code",
   "execution_count": 4,
   "metadata": {},
   "outputs": [],
   "source": [
    "def visualization(img_path, weight_path=opt['load_weights'], threshold=0.2, iou_threshold=0.2):\n",
    "    \n",
    "    # Bounding-box colors\n",
    "    cmap = plt.get_cmap(\"tab20b\")\n",
    "    colors = [cmap(i) for i in np.linspace(0, 1, len(params.obj_list))]\n",
    "\n",
    "    fig, ax0 = plt.subplots(figsize=(5,5))\n",
    "    \n",
    "    cudnn.fastest = True\n",
    "    cudnn.benchmark = True\n",
    "\n",
    "    # tf bilinear interpolation is different from any other's, just make do\n",
    "    input_size = input_sizes[opt['compound_coef']]\n",
    "    ori_imgs, framed_imgs, framed_metas = preprocess(img_path, max_size=input_size, mean=params.mean, std=params.std)\n",
    "    \n",
    "    if torch.cuda.is_available():\n",
    "        x = torch.stack([torch.from_numpy(fi).cuda() for fi in framed_imgs], 0)\n",
    "    else:\n",
    "        x = torch.stack([torch.from_numpy(fi) for fi in framed_imgs], 0)\n",
    "\n",
    "    x = x.to(torch.float32).permute(0, 3, 1, 2)\n",
    "\n",
    "    model_eval = EfficientDetBackbone(num_classes=len(params.obj_list), compound_coef=opt['compound_coef'],\n",
    "                                 ratios=eval(params.anchors_ratios), scales=eval(params.anchors_scales))\n",
    "    \n",
    "    try:\n",
    "        model_eval.load_state_dict(torch.load(weight_path))\n",
    "    except:\n",
    "        print('The rest of the weights should be loaded already.')\n",
    "        \n",
    "    model_eval.requires_grad_(False)\n",
    "    model_eval.eval()\n",
    "\n",
    "    if torch.cuda.is_available():\n",
    "        model_eval = model_eval.cuda()\n",
    "\n",
    "    with torch.no_grad():\n",
    "        features, regression, classification, anchors = model_eval(x)\n",
    "\n",
    "        regressBoxes = BBoxTransform()\n",
    "        clipBoxes = ClipBoxes()\n",
    "\n",
    "        out = postprocess(x,\n",
    "                          anchors, regression, classification,\n",
    "                          regressBoxes, clipBoxes,\n",
    "                          threshold, iou_threshold)\n",
    "\n",
    "    out = invert_affine(framed_metas, out)\n",
    "\n",
    "    for i in range(len(ori_imgs)):\n",
    "        if len(out[i]['rois']) == 0:\n",
    "            continue\n",
    "        ori_imgs[i] = ori_imgs[i].copy()\n",
    "        for j in range(len(out[i]['rois'])):\n",
    "            (x1, y1, x2, y2) = out[i]['rois'][j].astype(np.int)\n",
    "            obj = params.obj_list[out[i]['class_ids'][j]]\n",
    "            score = float(out[i]['scores'][j])\n",
    "                       \n",
    "            color = colors[out[i]['class_ids'][j]]\n",
    "            bbox = patches.Rectangle((x1, y1), x2-x1, y2-y1, linewidth=2, edgecolor=color, facecolor=\"none\")\n",
    "            \n",
    "            ax0.add_patch(bbox)\n",
    "            # Add label\n",
    "            ax0.text(\n",
    "                x1,\n",
    "                y2,\n",
    "                s=\"{} {:.3f}\".format(obj,score),\n",
    "                color=\"white\",\n",
    "                verticalalignment=\"top\", \n",
    "                bbox={\"color\": color, \"pad\": 0},   \n",
    "            )\n",
    "\n",
    "    ax0.imshow(ori_imgs[i])\n",
    "    ax0.axis(\"off\")"
   ]
  },
  {
   "cell_type": "code",
   "execution_count": 5,
   "metadata": {},
   "outputs": [],
   "source": [
    "def save_result(image_paths, number, weight_path=opt['load_weights'], threshold=0.2, iou_threshold=0.2):\n",
    "    # Bounding-box colors\n",
    "    for num in range(0,number):\n",
    "        img_path = image_paths[num]\n",
    "\n",
    "        cmap = plt.get_cmap(\"tab20b\")\n",
    "        colors = [cmap(i) for i in np.linspace(0, 1, len(params.obj_list))]\n",
    "\n",
    "        fig, (ax0, ax1) = plt.subplots(1, 2, figsize=(12,12))\n",
    "\n",
    "        cudnn.fastest = True\n",
    "        cudnn.benchmark = True\n",
    "\n",
    "        # tf bilinear interpolation is different from any other's, just make do\n",
    "        input_size = input_sizes[opt['compound_coef']]\n",
    "        ori_imgs, framed_imgs, framed_metas = preprocess(img_path, max_size=input_size, mean=params.mean, std=params.std)\n",
    "\n",
    "        if torch.cuda.is_available():\n",
    "            x = torch.stack([torch.from_numpy(fi).cuda() for fi in framed_imgs], 0)\n",
    "        else:\n",
    "            x = torch.stack([torch.from_numpy(fi) for fi in framed_imgs], 0)\n",
    "\n",
    "        x = x.to(torch.float32).permute(0, 3, 1, 2)\n",
    "\n",
    "        model_eval = EfficientDetBackbone(num_classes=len(params.obj_list), compound_coef=opt['compound_coef'],\n",
    "                                     ratios=eval(params.anchors_ratios), scales=eval(params.anchors_scales))\n",
    "\n",
    "        try:\n",
    "            model_eval.load_state_dict(torch.load(weight_path))\n",
    "        except:\n",
    "            print('The rest of the weights should be loaded already.')\n",
    "\n",
    "        model_eval.requires_grad_(False)\n",
    "        model_eval.eval()\n",
    "\n",
    "        if torch.cuda.is_available():\n",
    "            model_eval = model_eval.cuda()\n",
    "\n",
    "        with torch.no_grad():\n",
    "            features, regression, classification, anchors = model_eval(x)\n",
    "\n",
    "            regressBoxes = BBoxTransform()\n",
    "            clipBoxes = ClipBoxes()\n",
    "\n",
    "            out = postprocess(x,\n",
    "                              anchors, regression, classification,\n",
    "                              regressBoxes, clipBoxes,\n",
    "                              threshold, iou_threshold)\n",
    "\n",
    "        out = invert_affine(framed_metas, out)\n",
    "\n",
    "        for i in range(len(ori_imgs)):\n",
    "            if len(out[i]['rois']) == 0:\n",
    "                continue\n",
    "            ori_imgs[i] = ori_imgs[i].copy()\n",
    "            for j in range(len(out[i]['rois'])):\n",
    "                (x1, y1, x2, y2) = out[i]['rois'][j].astype(np.int)\n",
    "                obj = params.obj_list[out[i]['class_ids'][j]]\n",
    "                score = float(out[i]['scores'][j])\n",
    "\n",
    "                color = colors[out[i]['class_ids'][j]]\n",
    "                bbox = patches.Rectangle((x1, y1), x2-x1, y2-y1, linewidth=2, edgecolor=color, facecolor=\"none\")\n",
    "\n",
    "                ax0.add_patch(bbox)\n",
    "                # Add label\n",
    "                ax0.text(\n",
    "                    x1,\n",
    "                    y2,\n",
    "                    s=\"{} {:.3f}\".format(obj,score),\n",
    "                    color=\"white\",\n",
    "                    verticalalignment=\"top\", \n",
    "                    bbox={\"color\": color, \"pad\": 0},   \n",
    "                )\n",
    "        # Get specific val images\n",
    "        data = test_set.__getitem__(num) # Convert to 4d tensor (BxNxHxW)\n",
    "        test_image = data['img'].unsqueeze(0)\n",
    "        test_image = ((test_image - test_image.min()) / (test_image.max() - test_image.min()))\n",
    "\n",
    "        for i in range(0,data['annot'].shape[0]):\n",
    "            [x1,y1,x2,y2,cls] = data['annot'][i].numpy()\n",
    "            color = colors[int(cls)]\n",
    "            bbox = patches.Rectangle((x1, y1), x2-x1, y2-y1, linewidth=2, edgecolor=color, facecolor=\"none\")\n",
    "            ax1.add_patch(bbox)\n",
    "            # Add label\n",
    "            ax1.text(\n",
    "                x1,\n",
    "                y2,\n",
    "                s=params.obj_list[int(cls)],\n",
    "                color=\"white\",\n",
    "                verticalalignment=\"top\", \n",
    "                bbox={\"color\": color, \"pad\": 0},   \n",
    "            )\n",
    "\n",
    "        ax0.imshow(ori_imgs[0])\n",
    "        ax0.set_title('Prediction')\n",
    "        ax0.axis('off')\n",
    "        ax1.imshow(test_image[0])\n",
    "        ax1.set_title('Ground truth')\n",
    "        ax1.axis('off')\n",
    "        fig.savefig('./test/hemorrhage/result_{}'.format(num))"
   ]
  },
  {
   "cell_type": "code",
   "execution_count": 6,
   "metadata": {},
   "outputs": [],
   "source": [
    "def eval_bbox(image_paths, mask_paths, weight_path=opt['load_weights'], cls_num=1, threshold=0.2, iou_threshold=0.2):\n",
    "    \n",
    "    # create metric_fn\n",
    "    metric_fn = MeanAveragePrecision(num_classes=len(params.obj_list))\n",
    "    \n",
    "    cudnn.fastest = True\n",
    "    cudnn.benchmark = True\n",
    "\n",
    "    model_eval = EfficientDetBackbone(num_classes=len(params.obj_list), compound_coef=opt['compound_coef'],\n",
    "                                 ratios=eval(params.anchors_ratios), scales=eval(params.anchors_scales))\n",
    "    \n",
    "    try:\n",
    "        model_eval.load_state_dict(torch.load(weight_path))\n",
    "    except:\n",
    "        print('The rest of the weights should be loaded already.')\n",
    "        \n",
    "    model_eval.requires_grad_(False)\n",
    "    model_eval.eval()\n",
    "\n",
    "    if torch.cuda.is_available():\n",
    "        model_eval = model_eval.cuda()  \n",
    "    \n",
    "    # tf bilinear interpolation is different from any other's, just make do\n",
    "    input_size = input_sizes[opt['compound_coef']]\n",
    "    \n",
    "    step = 1\n",
    "    \n",
    "    with torch.no_grad():\n",
    "        for image_path, mask_path in zip(image_paths, mask_paths):\n",
    "            \n",
    "            \n",
    "            preds = np.zeros((0,6))\n",
    "            gts = np.zeros((0,7))\n",
    "\n",
    "            ori_imgs, framed_imgs, framed_metas = preprocess(\n",
    "                image_path, max_size=input_sizes[opt['compound_coef']], mean=params.mean, std=params.std)\n",
    "            \n",
    "            mask = np.array(Image.open(mask_path))\n",
    "            annots = get_bbox(mask, cls_num)\n",
    "            for annot in annots:\n",
    "                gts = np.append(gts, [[annot[0],annot[1],annot[2],annot[3],annot[4],0,0]], axis=0)\n",
    "            \n",
    "            if torch.cuda.is_available():\n",
    "                x = torch.stack([torch.from_numpy(fi).cuda() for fi in framed_imgs], 0)\n",
    "            else:\n",
    "                x = torch.stack([torch.from_numpy(fi) for fi in framed_imgs], 0)\n",
    "\n",
    "            x = x.to(torch.float32).permute(0, 3, 1, 2)\n",
    "\n",
    "            features, regression, classification, anchors = model_eval(x)\n",
    "\n",
    "            regressBoxes = BBoxTransform()\n",
    "            clipBoxes = ClipBoxes()\n",
    "\n",
    "            out = postprocess(x,\n",
    "                              anchors, regression, classification,\n",
    "                              regressBoxes, clipBoxes,\n",
    "                              threshold, iou_threshold)\n",
    "\n",
    "            out = invert_affine(framed_metas, out)\n",
    "\n",
    "            for i in range(len(ori_imgs)):\n",
    "                if len(out[i]['rois']) == 0:\n",
    "                    continue\n",
    "                for j in range(len(out[i]['rois'])):\n",
    "                    (x1, y1, x2, y2) = out[i]['rois'][j].astype(np.int)\n",
    "                    obj = params.obj_list[out[i]['class_ids'][j]]\n",
    "                    score = float(out[i]['scores'][j])\n",
    "                    preds = np.append(preds, [[x1,y1,x2,y2,out[i]['class_ids'][j],score]], axis=0)\n",
    "                    \n",
    "            # add some samples to evaluation\n",
    "            metric_fn.add(preds, gts)\n",
    "\n",
    "            if step%(len(image_paths)/20)==0:\n",
    "                \n",
    "                AR = []\n",
    "                AR05 = []\n",
    "                AR10 = []\n",
    "                AR25 = []\n",
    "                AR50 = []\n",
    "                AR75 = []\n",
    "\n",
    "                for cls in range(len(params.obj_list)):\n",
    "                    if not(math.isnan(metric_fn.value(iou_thresholds=0.05)[0.05][cls]['recall'].mean())):\n",
    "                        AR05.append(metric_fn.value(iou_thresholds=0.05)[0.05][cls]['recall'].mean())\n",
    "                    if not(math.isnan(metric_fn.value(iou_thresholds=0.1)[0.1][cls]['recall'].mean())):\n",
    "                        AR10.append(metric_fn.value(iou_thresholds=0.1)[0.1][cls]['recall'].mean())\n",
    "                    if not(math.isnan(metric_fn.value(iou_thresholds=0.25)[0.25][cls]['recall'].mean())):\n",
    "                        AR25.append(metric_fn.value(iou_thresholds=0.25)[0.25][cls]['recall'].mean())\n",
    "                    if not(math.isnan(metric_fn.value(iou_thresholds=0.5)[0.5][cls]['recall'].mean())):\n",
    "                        AR50.append(metric_fn.value(iou_thresholds=0.5)[0.5][cls]['recall'].mean())\n",
    "                    if not(math.isnan(metric_fn.value(iou_thresholds=0.75)[0.75][cls]['recall'].mean())):\n",
    "                        AR75.append(metric_fn.value(iou_thresholds=0.75)[0.75][cls]['recall'].mean())\n",
    "\n",
    "                AR05 = np.array(AR05).mean()\n",
    "                AR10 = np.array(AR10).mean()\n",
    "                AR25 = np.array(AR25).mean()\n",
    "                AR50 = np.array(AR50).mean()    \n",
    "                AR75 = np.array(AR75).mean()\n",
    "\n",
    "                for cls in range(len(params.obj_list)):\n",
    "                    for thr in np.arange(0.5, 1.0, 0.05):\n",
    "                        if not(math.isnan(metric_fn.value(iou_thresholds=np.arange(0.5, 1.0, 0.05))[thr][cls]['recall'].mean())):\n",
    "                            AR.append(metric_fn.value(iou_thresholds=np.arange(0.5, 1.0, 0.05))[thr][cls]['recall'].mean()) \n",
    "                AR = np.array(AR).mean()\n",
    "                \n",
    "                print(\n",
    "                   'Images: {}/{}  AP: {:.3f} AP05 {:.3f} AP10: {:.3f} AP25: {:.3f} AP50: {:.3f} AP75: {:.3f}\\t\\t\\t\\t\\t\\\n",
    "                    AR: {:.3f} AR05: {:.3f} AR10: {:.3f} AR25: {:.3f} AR50: {:.3f} AR75: {:.3f}\\r'.format(\n",
    "                       step, len(image_paths),\n",
    "                       metric_fn.value(iou_thresholds=np.arange(0.5, 1.0, 0.05))['mAP'],\n",
    "                       metric_fn.value(iou_thresholds=0.05)['mAP'], metric_fn.value(iou_thresholds=0.1)['mAP'],\n",
    "                       metric_fn.value(iou_thresholds=0.25)['mAP'], metric_fn.value(iou_thresholds=0.5)['mAP'],\n",
    "                       metric_fn.value(iou_thresholds=0.75)['mAP'],\n",
    "                       AR, AR05, AR10, AR25, AR50, AR75), end=\"\")\n",
    "                \n",
    "            step+=1\n",
    "            \n",
    "    return metric_fn"
   ]
  },
  {
   "cell_type": "code",
   "execution_count": 7,
   "metadata": {},
   "outputs": [],
   "source": [
    "def eval_class(image_paths, num_image, weight_path=opt['load_weights'], threshold=0.2, iou_threshold=0.2):\n",
    "    # Bounding-box colors\n",
    "    \n",
    "    tp = 0\n",
    "    fp = 0\n",
    "    tn = 0\n",
    "    fn = 0\n",
    "    obj_list = [i for i in range(len(params.obj_list))]\n",
    "    eps = 1e-10\n",
    "    \n",
    "    for num in range(0,num_image):\n",
    "        \n",
    "        obj_pred = []\n",
    "        obj_gt = []\n",
    "        \n",
    "        img_path = image_paths[num]\n",
    "\n",
    "        cudnn.fastest = True\n",
    "        cudnn.benchmark = True\n",
    "\n",
    "        # tf bilinear interpolation is different from any other's, just make do\n",
    "        input_size = input_sizes[opt['compound_coef']]\n",
    "        ori_imgs, framed_imgs, framed_metas = preprocess(img_path, max_size=input_size, mean=params.mean, std=params.std)\n",
    "\n",
    "        if torch.cuda.is_available():\n",
    "            x = torch.stack([torch.from_numpy(fi).cuda() for fi in framed_imgs], 0)\n",
    "        else:\n",
    "            x = torch.stack([torch.from_numpy(fi) for fi in framed_imgs], 0)\n",
    "\n",
    "        x = x.to(torch.float32).permute(0, 3, 1, 2)\n",
    "\n",
    "        model_eval = EfficientDetBackbone(num_classes=len(params.obj_list), compound_coef=opt['compound_coef'],\n",
    "                                     ratios=eval(params.anchors_ratios), scales=eval(params.anchors_scales))\n",
    "\n",
    "        try:\n",
    "            model_eval.load_state_dict(torch.load(weight_path))\n",
    "        except:\n",
    "            print('The rest of the weights should be loaded already.')\n",
    "\n",
    "        model_eval.requires_grad_(False)\n",
    "        model_eval.eval()\n",
    "\n",
    "        if torch.cuda.is_available():\n",
    "            model_eval = model_eval.cuda()\n",
    "\n",
    "        with torch.no_grad():\n",
    "            features, regression, classification, anchors = model_eval(x)\n",
    "\n",
    "            regressBoxes = BBoxTransform()\n",
    "            clipBoxes = ClipBoxes()\n",
    "\n",
    "            out = postprocess(x,\n",
    "                              anchors, regression, classification,\n",
    "                              regressBoxes, clipBoxes,\n",
    "                              threshold, iou_threshold)\n",
    "\n",
    "        out = invert_affine(framed_metas, out)\n",
    "\n",
    "        for i in range(len(ori_imgs)):\n",
    "            if len(out[i]['rois']) == 0:\n",
    "                continue\n",
    "            ori_imgs[i] = ori_imgs[i].copy()\n",
    "            for j in range(len(out[i]['rois'])):\n",
    "                obj_pred.append(out[i]['class_ids'][j])\n",
    "\n",
    "        # Get specific val images\n",
    "        data = test_set.__getitem__(num) # Convert to 4d tensor (BxNxHxW)\n",
    "\n",
    "        for i in range(0,data['annot'].shape[0]):\n",
    "            [x1,y1,x2,y2,cls] = data['annot'][i].numpy()\n",
    "            obj_gt.append(int(cls))\n",
    "        \n",
    "        if len(obj_pred)>0:\n",
    "            for i in range(len(obj_pred)):\n",
    "                if obj_pred[i] in obj_gt:\n",
    "                    tp += 1\n",
    "                else: fp += 1\n",
    "        \n",
    "        if len(obj_gt)>0:\n",
    "            for i in range(len(obj_gt)):\n",
    "                if obj_gt[i] not in obj_pred:\n",
    "                    fn += 1\n",
    "        \n",
    "        not_gt = [x for x in obj_list if x not in obj_gt]\n",
    "        if len(not_gt)>0:\n",
    "            for i in not_gt:\n",
    "                if i not in obj_pred:\n",
    "                    tn += 1\n",
    "    \n",
    "        print(\n",
    "           'Images: {}/{}  Precision: {:.3f} Recall: {:.3f} Specificity: {:.3f} Accuracy: {:.3f} F1 score: {:.3f}\\r'.format(\n",
    "               num+1, num_image,\n",
    "               tp/(tp+fp+eps),\n",
    "               tp/(tp+fn+eps),\n",
    "               tn/(tn+fp+eps),\n",
    "               (tp+tn)/(tp+tn+fp+fn+eps),\n",
    "               (2*tp)/(2*tp+fp+fn+eps)), end=\"\")    \n",
    "\n",
    "    return tp, fp, tn, fn"
   ]
  },
  {
   "cell_type": "code",
   "execution_count": 8,
   "metadata": {},
   "outputs": [],
   "source": [
    "def eval_each_class(image_paths, num_image, weight_path=opt['load_weights'], class_number=0, threshold=0.2, iou_threshold=0.2):\n",
    "    # Bounding-box colors\n",
    "    \n",
    "    tp = 0\n",
    "    fp = 0\n",
    "    tn = 0\n",
    "    fn = 0\n",
    "    obj_list = [class_number]\n",
    "    eps = 1e-10\n",
    "    \n",
    "    for num in range(0,num_image):\n",
    "        \n",
    "        obj_pred = []\n",
    "        obj_gt = []\n",
    "        \n",
    "        img_path = image_paths[num]\n",
    "\n",
    "        cudnn.fastest = True\n",
    "        cudnn.benchmark = True\n",
    "\n",
    "        # tf bilinear interpolation is different from any other's, just make do\n",
    "        input_size = input_sizes[opt['compound_coef']]\n",
    "        ori_imgs, framed_imgs, framed_metas = preprocess(img_path, max_size=input_size, mean=params.mean, std=params.std)\n",
    "\n",
    "        if torch.cuda.is_available():\n",
    "            x = torch.stack([torch.from_numpy(fi).cuda() for fi in framed_imgs], 0)\n",
    "        else:\n",
    "            x = torch.stack([torch.from_numpy(fi) for fi in framed_imgs], 0)\n",
    "\n",
    "        x = x.to(torch.float32).permute(0, 3, 1, 2)\n",
    "\n",
    "        model_eval = EfficientDetBackbone(num_classes=len(params.obj_list), compound_coef=opt['compound_coef'],\n",
    "                                     ratios=eval(params.anchors_ratios), scales=eval(params.anchors_scales))\n",
    "\n",
    "        try:\n",
    "            model_eval.load_state_dict(torch.load(weight_path))\n",
    "        except:\n",
    "            print('The rest of the weights should be loaded already.')\n",
    "\n",
    "        model_eval.requires_grad_(False)\n",
    "        model_eval.eval()\n",
    "\n",
    "        if torch.cuda.is_available():\n",
    "            model_eval = model_eval.cuda()\n",
    "\n",
    "        with torch.no_grad():\n",
    "            features, regression, classification, anchors = model_eval(x)\n",
    "\n",
    "            regressBoxes = BBoxTransform()\n",
    "            clipBoxes = ClipBoxes()\n",
    "\n",
    "            out = postprocess(x,\n",
    "                              anchors, regression, classification,\n",
    "                              regressBoxes, clipBoxes,\n",
    "                              threshold, iou_threshold)\n",
    "\n",
    "        out = invert_affine(framed_metas, out)\n",
    "\n",
    "        for i in range(len(ori_imgs)):\n",
    "            if len(out[i]['rois']) == 0:\n",
    "                continue\n",
    "            ori_imgs[i] = ori_imgs[i].copy()\n",
    "            for j in range(len(out[i]['rois'])):\n",
    "                if out[i]['class_ids'][j]==class_number:\n",
    "                    obj_pred.append(out[i]['class_ids'][j])\n",
    "\n",
    "        # Get specific val images\n",
    "        data = test_set.__getitem__(num) # Convert to 4d tensor (BxNxHxW)\n",
    "\n",
    "        for i in range(0,data['annot'].shape[0]):\n",
    "            [x1,y1,x2,y2,cls] = data['annot'][i].numpy()\n",
    "            if int(cls)==class_number:\n",
    "                obj_gt.append(int(cls))\n",
    "        \n",
    "        if len(obj_pred)>0:\n",
    "            for i in range(len(obj_pred)):\n",
    "                if obj_pred[i] in obj_gt:\n",
    "                    tp += 1\n",
    "                else: fp += 1\n",
    "        \n",
    "        if len(obj_gt)>0:\n",
    "            for i in range(len(obj_gt)):\n",
    "                if obj_gt[i] not in obj_pred:\n",
    "                    fn += 1\n",
    "        \n",
    "        not_gt = [x for x in obj_list if x not in obj_gt]\n",
    "        if len(not_gt)>0:\n",
    "            for i in not_gt:\n",
    "                if i not in obj_pred:\n",
    "                    tn += 1\n",
    "    \n",
    "        print(\n",
    "           'Images: {}/{}  Precision: {:.3f} Recall: {:.3f} Specificity: {:.3f} Accuracy: {:.3f} F1 score: {:.3f}\\r'.format(\n",
    "               num+1, num_image,\n",
    "               tp/(tp+fp+eps),\n",
    "               tp/(tp+fn+eps),\n",
    "               tn/(tn+fp+eps),\n",
    "               (tp+tn)/(tp+tn+fp+fn+eps),\n",
    "               (2*tp)/(2*tp+fp+fn+eps)), end=\"\")    \n",
    "\n",
    "    return tp, fp, tn, fn"
   ]
  },
  {
   "cell_type": "markdown",
   "metadata": {},
   "source": [
    "# Model"
   ]
  },
  {
   "cell_type": "code",
   "execution_count": 9,
   "metadata": {},
   "outputs": [
    {
     "name": "stdout",
     "output_type": "stream",
     "text": [
      "[Warning] Ignoring Error(s) in loading state_dict for EfficientDetBackbone:\n",
      "\tsize mismatch for classifier.header.pointwise_conv.conv.weight: copying a param with shape torch.Size([810, 64, 1, 1]) from checkpoint, the shape in current model is torch.Size([45, 64, 1, 1]).\n",
      "\tsize mismatch for classifier.header.pointwise_conv.conv.bias: copying a param with shape torch.Size([810]) from checkpoint, the shape in current model is torch.Size([45]).\n",
      "[Warning] Don't panic if you see this, this might be because you load a pretrained weights with different number of classes. The rest of the weights should be loaded already.\n",
      "[Info] loaded weights: efficientdet-d0.pth, resuming checkpoint from step: 0\n"
     ]
    }
   ],
   "source": [
    "model = EfficientDetBackbone(num_classes=len(params.obj_list), compound_coef=opt['compound_coef'],\n",
    "                             ratios=eval(params.anchors_ratios), scales=eval(params.anchors_scales))\n",
    "\n",
    "# load last weights\n",
    "if opt['load_weights'] is not None:\n",
    "    if opt['load_weights'].endswith('.pth'):\n",
    "        weights_path = opt['load_weights']\n",
    "    else:\n",
    "        weights_path = get_last_weights(opt['saved_path'])\n",
    "    try:\n",
    "        last_step = int(os.path.basename(weights_path).split('_')[-1].split('.')[0])\n",
    "    except:\n",
    "        last_step = 0\n",
    "\n",
    "    try:\n",
    "        ret = model.load_state_dict(torch.load(weights_path), strict=False)\n",
    "    except RuntimeError as e:\n",
    "        print(f'[Warning] Ignoring {e}')\n",
    "        print(\n",
    "            '[Warning] Don\\'t panic if you see this, this might be because you load a pretrained weights with different number of classes. The rest of the weights should be loaded already.')\n",
    "\n",
    "    print(f'[Info] loaded weights: {os.path.basename(weights_path)}, resuming checkpoint from step: {last_step}')\n",
    "else:\n",
    "    last_step = 0\n",
    "    print('[Info] initializing weights...')\n",
    "    init_weights(model)\n",
    "\n",
    "# freeze backbone if train head_only\n",
    "if opt['head_only']:\n",
    "    def freeze_backbone(m):\n",
    "        classname = m.__class__.__name__\n",
    "        for ntl in ['EfficientNet', 'BiFPN']:\n",
    "            if ntl in classname:\n",
    "                for param in m.parameters():\n",
    "                    param.requires_grad = False\n",
    "\n",
    "    model.apply(freeze_backbone)\n",
    "    print('[Info] freezed backbone')\n",
    "\n",
    "# https://github.com/vacancy/Synchronized-BatchNorm-PyTorch\n",
    "# apply sync_bn when using multiple gpu and batch_size per gpu is lower than 4\n",
    "#  useful when gpu memory is limited.\n",
    "# because when bn is disable, the training will be very unstable or slow to converge,\n",
    "# apply sync_bn can solve it,\n",
    "# by packing all mini-batch across all gpus as one batch and normalize, then send it back to all gpus.\n",
    "# but it would also slow down the training by a little bit.\n",
    "if params.num_gpus > 1 and opt.batch_size // params.num_gpus < 4:\n",
    "    model.apply(replace_w_sync_bn)\n",
    "    use_sync_bn = True\n",
    "else:\n",
    "    use_sync_bn = False\n",
    "\n",
    "writer = SummaryWriter(opt['log_path'] + f'/{datetime.datetime.now().strftime(\"%Y%m%d-%H%M%S\")}/')\n",
    "\n",
    "# warp the model with loss function, to reduce the memory usage on gpu0 and speedup\n",
    "model = ModelWithLoss(model, debug=opt['debug'])\n",
    "\n",
    "if params.num_gpus > 0:\n",
    "    model = model.cuda()\n",
    "    if params.num_gpus > 1:\n",
    "        model = CustomDataParallel(model, params.num_gpus)\n",
    "        if use_sync_bn:\n",
    "            patch_replication_callback(model)"
   ]
  },
  {
   "cell_type": "markdown",
   "metadata": {},
   "source": [
    "# Preprocessing"
   ]
  },
  {
   "cell_type": "code",
   "execution_count": 10,
   "metadata": {},
   "outputs": [
    {
     "name": "stdout",
     "output_type": "stream",
     "text": [
      "Train images: 86225   Val images: 10000   Test images: 10000\n"
     ]
    }
   ],
   "source": [
    "image_paths = glob(opt['data_path'] + 'image/*.png')\n",
    "image_list = os.listdir(opt['data_path'] + 'image')\n",
    "mask_paths = [image_paths[i][:22] + 'label/' + image_list[i][:-8] + '_label.png' for i in range(len(image_paths))]\n",
    "\n",
    "train_image_paths = image_paths[20000:]\n",
    "train_mask_paths = mask_paths[20000:]\n",
    "\n",
    "val_image_paths = image_paths[:10000]\n",
    "val_mask_paths = mask_paths[:10000]\n",
    "\n",
    "test_image_paths = image_paths[10000:20000]\n",
    "test_mask_paths = mask_paths[10000:20000]\n",
    "\n",
    "print('Train images: {}   Val images: {}   Test images: {}'.format(len(train_image_paths),len(val_image_paths),len(test_image_paths)))"
   ]
  },
  {
   "cell_type": "code",
   "execution_count": 11,
   "metadata": {},
   "outputs": [],
   "source": [
    "training_set = HmDataset(train_image_paths, train_mask_paths, len(params.obj_list),\n",
    "                           transform=transforms.Compose([Normalizer(mean=params.mean, std=params.std),\n",
    "                                                         Augmenter(),\n",
    "                                                         Resizer(input_sizes[opt['compound_coef']])]))\n",
    "training_generator = DataLoader(training_set, **training_params)\n",
    "\n",
    "val_set = HmDataset(val_image_paths, val_mask_paths, len(params.obj_list),\n",
    "                      transform=transforms.Compose([Normalizer(mean=params.mean, std=params.std),\n",
    "                                                    Resizer(input_sizes[opt['compound_coef']])]))\n",
    "val_generator = DataLoader(val_set, **val_params)\n",
    "\n",
    "test_set = HmDataset(test_image_paths, test_mask_paths, len(params.obj_list),\n",
    "                      transform=transforms.Compose([Normalizer(mean=params.mean, std=params.std),\n",
    "                                                    Resizer(input_sizes[opt['compound_coef']])]))\n",
    "test_generator = DataLoader(test_set, **test_params)"
   ]
  },
  {
   "cell_type": "code",
   "execution_count": 12,
   "metadata": {},
   "outputs": [
    {
     "name": "stdout",
     "output_type": "stream",
     "text": [
      "batch: 7171/7185\r"
     ]
    }
   ],
   "source": [
    "train_0 = 0\n",
    "train_1 = 0\n",
    "train_2 = 0\n",
    "train_3 = 0\n",
    "train_4 = 0\n",
    "\n",
    "for i, data in enumerate(training_generator):\n",
    "    imgs = data['img']\n",
    "    annot = data['annot']\n",
    "    for j in range(len(annot)):\n",
    "        for k in range(len(annot[0])):\n",
    "            if annot[j][k][4]==0: train_0+=1\n",
    "            if annot[j][k][4]==1: train_1+=1\n",
    "            if annot[j][k][4]==2: train_2+=1\n",
    "            if annot[j][k][4]==3: train_3+=1\n",
    "            if annot[j][k][4]==4: train_4+=1\n",
    "        \n",
    "    if i%int((len(training_generator)/100))==0:\n",
    "        print('batch: {}/{}\\r'.format(i, len(training_generator)), end=\"\")"
   ]
  },
  {
   "cell_type": "code",
   "execution_count": 35,
   "metadata": {},
   "outputs": [
    {
     "name": "stdout",
     "output_type": "stream",
     "text": [
      "batch: 832/833\r"
     ]
    }
   ],
   "source": [
    "val_0 = 0\n",
    "val_1 = 0\n",
    "val_2 = 0\n",
    "val_3 = 0\n",
    "val_4 = 0\n",
    "\n",
    "for i, data in enumerate(val_generator):\n",
    "    imgs = data['img']\n",
    "    annot = data['annot']\n",
    "    for j in range(len(annot)):\n",
    "        for k in range(len(annot[0])):\n",
    "            if annot[j][k][4]==0: val_0+=1\n",
    "            if annot[j][k][4]==1: val_1+=1\n",
    "            if annot[j][k][4]==2: val_2+=1\n",
    "            if annot[j][k][4]==3: val_3+=1\n",
    "            if annot[j][k][4]==4: val_4+=1\n",
    "        \n",
    "    if i%int((len(val_generator)/100))==0:\n",
    "        print('batch: {}/{}\\r'.format(i, len(val_generator)), end=\"\")"
   ]
  },
  {
   "cell_type": "code",
   "execution_count": 36,
   "metadata": {},
   "outputs": [
    {
     "name": "stdout",
     "output_type": "stream",
     "text": [
      "batch: 9900/10000\r"
     ]
    }
   ],
   "source": [
    "test_0 = 0\n",
    "test_1 = 0\n",
    "test_2 = 0\n",
    "test_3 = 0\n",
    "test_4 = 0\n",
    "\n",
    "for i, data in enumerate(test_generator):\n",
    "    imgs = data['img']\n",
    "    annot = data['annot']\n",
    "    for j in range(len(annot)):\n",
    "        for k in range(len(annot[0])):\n",
    "            if annot[j][k][4]==0: test_0+=1\n",
    "            if annot[j][k][4]==1: test_1+=1\n",
    "            if annot[j][k][4]==2: test_2+=1\n",
    "            if annot[j][k][4]==3: test_3+=1\n",
    "            if annot[j][k][4]==4: test_4+=1\n",
    "        \n",
    "    if i%int((len(test_generator)/100))==0:\n",
    "        print('batch: {}/{}\\r'.format(i, len(test_generator)), end=\"\")"
   ]
  },
  {
   "cell_type": "code",
   "execution_count": 57,
   "metadata": {},
   "outputs": [
    {
     "data": {
      "image/png": "[encoded data removed]",
      "text/plain": [
       "<Figure size 720x504 with 1 Axes>"
      ]
     },
     "metadata": {
      "needs_background": "light"
     },
     "output_type": "display_data"
    }
   ],
   "source": [
    "# Counting the number of bounding boxes per class\n",
    "\n",
    "labels = ['epidural', 'intraparenchymal', 'intraventricular', 'subarachnoid', 'subdural']\n",
    "train_class_num = [train_0, train_1, train_2, train_3, train_4]\n",
    "val_class_num = [val_0, val_1, val_2, val_3, val_4]\n",
    "test_class_num = [test_0, test_1, test_2, test_3, test_4]\n",
    "\n",
    "x = np.arange(len(labels))  # the label locations\n",
    "width = 0.2  # the width of the bars\n",
    "\n",
    "fig, ax = plt.subplots(figsize=(10,7))\n",
    "rects_train = ax.bar(x - width*10/9, train_class_num, width, label='Train')\n",
    "rects_val = ax.bar(x, val_class_num, width, label='Validation')\n",
    "rects_test = ax.bar(x + width*10/9, test_class_num, width, label='Test')\n",
    "\n",
    "# Add some text for labels, title and custom x-axis tick labels, etc.\n",
    "ax.set_ylabel('Number')\n",
    "ax.set_title('Counting the number of bounding boxes per class')\n",
    "ax.set_xticks(x)\n",
    "ax.set_xticklabels(labels)\n",
    "ax.legend()\n",
    "\n",
    "\n",
    "def autolabel(rects):\n",
    "    \"\"\"Attach a text label above each bar in *rects*, displaying its height.\"\"\"\n",
    "    for rect in rects:\n",
    "        height = rect.get_height()\n",
    "        ax.annotate('{}'.format(height),\n",
    "                    xy=(rect.get_x() + rect.get_width() / 2, height),\n",
    "                    xytext=(0, 3),  # 3 points vertical offset\n",
    "                    textcoords=\"offset points\",\n",
    "                    ha='center', va='bottom')\n",
    "\n",
    "\n",
    "autolabel(rects_train)\n",
    "autolabel(rects_val)\n",
    "autolabel(rects_test)\n",
    "\n",
    "fig.tight_layout()\n",
    "\n",
    "plt.show()\n"
   ]
  },
  {
   "cell_type": "code",
   "execution_count": 11,
   "metadata": {},
   "outputs": [
    {
     "name": "stdout",
     "output_type": "stream",
     "text": [
      "torch.Size([12, 3, 512, 512]) torch.Size([12, 5, 5])\n"
     ]
    }
   ],
   "source": [
    "for i, data in enumerate(val_generator):\n",
    "    if i == 0:\n",
    "        print(data['img'].shape, data['annot'].shape)\n",
    "        break"
   ]
  },
  {
   "cell_type": "code",
   "execution_count": 10,
   "metadata": {},
   "outputs": [
    {
     "data": {
      "text/plain": [
       "<matplotlib.image.AxesImage at 0x1ea0ba6e100>"
      ]
     },
     "execution_count": 10,
     "metadata": {},
     "output_type": "execute_result"
    },
    {
     "data": {
      "image/png": "[encoded data removed]",
      "text/plain": [
       "<Figure size 360x360 with 1 Axes>"
      ]
     },
     "metadata": {
      "needs_background": "light"
     },
     "output_type": "display_data"
    }
   ],
   "source": [
    "# Get specific val images\n",
    "data = val_set.__getitem__(0) # Convert to 4d tensor (BxNxHxW)\n",
    "val_image = data['img'].unsqueeze(0)\n",
    "val_image = ((val_image - val_image.min()) / (val_image.max() - val_image.min()))\n",
    "\n",
    "cmap = plt.get_cmap(\"tab20b\")\n",
    "colors = [cmap(i) for i in np.linspace(0, 1, len(params.obj_list))]\n",
    "fig, ax0 = plt.subplots(figsize=(5,5))\n",
    "for i in range(0,data['annot'].shape[0]):\n",
    "    [x1,y1,x2,y2,cls] = data['annot'][i].numpy()\n",
    "    color = colors[int(cls)]\n",
    "    bbox = patches.Rectangle((x1, y1), x2-x1, y2-y1, linewidth=2, edgecolor=color, facecolor=\"none\")\n",
    "    ax0.add_patch(bbox)\n",
    "    # Add label\n",
    "    ax0.text(\n",
    "        x1,\n",
    "        y2,\n",
    "        s=params.obj_list[int(cls)],\n",
    "        color=\"white\",\n",
    "        verticalalignment=\"top\", \n",
    "        bbox={\"color\": color, \"pad\": 0},\n",
    "    )\n",
    "    \n",
    "ax0.imshow(val_image[0])\n",
    "#ax0.axis('off')"
   ]
  },
  {
   "cell_type": "markdown",
   "metadata": {},
   "source": [
    "# Visualization"
   ]
  },
  {
   "cell_type": "code",
   "execution_count": 17,
   "metadata": {},
   "outputs": [
    {
     "name": "stdout",
     "output_type": "stream",
     "text": [
      "The rest of the weights should be loaded already.\n"
     ]
    },
    {
     "data": {
      "image/png": "[encoded data removed]",
      "text/plain": [
       "<Figure size 360x360 with 1 Axes>"
      ]
     },
     "metadata": {
      "needs_background": "light"
     },
     "output_type": "display_data"
    }
   ],
   "source": [
    "img_path = image_paths[0]\n",
    "visualization(img_path)"
   ]
  },
  {
   "cell_type": "markdown",
   "metadata": {},
   "source": [
    "# Optimizer"
   ]
  },
  {
   "cell_type": "code",
   "execution_count": 11,
   "metadata": {},
   "outputs": [],
   "source": [
    "if opt['optim'] == 'adamw':\n",
    "    optimizer = torch.optim.AdamW(model.parameters(), opt['lr'])\n",
    "else:\n",
    "    optimizer = torch.optim.SGD(model.parameters(), opt['lr'], momentum=0.9, nesterov=True)\n",
    "\n",
    "scheduler = torch.optim.lr_scheduler.ReduceLROnPlateau(optimizer, patience=3, verbose=True)"
   ]
  },
  {
   "cell_type": "markdown",
   "metadata": {},
   "source": [
    "# Train"
   ]
  },
  {
   "cell_type": "code",
   "execution_count": 11,
   "metadata": {
    "scrolled": true
   },
   "outputs": [
    {
     "data": {
      "application/vnd.jupyter.widget-view+json": {
       "model_id": "511c530ef0c54df08a2e735cdd2fb21c",
       "version_major": 2,
       "version_minor": 0
      },
      "text/plain": [
       "HBox(children=(HTML(value=''), FloatProgress(value=0.0, max=7185.0), HTML(value='')))"
      ]
     },
     "metadata": {},
     "output_type": "display_data"
    },
    {
     "name": "stdout",
     "output_type": "stream",
     "text": [
      "\n",
      "Val. Epoch: 0/600. Classification loss: 0.48404. Regression loss: 1.79136. Total loss: 2.27539\n"
     ]
    },
    {
     "data": {
      "application/vnd.jupyter.widget-view+json": {
       "model_id": "75241393f91f480494db2072a57e03b8",
       "version_major": 2,
       "version_minor": 0
      },
      "text/plain": [
       "HBox(children=(HTML(value=''), FloatProgress(value=0.0, max=7185.0), HTML(value='')))"
      ]
     },
     "metadata": {},
     "output_type": "display_data"
    },
    {
     "name": "stdout",
     "output_type": "stream",
     "text": [
      "\n",
      "Val. Epoch: 1/600. Classification loss: 0.44953. Regression loss: 1.77123. Total loss: 2.22077\n"
     ]
    },
    {
     "data": {
      "application/vnd.jupyter.widget-view+json": {
       "model_id": "7b829e568c36429aa24108a726b6bcf3",
       "version_major": 2,
       "version_minor": 0
      },
      "text/plain": [
       "HBox(children=(HTML(value=''), FloatProgress(value=0.0, max=7185.0), HTML(value='')))"
      ]
     },
     "metadata": {},
     "output_type": "display_data"
    },
    {
     "name": "stdout",
     "output_type": "stream",
     "text": [
      "\n",
      "Val. Epoch: 2/600. Classification loss: 0.36592. Regression loss: 1.64913. Total loss: 2.01505\n"
     ]
    },
    {
     "data": {
      "application/vnd.jupyter.widget-view+json": {
       "model_id": "0f4a26324c944b0b9aae6d3ab9ce4cce",
       "version_major": 2,
       "version_minor": 0
      },
      "text/plain": [
       "HBox(children=(HTML(value=''), FloatProgress(value=0.0, max=7185.0), HTML(value='')))"
      ]
     },
     "metadata": {},
     "output_type": "display_data"
    },
    {
     "name": "stdout",
     "output_type": "stream",
     "text": [
      "\n",
      "Val. Epoch: 3/600. Classification loss: 0.44625. Regression loss: 1.75070. Total loss: 2.19695\n"
     ]
    },
    {
     "data": {
      "application/vnd.jupyter.widget-view+json": {
       "model_id": "c318d29848c046329f83b7371fcaf9b9",
       "version_major": 2,
       "version_minor": 0
      },
      "text/plain": [
       "HBox(children=(HTML(value=''), FloatProgress(value=0.0, max=7185.0), HTML(value='')))"
      ]
     },
     "metadata": {},
     "output_type": "display_data"
    },
    {
     "name": "stdout",
     "output_type": "stream",
     "text": [
      "\n",
      "Val. Epoch: 4/600. Classification loss: 0.39998. Regression loss: 1.77913. Total loss: 2.17912\n"
     ]
    },
    {
     "data": {
      "application/vnd.jupyter.widget-view+json": {
       "model_id": "3e1bb157d51149d2a22c2817702a9f3b",
       "version_major": 2,
       "version_minor": 0
      },
      "text/plain": [
       "HBox(children=(HTML(value=''), FloatProgress(value=0.0, max=7185.0), HTML(value='')))"
      ]
     },
     "metadata": {},
     "output_type": "display_data"
    },
    {
     "name": "stdout",
     "output_type": "stream",
     "text": [
      "\n",
      "Val. Epoch: 5/600. Classification loss: 0.34459. Regression loss: 1.59981. Total loss: 1.94440\n"
     ]
    },
    {
     "data": {
      "application/vnd.jupyter.widget-view+json": {
       "model_id": "1d09fa176a87451abeb512138572143c",
       "version_major": 2,
       "version_minor": 0
      },
      "text/plain": [
       "HBox(children=(HTML(value=''), FloatProgress(value=0.0, max=7185.0), HTML(value='')))"
      ]
     },
     "metadata": {},
     "output_type": "display_data"
    },
    {
     "name": "stdout",
     "output_type": "stream",
     "text": [
      "\n",
      "Val. Epoch: 6/600. Classification loss: 0.36794. Regression loss: 1.58096. Total loss: 1.94890\n"
     ]
    },
    {
     "data": {
      "application/vnd.jupyter.widget-view+json": {
       "model_id": "73cbb9ba7c574a5c8cb7d36158fd3599",
       "version_major": 2,
       "version_minor": 0
      },
      "text/plain": [
       "HBox(children=(HTML(value=''), FloatProgress(value=0.0, max=7185.0), HTML(value='')))"
      ]
     },
     "metadata": {},
     "output_type": "display_data"
    },
    {
     "name": "stdout",
     "output_type": "stream",
     "text": [
      "\n",
      "Val. Epoch: 7/600. Classification loss: 0.32132. Regression loss: 1.49836. Total loss: 1.81968\n"
     ]
    },
    {
     "data": {
      "application/vnd.jupyter.widget-view+json": {
       "model_id": "984e1e23a1f64dba97e8389cd3cd9d27",
       "version_major": 2,
       "version_minor": 0
      },
      "text/plain": [
       "HBox(children=(HTML(value=''), FloatProgress(value=0.0, max=7185.0), HTML(value='')))"
      ]
     },
     "metadata": {},
     "output_type": "display_data"
    },
    {
     "name": "stdout",
     "output_type": "stream",
     "text": [
      "\n",
      "Val. Epoch: 8/600. Classification loss: 0.32581. Regression loss: 1.48508. Total loss: 1.81089\n"
     ]
    },
    {
     "data": {
      "application/vnd.jupyter.widget-view+json": {
       "model_id": "0974f1952d854f0a8c0a152b9eab04d9",
       "version_major": 2,
       "version_minor": 0
      },
      "text/plain": [
       "HBox(children=(HTML(value=''), FloatProgress(value=0.0, max=7185.0), HTML(value='')))"
      ]
     },
     "metadata": {},
     "output_type": "display_data"
    },
    {
     "name": "stdout",
     "output_type": "stream",
     "text": [
      "\n",
      "Val. Epoch: 9/600. Classification loss: 0.29752. Regression loss: 1.43967. Total loss: 1.73719\n"
     ]
    },
    {
     "data": {
      "application/vnd.jupyter.widget-view+json": {
       "model_id": "7d827d51a0454f4e81516386e78ea139",
       "version_major": 2,
       "version_minor": 0
      },
      "text/plain": [
       "HBox(children=(HTML(value=''), FloatProgress(value=0.0, max=7185.0), HTML(value='')))"
      ]
     },
     "metadata": {},
     "output_type": "display_data"
    },
    {
     "name": "stdout",
     "output_type": "stream",
     "text": [
      "\n",
      "Val. Epoch: 10/600. Classification loss: 0.32069. Regression loss: 1.51242. Total loss: 1.83311\n"
     ]
    },
    {
     "data": {
      "application/vnd.jupyter.widget-view+json": {
       "model_id": "380e6293849641ef9d98cc627dc9b1ad",
       "version_major": 2,
       "version_minor": 0
      },
      "text/plain": [
       "HBox(children=(HTML(value=''), FloatProgress(value=0.0, max=7185.0), HTML(value='')))"
      ]
     },
     "metadata": {},
     "output_type": "display_data"
    },
    {
     "name": "stdout",
     "output_type": "stream",
     "text": [
      "\n",
      "Val. Epoch: 11/600. Classification loss: 0.29850. Regression loss: 1.44132. Total loss: 1.73982\n"
     ]
    },
    {
     "data": {
      "application/vnd.jupyter.widget-view+json": {
       "model_id": "ebfef8fd1e36419c9b05c563f71c01ab",
       "version_major": 2,
       "version_minor": 0
      },
      "text/plain": [
       "HBox(children=(HTML(value=''), FloatProgress(value=0.0, max=7185.0), HTML(value='')))"
      ]
     },
     "metadata": {},
     "output_type": "display_data"
    },
    {
     "name": "stdout",
     "output_type": "stream",
     "text": [
      "\n",
      "Val. Epoch: 12/600. Classification loss: 0.28681. Regression loss: 1.39964. Total loss: 1.68645\n"
     ]
    },
    {
     "data": {
      "application/vnd.jupyter.widget-view+json": {
       "model_id": "1c10913629fe48c589e27e5360fc847d",
       "version_major": 2,
       "version_minor": 0
      },
      "text/plain": [
       "HBox(children=(HTML(value=''), FloatProgress(value=0.0, max=7185.0), HTML(value='')))"
      ]
     },
     "metadata": {},
     "output_type": "display_data"
    },
    {
     "name": "stdout",
     "output_type": "stream",
     "text": [
      "\n",
      "Val. Epoch: 13/600. Classification loss: 0.39985. Regression loss: 1.68328. Total loss: 2.08313\n"
     ]
    },
    {
     "data": {
      "application/vnd.jupyter.widget-view+json": {
       "model_id": "6a21627ba0e041b0a03ddf1fadbefca5",
       "version_major": 2,
       "version_minor": 0
      },
      "text/plain": [
       "HBox(children=(HTML(value=''), FloatProgress(value=0.0, max=7185.0), HTML(value='')))"
      ]
     },
     "metadata": {},
     "output_type": "display_data"
    },
    {
     "name": "stdout",
     "output_type": "stream",
     "text": [
      "\n",
      "Val. Epoch: 14/600. Classification loss: 0.29256. Regression loss: 1.45419. Total loss: 1.74676\n"
     ]
    },
    {
     "data": {
      "application/vnd.jupyter.widget-view+json": {
       "model_id": "90952054765c40f3add30e3daaaeb18a",
       "version_major": 2,
       "version_minor": 0
      },
      "text/plain": [
       "HBox(children=(HTML(value=''), FloatProgress(value=0.0, max=7185.0), HTML(value='')))"
      ]
     },
     "metadata": {},
     "output_type": "display_data"
    },
    {
     "name": "stdout",
     "output_type": "stream",
     "text": [
      "\n",
      "Val. Epoch: 15/600. Classification loss: 0.40137. Regression loss: 1.65772. Total loss: 2.05909\n"
     ]
    },
    {
     "data": {
      "application/vnd.jupyter.widget-view+json": {
       "model_id": "5de3f9a6fe0343d584a19390b337d113",
       "version_major": 2,
       "version_minor": 0
      },
      "text/plain": [
       "HBox(children=(HTML(value=''), FloatProgress(value=0.0, max=7185.0), HTML(value='')))"
      ]
     },
     "metadata": {},
     "output_type": "display_data"
    },
    {
     "name": "stdout",
     "output_type": "stream",
     "text": [
      "\n",
      "Val. Epoch: 16/600. Classification loss: 0.33697. Regression loss: 1.56739. Total loss: 1.90436\n"
     ]
    },
    {
     "data": {
      "application/vnd.jupyter.widget-view+json": {
       "model_id": "21d28c7e12ad4866a7350721bf3628a4",
       "version_major": 2,
       "version_minor": 0
      },
      "text/plain": [
       "HBox(children=(HTML(value=''), FloatProgress(value=0.0, max=7185.0), HTML(value='')))"
      ]
     },
     "metadata": {},
     "output_type": "display_data"
    },
    {
     "name": "stdout",
     "output_type": "stream",
     "text": [
      "\n",
      "Val. Epoch: 17/600. Classification loss: 0.44372. Regression loss: 1.70833. Total loss: 2.15205\n"
     ]
    },
    {
     "data": {
      "application/vnd.jupyter.widget-view+json": {
       "model_id": "d91e35640b9c46728ef4fb6e6fcd6c78",
       "version_major": 2,
       "version_minor": 0
      },
      "text/plain": [
       "HBox(children=(HTML(value=''), FloatProgress(value=0.0, max=7185.0), HTML(value='')))"
      ]
     },
     "metadata": {},
     "output_type": "display_data"
    },
    {
     "name": "stdout",
     "output_type": "stream",
     "text": [
      "\n",
      "Val. Epoch: 18/600. Classification loss: 0.39295. Regression loss: 1.56764. Total loss: 1.96060\n"
     ]
    },
    {
     "data": {
      "application/vnd.jupyter.widget-view+json": {
       "model_id": "5d4b6cb5be654dc48c42f4557266165f",
       "version_major": 2,
       "version_minor": 0
      },
      "text/plain": [
       "HBox(children=(HTML(value=''), FloatProgress(value=0.0, max=7185.0), HTML(value='')))"
      ]
     },
     "metadata": {},
     "output_type": "display_data"
    },
    {
     "name": "stdout",
     "output_type": "stream",
     "text": [
      "\n",
      "Val. Epoch: 19/600. Classification loss: 0.28991. Regression loss: 1.45493. Total loss: 1.74484\n"
     ]
    },
    {
     "data": {
      "application/vnd.jupyter.widget-view+json": {
       "model_id": "04be8e8ee66a418a81f28505f9ecd610",
       "version_major": 2,
       "version_minor": 0
      },
      "text/plain": [
       "HBox(children=(HTML(value=''), FloatProgress(value=0.0, max=7185.0), HTML(value='')))"
      ]
     },
     "metadata": {},
     "output_type": "display_data"
    },
    {
     "name": "stdout",
     "output_type": "stream",
     "text": [
      "\n",
      "Val. Epoch: 20/600. Classification loss: 0.28609. Regression loss: 1.40992. Total loss: 1.69601\n"
     ]
    },
    {
     "data": {
      "application/vnd.jupyter.widget-view+json": {
       "model_id": "1f8358ec3d664c5cadd63a888372cd3b",
       "version_major": 2,
       "version_minor": 0
      },
      "text/plain": [
       "HBox(children=(HTML(value=''), FloatProgress(value=0.0, max=7185.0), HTML(value='')))"
      ]
     },
     "metadata": {},
     "output_type": "display_data"
    },
    {
     "name": "stdout",
     "output_type": "stream",
     "text": [
      "\n",
      "Val. Epoch: 21/600. Classification loss: 0.28994. Regression loss: 1.41332. Total loss: 1.70326\n"
     ]
    },
    {
     "data": {
      "application/vnd.jupyter.widget-view+json": {
       "model_id": "486256e26ebe4915b48d951609fcf778",
       "version_major": 2,
       "version_minor": 0
      },
      "text/plain": [
       "HBox(children=(HTML(value=''), FloatProgress(value=0.0, max=7185.0), HTML(value='')))"
      ]
     },
     "metadata": {},
     "output_type": "display_data"
    },
    {
     "name": "stdout",
     "output_type": "stream",
     "text": [
      "\n",
      "Val. Epoch: 22/600. Classification loss: 0.28686. Regression loss: 1.43480. Total loss: 1.72166\n"
     ]
    },
    {
     "data": {
      "application/vnd.jupyter.widget-view+json": {
       "model_id": "c3fb3e6823a248668407813460200346",
       "version_major": 2,
       "version_minor": 0
      },
      "text/plain": [
       "HBox(children=(HTML(value=''), FloatProgress(value=0.0, max=7185.0), HTML(value='')))"
      ]
     },
     "metadata": {},
     "output_type": "display_data"
    },
    {
     "name": "stdout",
     "output_type": "stream",
     "text": [
      "\n",
      "Val. Epoch: 23/600. Classification loss: 0.33162. Regression loss: 1.50619. Total loss: 1.83781\n"
     ]
    },
    {
     "data": {
      "application/vnd.jupyter.widget-view+json": {
       "model_id": "dedafe04332c4cce8890ec63f06d74d6",
       "version_major": 2,
       "version_minor": 0
      },
      "text/plain": [
       "HBox(children=(HTML(value=''), FloatProgress(value=0.0, max=7185.0), HTML(value='')))"
      ]
     },
     "metadata": {},
     "output_type": "display_data"
    },
    {
     "name": "stdout",
     "output_type": "stream",
     "text": [
      "\n",
      "Val. Epoch: 24/600. Classification loss: 0.32020. Regression loss: 1.49980. Total loss: 1.82001\n"
     ]
    },
    {
     "data": {
      "application/vnd.jupyter.widget-view+json": {
       "model_id": "a549171a5d434e7480464b4ed5d0a85f",
       "version_major": 2,
       "version_minor": 0
      },
      "text/plain": [
       "HBox(children=(HTML(value=''), FloatProgress(value=0.0, max=7185.0), HTML(value='')))"
      ]
     },
     "metadata": {},
     "output_type": "display_data"
    },
    {
     "name": "stdout",
     "output_type": "stream",
     "text": [
      "\n",
      "Val. Epoch: 25/600. Classification loss: 0.28454. Regression loss: 1.41237. Total loss: 1.69691\n"
     ]
    },
    {
     "data": {
      "application/vnd.jupyter.widget-view+json": {
       "model_id": "3997c14195114c3cbae7bc1b90fd3489",
       "version_major": 2,
       "version_minor": 0
      },
      "text/plain": [
       "HBox(children=(HTML(value=''), FloatProgress(value=0.0, max=7185.0), HTML(value='')))"
      ]
     },
     "metadata": {},
     "output_type": "display_data"
    },
    {
     "name": "stdout",
     "output_type": "stream",
     "text": [
      "\n",
      "Val. Epoch: 26/600. Classification loss: 0.29892. Regression loss: 1.46307. Total loss: 1.76199\n"
     ]
    },
    {
     "data": {
      "application/vnd.jupyter.widget-view+json": {
       "model_id": "eca5a4127d8749c0ad9fd1e8840b21b4",
       "version_major": 2,
       "version_minor": 0
      },
      "text/plain": [
       "HBox(children=(HTML(value=''), FloatProgress(value=0.0, max=7185.0), HTML(value='')))"
      ]
     },
     "metadata": {},
     "output_type": "display_data"
    },
    {
     "name": "stdout",
     "output_type": "stream",
     "text": [
      "\n",
      "Val. Epoch: 27/600. Classification loss: 0.29977. Regression loss: 1.45229. Total loss: 1.75206\n"
     ]
    },
    {
     "data": {
      "application/vnd.jupyter.widget-view+json": {
       "model_id": "1ffc277938a54b89827f8f5242920b68",
       "version_major": 2,
       "version_minor": 0
      },
      "text/plain": [
       "HBox(children=(HTML(value=''), FloatProgress(value=0.0, max=7185.0), HTML(value='')))"
      ]
     },
     "metadata": {},
     "output_type": "display_data"
    },
    {
     "name": "stdout",
     "output_type": "stream",
     "text": [
      "\n",
      "Val. Epoch: 28/600. Classification loss: 0.33655. Regression loss: 1.57384. Total loss: 1.91038\n"
     ]
    },
    {
     "data": {
      "application/vnd.jupyter.widget-view+json": {
       "model_id": "f56269accff642a5993b0c7a36736211",
       "version_major": 2,
       "version_minor": 0
      },
      "text/plain": [
       "HBox(children=(HTML(value=''), FloatProgress(value=0.0, max=7185.0), HTML(value='')))"
      ]
     },
     "metadata": {},
     "output_type": "display_data"
    },
    {
     "name": "stdout",
     "output_type": "stream",
     "text": [
      "\n",
      "Val. Epoch: 29/600. Classification loss: 0.28799. Regression loss: 1.41512. Total loss: 1.70312\n"
     ]
    },
    {
     "data": {
      "application/vnd.jupyter.widget-view+json": {
       "model_id": "355ae16c8b974cbab8853dd8dfb5d413",
       "version_major": 2,
       "version_minor": 0
      },
      "text/plain": [
       "HBox(children=(HTML(value=''), FloatProgress(value=0.0, max=7185.0), HTML(value='')))"
      ]
     },
     "metadata": {},
     "output_type": "display_data"
    },
    {
     "name": "stdout",
     "output_type": "stream",
     "text": [
      "\n",
      "Val. Epoch: 30/600. Classification loss: 0.28532. Regression loss: 1.42612. Total loss: 1.71144\n"
     ]
    },
    {
     "data": {
      "application/vnd.jupyter.widget-view+json": {
       "model_id": "361d5ed8fe284fd79980f9e16c85e550",
       "version_major": 2,
       "version_minor": 0
      },
      "text/plain": [
       "HBox(children=(HTML(value=''), FloatProgress(value=0.0, max=7185.0), HTML(value='')))"
      ]
     },
     "metadata": {},
     "output_type": "display_data"
    },
    {
     "name": "stdout",
     "output_type": "stream",
     "text": [
      "\n",
      "Val. Epoch: 31/600. Classification loss: 0.60618. Regression loss: 1.83918. Total loss: 2.44535\n"
     ]
    },
    {
     "data": {
      "application/vnd.jupyter.widget-view+json": {
       "model_id": "f90724d80aed48889d9d576b6adf31ff",
       "version_major": 2,
       "version_minor": 0
      },
      "text/plain": [
       "HBox(children=(HTML(value=''), FloatProgress(value=0.0, max=7185.0), HTML(value='')))"
      ]
     },
     "metadata": {},
     "output_type": "display_data"
    },
    {
     "name": "stdout",
     "output_type": "stream",
     "text": [
      "\n",
      "Val. Epoch: 32/600. Classification loss: 0.31233. Regression loss: 1.49924. Total loss: 1.81156\n"
     ]
    },
    {
     "data": {
      "application/vnd.jupyter.widget-view+json": {
       "model_id": "d758b5cae6da4ce49b5545f46f8d31ed",
       "version_major": 2,
       "version_minor": 0
      },
      "text/plain": [
       "HBox(children=(HTML(value=''), FloatProgress(value=0.0, max=7185.0), HTML(value='')))"
      ]
     },
     "metadata": {},
     "output_type": "display_data"
    },
    {
     "name": "stdout",
     "output_type": "stream",
     "text": [
      "\n",
      "Val. Epoch: 33/600. Classification loss: 0.54610. Regression loss: 2.01953. Total loss: 2.56563\n"
     ]
    },
    {
     "data": {
      "application/vnd.jupyter.widget-view+json": {
       "model_id": "bf3dc88f8d8441ff9ace008363d1cd44",
       "version_major": 2,
       "version_minor": 0
      },
      "text/plain": [
       "HBox(children=(HTML(value=''), FloatProgress(value=0.0, max=7185.0), HTML(value='')))"
      ]
     },
     "metadata": {},
     "output_type": "display_data"
    },
    {
     "name": "stdout",
     "output_type": "stream",
     "text": [
      "\n",
      "Val. Epoch: 34/600. Classification loss: 0.30801. Regression loss: 1.44742. Total loss: 1.75543\n"
     ]
    },
    {
     "data": {
      "application/vnd.jupyter.widget-view+json": {
       "model_id": "c92405b4220b49e3a7878e8cef48284b",
       "version_major": 2,
       "version_minor": 0
      },
      "text/plain": [
       "HBox(children=(HTML(value=''), FloatProgress(value=0.0, max=7185.0), HTML(value='')))"
      ]
     },
     "metadata": {},
     "output_type": "display_data"
    },
    {
     "name": "stdout",
     "output_type": "stream",
     "text": [
      "\n",
      "Val. Epoch: 35/600. Classification loss: 0.31923. Regression loss: 1.49426. Total loss: 1.81349\n"
     ]
    },
    {
     "data": {
      "application/vnd.jupyter.widget-view+json": {
       "model_id": "275ce4802c9c46609830730042b08066",
       "version_major": 2,
       "version_minor": 0
      },
      "text/plain": [
       "HBox(children=(HTML(value=''), FloatProgress(value=0.0, max=7185.0), HTML(value='')))"
      ]
     },
     "metadata": {},
     "output_type": "display_data"
    },
    {
     "name": "stdout",
     "output_type": "stream",
     "text": [
      "\n",
      "Val. Epoch: 36/600. Classification loss: 0.51754. Regression loss: 1.92267. Total loss: 2.44022\n"
     ]
    },
    {
     "data": {
      "application/vnd.jupyter.widget-view+json": {
       "model_id": "67a1d5e32cfc4dc8a4295b3d9a0b550b",
       "version_major": 2,
       "version_minor": 0
      },
      "text/plain": [
       "HBox(children=(HTML(value=''), FloatProgress(value=0.0, max=7185.0), HTML(value='')))"
      ]
     },
     "metadata": {},
     "output_type": "display_data"
    },
    {
     "name": "stdout",
     "output_type": "stream",
     "text": [
      "\n",
      "Val. Epoch: 37/600. Classification loss: 0.28738. Regression loss: 1.46033. Total loss: 1.74771\n"
     ]
    },
    {
     "data": {
      "application/vnd.jupyter.widget-view+json": {
       "model_id": "67dc4dd42b874fc4a8b2c17fb435dd58",
       "version_major": 2,
       "version_minor": 0
      },
      "text/plain": [
       "HBox(children=(HTML(value=''), FloatProgress(value=0.0, max=7185.0), HTML(value='')))"
      ]
     },
     "metadata": {},
     "output_type": "display_data"
    },
    {
     "name": "stdout",
     "output_type": "stream",
     "text": [
      "\n",
      "Val. Epoch: 38/600. Classification loss: 0.51772. Regression loss: 1.82332. Total loss: 2.34103\n"
     ]
    },
    {
     "data": {
      "application/vnd.jupyter.widget-view+json": {
       "model_id": "2f6c0929dbe143b3aaf6e07b34cc3d26",
       "version_major": 2,
       "version_minor": 0
      },
      "text/plain": [
       "HBox(children=(HTML(value=''), FloatProgress(value=0.0, max=7185.0), HTML(value='')))"
      ]
     },
     "metadata": {},
     "output_type": "display_data"
    },
    {
     "name": "stdout",
     "output_type": "stream",
     "text": [
      "\n",
      "Val. Epoch: 39/600. Classification loss: 0.29077. Regression loss: 1.44447. Total loss: 1.73525\n"
     ]
    },
    {
     "data": {
      "application/vnd.jupyter.widget-view+json": {
       "model_id": "1d4e77f1ed6244d186a2b1356c80ec64",
       "version_major": 2,
       "version_minor": 0
      },
      "text/plain": [
       "HBox(children=(HTML(value=''), FloatProgress(value=0.0, max=7185.0), HTML(value='')))"
      ]
     },
     "metadata": {},
     "output_type": "display_data"
    },
    {
     "name": "stdout",
     "output_type": "stream",
     "text": [
      "\n",
      "Val. Epoch: 40/600. Classification loss: 0.28221. Regression loss: 1.41716. Total loss: 1.69937\n"
     ]
    },
    {
     "data": {
      "application/vnd.jupyter.widget-view+json": {
       "model_id": "0f5e6f3263b14a488b4d746c9d6ec8cd",
       "version_major": 2,
       "version_minor": 0
      },
      "text/plain": [
       "HBox(children=(HTML(value=''), FloatProgress(value=0.0, max=7185.0), HTML(value='')))"
      ]
     },
     "metadata": {},
     "output_type": "display_data"
    },
    {
     "name": "stdout",
     "output_type": "stream",
     "text": [
      "\n",
      "Val. Epoch: 41/600. Classification loss: 0.50536. Regression loss: 1.80719. Total loss: 2.31255\n"
     ]
    },
    {
     "data": {
      "application/vnd.jupyter.widget-view+json": {
       "model_id": "59bc82fcb68c40dca79a2c88f8077687",
       "version_major": 2,
       "version_minor": 0
      },
      "text/plain": [
       "HBox(children=(HTML(value=''), FloatProgress(value=0.0, max=7185.0), HTML(value='')))"
      ]
     },
     "metadata": {},
     "output_type": "display_data"
    },
    {
     "name": "stdout",
     "output_type": "stream",
     "text": [
      "\n",
      "Val. Epoch: 42/600. Classification loss: 0.29298. Regression loss: 1.41402. Total loss: 1.70701\n"
     ]
    },
    {
     "data": {
      "application/vnd.jupyter.widget-view+json": {
       "model_id": "34f672cd52114cb89b6a6cf14847fa6b",
       "version_major": 2,
       "version_minor": 0
      },
      "text/plain": [
       "HBox(children=(HTML(value=''), FloatProgress(value=0.0, max=7185.0), HTML(value='')))"
      ]
     },
     "metadata": {},
     "output_type": "display_data"
    },
    {
     "name": "stdout",
     "output_type": "stream",
     "text": [
      "\n",
      "Val. Epoch: 43/600. Classification loss: 0.74023. Regression loss: 1.99766. Total loss: 2.73789\n"
     ]
    },
    {
     "data": {
      "application/vnd.jupyter.widget-view+json": {
       "model_id": "24ad84f728e443a19091e9c843e0904d",
       "version_major": 2,
       "version_minor": 0
      },
      "text/plain": [
       "HBox(children=(HTML(value=''), FloatProgress(value=0.0, max=7185.0), HTML(value='')))"
      ]
     },
     "metadata": {},
     "output_type": "display_data"
    },
    {
     "name": "stdout",
     "output_type": "stream",
     "text": [
      "\n",
      "Val. Epoch: 44/600. Classification loss: 0.32417. Regression loss: 1.45402. Total loss: 1.77819\n"
     ]
    },
    {
     "data": {
      "application/vnd.jupyter.widget-view+json": {
       "model_id": "f95a3efa087344ef8d315012363cfd4b",
       "version_major": 2,
       "version_minor": 0
      },
      "text/plain": [
       "HBox(children=(HTML(value=''), FloatProgress(value=0.0, max=7185.0), HTML(value='')))"
      ]
     },
     "metadata": {},
     "output_type": "display_data"
    },
    {
     "name": "stdout",
     "output_type": "stream",
     "text": [
      "\n",
      "Val. Epoch: 45/600. Classification loss: 0.35537. Regression loss: 1.61817. Total loss: 1.97354\n"
     ]
    },
    {
     "data": {
      "application/vnd.jupyter.widget-view+json": {
       "model_id": "992493d268654b1aa57465249a87c231",
       "version_major": 2,
       "version_minor": 0
      },
      "text/plain": [
       "HBox(children=(HTML(value=''), FloatProgress(value=0.0, max=7185.0), HTML(value='')))"
      ]
     },
     "metadata": {},
     "output_type": "display_data"
    },
    {
     "name": "stdout",
     "output_type": "stream",
     "text": [
      "\n",
      "Val. Epoch: 46/600. Classification loss: 0.29219. Regression loss: 1.44494. Total loss: 1.73713\n"
     ]
    },
    {
     "data": {
      "application/vnd.jupyter.widget-view+json": {
       "model_id": "87989e8350d64bc5b5be7bedbd4cabab",
       "version_major": 2,
       "version_minor": 0
      },
      "text/plain": [
       "HBox(children=(HTML(value=''), FloatProgress(value=0.0, max=7185.0), HTML(value='')))"
      ]
     },
     "metadata": {},
     "output_type": "display_data"
    },
    {
     "name": "stdout",
     "output_type": "stream",
     "text": [
      "\n",
      "Val. Epoch: 47/600. Classification loss: 0.28864. Regression loss: 1.41067. Total loss: 1.69931\n"
     ]
    },
    {
     "data": {
      "application/vnd.jupyter.widget-view+json": {
       "model_id": "6dbdc3c9f15d4683801889a49f9a3cce",
       "version_major": 2,
       "version_minor": 0
      },
      "text/plain": [
       "HBox(children=(HTML(value=''), FloatProgress(value=0.0, max=7185.0), HTML(value='')))"
      ]
     },
     "metadata": {},
     "output_type": "display_data"
    },
    {
     "name": "stdout",
     "output_type": "stream",
     "text": [
      "\n",
      "Val. Epoch: 48/600. Classification loss: 0.28310. Regression loss: 1.41671. Total loss: 1.69981\n"
     ]
    },
    {
     "data": {
      "application/vnd.jupyter.widget-view+json": {
       "model_id": "f13d26412d0340809539b1ae9db84a26",
       "version_major": 2,
       "version_minor": 0
      },
      "text/plain": [
       "HBox(children=(HTML(value=''), FloatProgress(value=0.0, max=7185.0), HTML(value='')))"
      ]
     },
     "metadata": {},
     "output_type": "display_data"
    },
    {
     "name": "stdout",
     "output_type": "stream",
     "text": [
      "\n",
      "Val. Epoch: 49/600. Classification loss: 0.30306. Regression loss: 1.47399. Total loss: 1.77705\n"
     ]
    },
    {
     "data": {
      "application/vnd.jupyter.widget-view+json": {
       "model_id": "e38f85f0dce043f18dd6d209a17c5fd6",
       "version_major": 2,
       "version_minor": 0
      },
      "text/plain": [
       "HBox(children=(HTML(value=''), FloatProgress(value=0.0, max=7185.0), HTML(value='')))"
      ]
     },
     "metadata": {},
     "output_type": "display_data"
    },
    {
     "name": "stdout",
     "output_type": "stream",
     "text": [
      "\n",
      "Val. Epoch: 50/600. Classification loss: 0.35963. Regression loss: 1.66022. Total loss: 2.01985\n"
     ]
    },
    {
     "data": {
      "application/vnd.jupyter.widget-view+json": {
       "model_id": "93e16d58c424495ba21e05363b680d82",
       "version_major": 2,
       "version_minor": 0
      },
      "text/plain": [
       "HBox(children=(HTML(value=''), FloatProgress(value=0.0, max=7185.0), HTML(value='')))"
      ]
     },
     "metadata": {},
     "output_type": "display_data"
    },
    {
     "name": "stdout",
     "output_type": "stream",
     "text": [
      "\n",
      "Val. Epoch: 51/600. Classification loss: 0.30560. Regression loss: 1.49798. Total loss: 1.80358\n"
     ]
    },
    {
     "data": {
      "application/vnd.jupyter.widget-view+json": {
       "model_id": "c5cd0f9b476d41518ee8d1c74260ae0a",
       "version_major": 2,
       "version_minor": 0
      },
      "text/plain": [
       "HBox(children=(HTML(value=''), FloatProgress(value=0.0, max=7185.0), HTML(value='')))"
      ]
     },
     "metadata": {},
     "output_type": "display_data"
    },
    {
     "name": "stdout",
     "output_type": "stream",
     "text": [
      "\n",
      "Val. Epoch: 52/600. Classification loss: 0.28339. Regression loss: 1.45067. Total loss: 1.73406\n"
     ]
    },
    {
     "data": {
      "application/vnd.jupyter.widget-view+json": {
       "model_id": "178d4cf013ee4aacae63c2f233c874ff",
       "version_major": 2,
       "version_minor": 0
      },
      "text/plain": [
       "HBox(children=(HTML(value=''), FloatProgress(value=0.0, max=7185.0), HTML(value='')))"
      ]
     },
     "metadata": {},
     "output_type": "display_data"
    },
    {
     "name": "stdout",
     "output_type": "stream",
     "text": [
      "\n",
      "Val. Epoch: 53/600. Classification loss: 0.35064. Regression loss: 1.65428. Total loss: 2.00492\n"
     ]
    },
    {
     "data": {
      "application/vnd.jupyter.widget-view+json": {
       "model_id": "2debe32035024af1bf1f3caf05ce7097",
       "version_major": 2,
       "version_minor": 0
      },
      "text/plain": [
       "HBox(children=(HTML(value=''), FloatProgress(value=0.0, max=7185.0), HTML(value='')))"
      ]
     },
     "metadata": {},
     "output_type": "display_data"
    },
    {
     "name": "stdout",
     "output_type": "stream",
     "text": [
      "\n",
      "Val. Epoch: 54/600. Classification loss: 0.80043. Regression loss: 2.20120. Total loss: 3.00163\n"
     ]
    },
    {
     "data": {
      "application/vnd.jupyter.widget-view+json": {
       "model_id": "30698dfdce1544028493188c932b1df6",
       "version_major": 2,
       "version_minor": 0
      },
      "text/plain": [
       "HBox(children=(HTML(value=''), FloatProgress(value=0.0, max=7185.0), HTML(value='')))"
      ]
     },
     "metadata": {},
     "output_type": "display_data"
    },
    {
     "name": "stdout",
     "output_type": "stream",
     "text": [
      "\n",
      "Val. Epoch: 55/600. Classification loss: 0.33631. Regression loss: 1.57134. Total loss: 1.90764\n"
     ]
    },
    {
     "data": {
      "application/vnd.jupyter.widget-view+json": {
       "model_id": "b577aa6bd26c48dca8bfece80663e66c",
       "version_major": 2,
       "version_minor": 0
      },
      "text/plain": [
       "HBox(children=(HTML(value=''), FloatProgress(value=0.0, max=7185.0), HTML(value='')))"
      ]
     },
     "metadata": {},
     "output_type": "display_data"
    },
    {
     "name": "stdout",
     "output_type": "stream",
     "text": [
      "\n",
      "Val. Epoch: 56/600. Classification loss: 0.30910. Regression loss: 1.51648. Total loss: 1.82557\n"
     ]
    },
    {
     "data": {
      "application/vnd.jupyter.widget-view+json": {
       "model_id": "57e7aad0333b494e8187bf24a172ff79",
       "version_major": 2,
       "version_minor": 0
      },
      "text/plain": [
       "HBox(children=(HTML(value=''), FloatProgress(value=0.0, max=7185.0), HTML(value='')))"
      ]
     },
     "metadata": {},
     "output_type": "display_data"
    },
    {
     "name": "stdout",
     "output_type": "stream",
     "text": [
      "\n",
      "Val. Epoch: 57/600. Classification loss: 0.44947. Regression loss: 1.88525. Total loss: 2.33472\n"
     ]
    },
    {
     "data": {
      "application/vnd.jupyter.widget-view+json": {
       "model_id": "532fbb4e38c246b7a3940f34d18ca20f",
       "version_major": 2,
       "version_minor": 0
      },
      "text/plain": [
       "HBox(children=(HTML(value=''), FloatProgress(value=0.0, max=7185.0), HTML(value='')))"
      ]
     },
     "metadata": {},
     "output_type": "display_data"
    },
    {
     "name": "stdout",
     "output_type": "stream",
     "text": [
      "\n",
      "Val. Epoch: 58/600. Classification loss: 0.57497. Regression loss: 2.09123. Total loss: 2.66620\n"
     ]
    },
    {
     "data": {
      "application/vnd.jupyter.widget-view+json": {
       "model_id": "8b3165a110eb4ab5a8f7925645ff7600",
       "version_major": 2,
       "version_minor": 0
      },
      "text/plain": [
       "HBox(children=(HTML(value=''), FloatProgress(value=0.0, max=7185.0), HTML(value='')))"
      ]
     },
     "metadata": {},
     "output_type": "display_data"
    },
    {
     "name": "stdout",
     "output_type": "stream",
     "text": [
      "\n",
      "Val. Epoch: 59/600. Classification loss: 0.55893. Regression loss: 1.71793. Total loss: 2.27687\n"
     ]
    },
    {
     "data": {
      "application/vnd.jupyter.widget-view+json": {
       "model_id": "f55d42e051e14dc58beab0fab9c6ce27",
       "version_major": 2,
       "version_minor": 0
      },
      "text/plain": [
       "HBox(children=(HTML(value=''), FloatProgress(value=0.0, max=7185.0), HTML(value='')))"
      ]
     },
     "metadata": {},
     "output_type": "display_data"
    },
    {
     "name": "stdout",
     "output_type": "stream",
     "text": [
      "\n",
      "Val. Epoch: 60/600. Classification loss: 0.30810. Regression loss: 1.51235. Total loss: 1.82045\n"
     ]
    },
    {
     "data": {
      "application/vnd.jupyter.widget-view+json": {
       "model_id": "665ecd85f759455e9a0018bf34f8a45b",
       "version_major": 2,
       "version_minor": 0
      },
      "text/plain": [
       "HBox(children=(HTML(value=''), FloatProgress(value=0.0, max=7185.0), HTML(value='')))"
      ]
     },
     "metadata": {},
     "output_type": "display_data"
    },
    {
     "name": "stdout",
     "output_type": "stream",
     "text": [
      "\n",
      "Val. Epoch: 61/600. Classification loss: 0.29876. Regression loss: 1.48470. Total loss: 1.78345\n"
     ]
    },
    {
     "data": {
      "application/vnd.jupyter.widget-view+json": {
       "model_id": "29f8624da9e34dbea0a7b0fd07307015",
       "version_major": 2,
       "version_minor": 0
      },
      "text/plain": [
       "HBox(children=(HTML(value=''), FloatProgress(value=0.0, max=7185.0), HTML(value='')))"
      ]
     },
     "metadata": {},
     "output_type": "display_data"
    },
    {
     "name": "stdout",
     "output_type": "stream",
     "text": [
      "\n",
      "Val. Epoch: 62/600. Classification loss: 0.38984. Regression loss: 1.77768. Total loss: 2.16752\n"
     ]
    },
    {
     "data": {
      "application/vnd.jupyter.widget-view+json": {
       "model_id": "1cc77ba7b0114b2ba9046480e131e02b",
       "version_major": 2,
       "version_minor": 0
      },
      "text/plain": [
       "HBox(children=(HTML(value=''), FloatProgress(value=0.0, max=7185.0), HTML(value='')))"
      ]
     },
     "metadata": {},
     "output_type": "display_data"
    },
    {
     "name": "stdout",
     "output_type": "stream",
     "text": [
      "\n",
      "Val. Epoch: 63/600. Classification loss: 0.29376. Regression loss: 1.49361. Total loss: 1.78737\n"
     ]
    },
    {
     "data": {
      "application/vnd.jupyter.widget-view+json": {
       "model_id": "03d45c618471419591488315865ab692",
       "version_major": 2,
       "version_minor": 0
      },
      "text/plain": [
       "HBox(children=(HTML(value=''), FloatProgress(value=0.0, max=7185.0), HTML(value='')))"
      ]
     },
     "metadata": {},
     "output_type": "display_data"
    },
    {
     "name": "stdout",
     "output_type": "stream",
     "text": [
      "\n",
      "Val. Epoch: 64/600. Classification loss: 0.41475. Regression loss: 1.66762. Total loss: 2.08238\n"
     ]
    },
    {
     "data": {
      "application/vnd.jupyter.widget-view+json": {
       "model_id": "ad8ccbfa1b0841579045fcfa6a3e8cac",
       "version_major": 2,
       "version_minor": 0
      },
      "text/plain": [
       "HBox(children=(HTML(value=''), FloatProgress(value=0.0, max=7185.0), HTML(value='')))"
      ]
     },
     "metadata": {},
     "output_type": "display_data"
    },
    {
     "name": "stdout",
     "output_type": "stream",
     "text": [
      "\n",
      "Val. Epoch: 65/600. Classification loss: 0.40331. Regression loss: 1.72654. Total loss: 2.12985\n"
     ]
    },
    {
     "data": {
      "application/vnd.jupyter.widget-view+json": {
       "model_id": "344e91e7d9b94599a663c1f978ccf821",
       "version_major": 2,
       "version_minor": 0
      },
      "text/plain": [
       "HBox(children=(HTML(value=''), FloatProgress(value=0.0, max=7185.0), HTML(value='')))"
      ]
     },
     "metadata": {},
     "output_type": "display_data"
    },
    {
     "name": "stdout",
     "output_type": "stream",
     "text": [
      "\n",
      "Val. Epoch: 66/600. Classification loss: 0.28247. Regression loss: 1.44197. Total loss: 1.72444\n"
     ]
    },
    {
     "data": {
      "application/vnd.jupyter.widget-view+json": {
       "model_id": "f1b8089caf4d404f9135accdde150be8",
       "version_major": 2,
       "version_minor": 0
      },
      "text/plain": [
       "HBox(children=(HTML(value=''), FloatProgress(value=0.0, max=7185.0), HTML(value='')))"
      ]
     },
     "metadata": {},
     "output_type": "display_data"
    },
    {
     "name": "stdout",
     "output_type": "stream",
     "text": [
      "\n",
      "Val. Epoch: 67/600. Classification loss: 0.31405. Regression loss: 1.55953. Total loss: 1.87358\n"
     ]
    },
    {
     "data": {
      "application/vnd.jupyter.widget-view+json": {
       "model_id": "a16bfee423454edd9e4bd29371debecd",
       "version_major": 2,
       "version_minor": 0
      },
      "text/plain": [
       "HBox(children=(HTML(value=''), FloatProgress(value=0.0, max=7185.0), HTML(value='')))"
      ]
     },
     "metadata": {},
     "output_type": "display_data"
    },
    {
     "name": "stdout",
     "output_type": "stream",
     "text": [
      "\n",
      "Val. Epoch: 68/600. Classification loss: 0.32943. Regression loss: 1.60422. Total loss: 1.93365\n"
     ]
    },
    {
     "data": {
      "application/vnd.jupyter.widget-view+json": {
       "model_id": "c2b15e4c0b4a460cb502a2ec986e0b99",
       "version_major": 2,
       "version_minor": 0
      },
      "text/plain": [
       "HBox(children=(HTML(value=''), FloatProgress(value=0.0, max=7185.0), HTML(value='')))"
      ]
     },
     "metadata": {},
     "output_type": "display_data"
    },
    {
     "name": "stdout",
     "output_type": "stream",
     "text": [
      "\n",
      "Val. Epoch: 69/600. Classification loss: 0.43454. Regression loss: 1.58299. Total loss: 2.01753\n"
     ]
    },
    {
     "data": {
      "application/vnd.jupyter.widget-view+json": {
       "model_id": "08b6611312bc4a38a37c1c63a8a83897",
       "version_major": 2,
       "version_minor": 0
      },
      "text/plain": [
       "HBox(children=(HTML(value=''), FloatProgress(value=0.0, max=7185.0), HTML(value='')))"
      ]
     },
     "metadata": {},
     "output_type": "display_data"
    },
    {
     "name": "stdout",
     "output_type": "stream",
     "text": [
      "\n",
      "Val. Epoch: 70/600. Classification loss: 0.30164. Regression loss: 1.44634. Total loss: 1.74799\n"
     ]
    },
    {
     "data": {
      "application/vnd.jupyter.widget-view+json": {
       "model_id": "3e9774317cfc433fb94c0a598c2e2bfc",
       "version_major": 2,
       "version_minor": 0
      },
      "text/plain": [
       "HBox(children=(HTML(value=''), FloatProgress(value=0.0, max=7185.0), HTML(value='')))"
      ]
     },
     "metadata": {},
     "output_type": "display_data"
    },
    {
     "name": "stdout",
     "output_type": "stream",
     "text": [
      "\n",
      "Val. Epoch: 71/600. Classification loss: 0.30792. Regression loss: 1.54010. Total loss: 1.84802\n"
     ]
    },
    {
     "data": {
      "application/vnd.jupyter.widget-view+json": {
       "model_id": "434b378c8c234a268af9edf71c29bb27",
       "version_major": 2,
       "version_minor": 0
      },
      "text/plain": [
       "HBox(children=(HTML(value=''), FloatProgress(value=0.0, max=7185.0), HTML(value='')))"
      ]
     },
     "metadata": {},
     "output_type": "display_data"
    },
    {
     "name": "stdout",
     "output_type": "stream",
     "text": [
      "\n",
      "Val. Epoch: 72/600. Classification loss: 0.31724. Regression loss: 1.56330. Total loss: 1.88054\n"
     ]
    },
    {
     "data": {
      "application/vnd.jupyter.widget-view+json": {
       "model_id": "462caaa5dc1549c6ac45f423e8a90717",
       "version_major": 2,
       "version_minor": 0
      },
      "text/plain": [
       "HBox(children=(HTML(value=''), FloatProgress(value=0.0, max=7185.0), HTML(value='')))"
      ]
     },
     "metadata": {},
     "output_type": "display_data"
    },
    {
     "name": "stdout",
     "output_type": "stream",
     "text": [
      "\n",
      "Val. Epoch: 73/600. Classification loss: 0.29261. Regression loss: 1.48745. Total loss: 1.78006\n"
     ]
    },
    {
     "data": {
      "application/vnd.jupyter.widget-view+json": {
       "model_id": "b5f956123ae34382b8517527aa5b310f",
       "version_major": 2,
       "version_minor": 0
      },
      "text/plain": [
       "HBox(children=(HTML(value=''), FloatProgress(value=0.0, max=7185.0), HTML(value='')))"
      ]
     },
     "metadata": {},
     "output_type": "display_data"
    },
    {
     "name": "stdout",
     "output_type": "stream",
     "text": [
      "\n",
      "Val. Epoch: 74/600. Classification loss: 0.31953. Regression loss: 1.51948. Total loss: 1.83901\n"
     ]
    },
    {
     "data": {
      "application/vnd.jupyter.widget-view+json": {
       "model_id": "ff5c4652d1b4461e8f1ea6d8b5c3644d",
       "version_major": 2,
       "version_minor": 0
      },
      "text/plain": [
       "HBox(children=(HTML(value=''), FloatProgress(value=0.0, max=7185.0), HTML(value='')))"
      ]
     },
     "metadata": {},
     "output_type": "display_data"
    },
    {
     "name": "stdout",
     "output_type": "stream",
     "text": [
      "\n",
      "Val. Epoch: 75/600. Classification loss: 0.33454. Regression loss: 1.55494. Total loss: 1.88947\n"
     ]
    },
    {
     "data": {
      "application/vnd.jupyter.widget-view+json": {
       "model_id": "2dc029cb36db4e149629d13f79ea7b9c",
       "version_major": 2,
       "version_minor": 0
      },
      "text/plain": [
       "HBox(children=(HTML(value=''), FloatProgress(value=0.0, max=7185.0), HTML(value='')))"
      ]
     },
     "metadata": {},
     "output_type": "display_data"
    },
    {
     "name": "stdout",
     "output_type": "stream",
     "text": [
      "\n",
      "Val. Epoch: 76/600. Classification loss: 0.30487. Regression loss: 1.52213. Total loss: 1.82699\n"
     ]
    },
    {
     "data": {
      "application/vnd.jupyter.widget-view+json": {
       "model_id": "d0d8db91179c429abd7a36179ec09dd5",
       "version_major": 2,
       "version_minor": 0
      },
      "text/plain": [
       "HBox(children=(HTML(value=''), FloatProgress(value=0.0, max=7185.0), HTML(value='')))"
      ]
     },
     "metadata": {},
     "output_type": "display_data"
    },
    {
     "name": "stdout",
     "output_type": "stream",
     "text": [
      "\n",
      "Val. Epoch: 77/600. Classification loss: 0.31785. Regression loss: 1.59048. Total loss: 1.90833\n"
     ]
    },
    {
     "data": {
      "application/vnd.jupyter.widget-view+json": {
       "model_id": "a8a086f9b72e4c9aba7670d92066a1ee",
       "version_major": 2,
       "version_minor": 0
      },
      "text/plain": [
       "HBox(children=(HTML(value=''), FloatProgress(value=0.0, max=7185.0), HTML(value='')))"
      ]
     },
     "metadata": {},
     "output_type": "display_data"
    },
    {
     "name": "stdout",
     "output_type": "stream",
     "text": [
      "\n",
      "Val. Epoch: 78/600. Classification loss: 0.28826. Regression loss: 1.48832. Total loss: 1.77658\n"
     ]
    },
    {
     "data": {
      "application/vnd.jupyter.widget-view+json": {
       "model_id": "ab241764e1a8428aa26eb8b01be1f662",
       "version_major": 2,
       "version_minor": 0
      },
      "text/plain": [
       "HBox(children=(HTML(value=''), FloatProgress(value=0.0, max=7185.0), HTML(value='')))"
      ]
     },
     "metadata": {},
     "output_type": "display_data"
    },
    {
     "name": "stdout",
     "output_type": "stream",
     "text": [
      "\n",
      "Val. Epoch: 79/600. Classification loss: 0.29003. Regression loss: 1.48316. Total loss: 1.77319\n"
     ]
    },
    {
     "data": {
      "application/vnd.jupyter.widget-view+json": {
       "model_id": "7a4dcbbf251e41a18efff6a83da01c70",
       "version_major": 2,
       "version_minor": 0
      },
      "text/plain": [
       "HBox(children=(HTML(value=''), FloatProgress(value=0.0, max=7185.0), HTML(value='')))"
      ]
     },
     "metadata": {},
     "output_type": "display_data"
    },
    {
     "name": "stdout",
     "output_type": "stream",
     "text": [
      "\n",
      "Val. Epoch: 80/600. Classification loss: 0.30866. Regression loss: 1.46568. Total loss: 1.77434\n"
     ]
    },
    {
     "data": {
      "application/vnd.jupyter.widget-view+json": {
       "model_id": "7259ef8a0d7647a988e3c0c6b0e401ca",
       "version_major": 2,
       "version_minor": 0
      },
      "text/plain": [
       "HBox(children=(HTML(value=''), FloatProgress(value=0.0, max=7185.0), HTML(value='')))"
      ]
     },
     "metadata": {},
     "output_type": "display_data"
    },
    {
     "name": "stdout",
     "output_type": "stream",
     "text": [
      "\n",
      "Val. Epoch: 81/600. Classification loss: 0.28835. Regression loss: 1.47545. Total loss: 1.76380\n"
     ]
    },
    {
     "data": {
      "application/vnd.jupyter.widget-view+json": {
       "model_id": "d6b4384ce6aa422e8c78e1be00e565fd",
       "version_major": 2,
       "version_minor": 0
      },
      "text/plain": [
       "HBox(children=(HTML(value=''), FloatProgress(value=0.0, max=7185.0), HTML(value='')))"
      ]
     },
     "metadata": {},
     "output_type": "display_data"
    },
    {
     "name": "stdout",
     "output_type": "stream",
     "text": [
      "\n",
      "Val. Epoch: 82/600. Classification loss: 0.55784. Regression loss: 1.76225. Total loss: 2.32008\n"
     ]
    },
    {
     "data": {
      "application/vnd.jupyter.widget-view+json": {
       "model_id": "88a19bc321e74be6a65ae81991d2e335",
       "version_major": 2,
       "version_minor": 0
      },
      "text/plain": [
       "HBox(children=(HTML(value=''), FloatProgress(value=0.0, max=7185.0), HTML(value='')))"
      ]
     },
     "metadata": {},
     "output_type": "display_data"
    },
    {
     "name": "stdout",
     "output_type": "stream",
     "text": [
      "\n",
      "Val. Epoch: 83/600. Classification loss: 0.29347. Regression loss: 1.53239. Total loss: 1.82586\n"
     ]
    },
    {
     "data": {
      "application/vnd.jupyter.widget-view+json": {
       "model_id": "9310afb4c4864981bab5378cc57e0885",
       "version_major": 2,
       "version_minor": 0
      },
      "text/plain": [
       "HBox(children=(HTML(value=''), FloatProgress(value=0.0, max=7185.0), HTML(value='')))"
      ]
     },
     "metadata": {},
     "output_type": "display_data"
    },
    {
     "name": "stdout",
     "output_type": "stream",
     "text": [
      "\n",
      "Val. Epoch: 84/600. Classification loss: 0.28615. Regression loss: 1.49109. Total loss: 1.77725\n"
     ]
    },
    {
     "data": {
      "application/vnd.jupyter.widget-view+json": {
       "model_id": "562c1cdd79f04a1c9dad5907d5f8c615",
       "version_major": 2,
       "version_minor": 0
      },
      "text/plain": [
       "HBox(children=(HTML(value=''), FloatProgress(value=0.0, max=7185.0), HTML(value='')))"
      ]
     },
     "metadata": {},
     "output_type": "display_data"
    },
    {
     "name": "stdout",
     "output_type": "stream",
     "text": [
      "\n",
      "Val. Epoch: 85/600. Classification loss: 0.29552. Regression loss: 1.52465. Total loss: 1.82017\n"
     ]
    },
    {
     "data": {
      "application/vnd.jupyter.widget-view+json": {
       "model_id": "c5bc8b44e52649c6aaed9dba8137ce1d",
       "version_major": 2,
       "version_minor": 0
      },
      "text/plain": [
       "HBox(children=(HTML(value=''), FloatProgress(value=0.0, max=7185.0), HTML(value='')))"
      ]
     },
     "metadata": {},
     "output_type": "display_data"
    },
    {
     "name": "stdout",
     "output_type": "stream",
     "text": [
      "\n",
      "Val. Epoch: 86/600. Classification loss: 0.69171. Regression loss: 1.92789. Total loss: 2.61959\n"
     ]
    },
    {
     "data": {
      "application/vnd.jupyter.widget-view+json": {
       "model_id": "3a8cccce993245cd90b9e42beac334b9",
       "version_major": 2,
       "version_minor": 0
      },
      "text/plain": [
       "HBox(children=(HTML(value=''), FloatProgress(value=0.0, max=7185.0), HTML(value='')))"
      ]
     },
     "metadata": {},
     "output_type": "display_data"
    },
    {
     "name": "stdout",
     "output_type": "stream",
     "text": [
      "\n",
      "Val. Epoch: 87/600. Classification loss: 0.30423. Regression loss: 1.48719. Total loss: 1.79142\n"
     ]
    },
    {
     "data": {
      "application/vnd.jupyter.widget-view+json": {
       "model_id": "b0e63d59ad8148268d232be9bda5879a",
       "version_major": 2,
       "version_minor": 0
      },
      "text/plain": [
       "HBox(children=(HTML(value=''), FloatProgress(value=0.0, max=7185.0), HTML(value='')))"
      ]
     },
     "metadata": {},
     "output_type": "display_data"
    },
    {
     "name": "stdout",
     "output_type": "stream",
     "text": [
      "\n",
      "Val. Epoch: 88/600. Classification loss: 0.29278. Regression loss: 1.50454. Total loss: 1.79732\n"
     ]
    },
    {
     "data": {
      "application/vnd.jupyter.widget-view+json": {
       "model_id": "3c69ef231447405bb462ad8ceca038f8",
       "version_major": 2,
       "version_minor": 0
      },
      "text/plain": [
       "HBox(children=(HTML(value=''), FloatProgress(value=0.0, max=7185.0), HTML(value='')))"
      ]
     },
     "metadata": {},
     "output_type": "display_data"
    },
    {
     "name": "stdout",
     "output_type": "stream",
     "text": [
      "\n",
      "Val. Epoch: 89/600. Classification loss: 0.29380. Regression loss: 1.51687. Total loss: 1.81067\n"
     ]
    },
    {
     "data": {
      "application/vnd.jupyter.widget-view+json": {
       "model_id": "e27871e254c44938a3c46f9ce899421a",
       "version_major": 2,
       "version_minor": 0
      },
      "text/plain": [
       "HBox(children=(HTML(value=''), FloatProgress(value=0.0, max=7185.0), HTML(value='')))"
      ]
     },
     "metadata": {},
     "output_type": "display_data"
    },
    {
     "name": "stdout",
     "output_type": "stream",
     "text": [
      "\n",
      "Val. Epoch: 90/600. Classification loss: 0.55352. Regression loss: 1.95301. Total loss: 2.50654\n"
     ]
    },
    {
     "data": {
      "application/vnd.jupyter.widget-view+json": {
       "model_id": "fb487be584bf4910bdfde80ffa3915a9",
       "version_major": 2,
       "version_minor": 0
      },
      "text/plain": [
       "HBox(children=(HTML(value=''), FloatProgress(value=0.0, max=7185.0), HTML(value='')))"
      ]
     },
     "metadata": {},
     "output_type": "display_data"
    },
    {
     "name": "stdout",
     "output_type": "stream",
     "text": [
      "\n",
      "Val. Epoch: 91/600. Classification loss: 0.28519. Regression loss: 1.49240. Total loss: 1.77759\n"
     ]
    },
    {
     "data": {
      "application/vnd.jupyter.widget-view+json": {
       "model_id": "30109ddccc6b4ca5a2b04b2c9f0837a1",
       "version_major": 2,
       "version_minor": 0
      },
      "text/plain": [
       "HBox(children=(HTML(value=''), FloatProgress(value=0.0, max=7185.0), HTML(value='')))"
      ]
     },
     "metadata": {},
     "output_type": "display_data"
    },
    {
     "name": "stdout",
     "output_type": "stream",
     "text": [
      "\n",
      "Val. Epoch: 92/600. Classification loss: 0.58759. Regression loss: 2.15533. Total loss: 2.74293\n"
     ]
    },
    {
     "data": {
      "application/vnd.jupyter.widget-view+json": {
       "model_id": "32317fd99020441989cb6ab0a104b8b0",
       "version_major": 2,
       "version_minor": 0
      },
      "text/plain": [
       "HBox(children=(HTML(value=''), FloatProgress(value=0.0, max=7185.0), HTML(value='')))"
      ]
     },
     "metadata": {},
     "output_type": "display_data"
    },
    {
     "name": "stdout",
     "output_type": "stream",
     "text": [
      "\n",
      "Val. Epoch: 93/600. Classification loss: 0.60228. Regression loss: 2.15302. Total loss: 2.75530\n"
     ]
    },
    {
     "data": {
      "application/vnd.jupyter.widget-view+json": {
       "model_id": "fbb98d56446e4da895ebc0ae692aa02e",
       "version_major": 2,
       "version_minor": 0
      },
      "text/plain": [
       "HBox(children=(HTML(value=''), FloatProgress(value=0.0, max=7185.0), HTML(value='')))"
      ]
     },
     "metadata": {},
     "output_type": "display_data"
    },
    {
     "name": "stdout",
     "output_type": "stream",
     "text": [
      "\n",
      "Val. Epoch: 94/600. Classification loss: 0.31256. Regression loss: 1.59349. Total loss: 1.90605\n"
     ]
    },
    {
     "data": {
      "application/vnd.jupyter.widget-view+json": {
       "model_id": "b8d15a560e6943d4976610dcedd4e0d9",
       "version_major": 2,
       "version_minor": 0
      },
      "text/plain": [
       "HBox(children=(HTML(value=''), FloatProgress(value=0.0, max=7185.0), HTML(value='')))"
      ]
     },
     "metadata": {},
     "output_type": "display_data"
    },
    {
     "name": "stdout",
     "output_type": "stream",
     "text": [
      "\n",
      "Val. Epoch: 95/600. Classification loss: 0.61655. Regression loss: 2.05276. Total loss: 2.66931\n"
     ]
    },
    {
     "data": {
      "application/vnd.jupyter.widget-view+json": {
       "model_id": "8412ad003cc74027809c7b5b9fd9b790",
       "version_major": 2,
       "version_minor": 0
      },
      "text/plain": [
       "HBox(children=(HTML(value=''), FloatProgress(value=0.0, max=7185.0), HTML(value='')))"
      ]
     },
     "metadata": {},
     "output_type": "display_data"
    },
    {
     "name": "stdout",
     "output_type": "stream",
     "text": [
      "\n",
      "Val. Epoch: 96/600. Classification loss: 0.28618. Regression loss: 1.49587. Total loss: 1.78205\n"
     ]
    },
    {
     "data": {
      "application/vnd.jupyter.widget-view+json": {
       "model_id": "dbe99fd5d28944c2888ff326f905db4f",
       "version_major": 2,
       "version_minor": 0
      },
      "text/plain": [
       "HBox(children=(HTML(value=''), FloatProgress(value=0.0, max=7185.0), HTML(value='')))"
      ]
     },
     "metadata": {},
     "output_type": "display_data"
    },
    {
     "name": "stdout",
     "output_type": "stream",
     "text": [
      "\n",
      "Val. Epoch: 97/600. Classification loss: 0.29269. Regression loss: 1.49179. Total loss: 1.78449\n"
     ]
    },
    {
     "data": {
      "application/vnd.jupyter.widget-view+json": {
       "model_id": "20789f57c9144864bcb66d3f62c3b2b1",
       "version_major": 2,
       "version_minor": 0
      },
      "text/plain": [
       "HBox(children=(HTML(value=''), FloatProgress(value=0.0, max=7185.0), HTML(value='')))"
      ]
     },
     "metadata": {},
     "output_type": "display_data"
    },
    {
     "name": "stdout",
     "output_type": "stream",
     "text": [
      "\n",
      "Val. Epoch: 98/600. Classification loss: 0.29441. Regression loss: 1.48180. Total loss: 1.77622\n"
     ]
    },
    {
     "data": {
      "application/vnd.jupyter.widget-view+json": {
       "model_id": "4bf7afd7d24447a78f2fd37b9877a2bc",
       "version_major": 2,
       "version_minor": 0
      },
      "text/plain": [
       "HBox(children=(HTML(value=''), FloatProgress(value=0.0, max=7185.0), HTML(value='')))"
      ]
     },
     "metadata": {},
     "output_type": "display_data"
    },
    {
     "name": "stdout",
     "output_type": "stream",
     "text": [
      "\n",
      "Val. Epoch: 99/600. Classification loss: 0.56034. Regression loss: 2.09411. Total loss: 2.65445\n"
     ]
    },
    {
     "data": {
      "application/vnd.jupyter.widget-view+json": {
       "model_id": "8a46e188e52d4f2eaeaa378589650818",
       "version_major": 2,
       "version_minor": 0
      },
      "text/plain": [
       "HBox(children=(HTML(value=''), FloatProgress(value=0.0, max=7185.0), HTML(value='')))"
      ]
     },
     "metadata": {},
     "output_type": "display_data"
    },
    {
     "name": "stdout",
     "output_type": "stream",
     "text": [
      "\n",
      "Val. Epoch: 100/600. Classification loss: 0.31729. Regression loss: 1.58958. Total loss: 1.90687\n"
     ]
    },
    {
     "data": {
      "application/vnd.jupyter.widget-view+json": {
       "model_id": "ea0cfbcf3d084fe2824ab9f4476aaffb",
       "version_major": 2,
       "version_minor": 0
      },
      "text/plain": [
       "HBox(children=(HTML(value=''), FloatProgress(value=0.0, max=7185.0), HTML(value='')))"
      ]
     },
     "metadata": {},
     "output_type": "display_data"
    },
    {
     "name": "stdout",
     "output_type": "stream",
     "text": [
      "\n",
      "Val. Epoch: 101/600. Classification loss: 0.28640. Regression loss: 1.47388. Total loss: 1.76027\n"
     ]
    },
    {
     "data": {
      "application/vnd.jupyter.widget-view+json": {
       "model_id": "a8388743e14548269b4c04d5ceb7973b",
       "version_major": 2,
       "version_minor": 0
      },
      "text/plain": [
       "HBox(children=(HTML(value=''), FloatProgress(value=0.0, max=7185.0), HTML(value='')))"
      ]
     },
     "metadata": {},
     "output_type": "display_data"
    },
    {
     "name": "stdout",
     "output_type": "stream",
     "text": [
      "\n",
      "Val. Epoch: 102/600. Classification loss: 0.40799. Regression loss: 1.90981. Total loss: 2.31780\n"
     ]
    },
    {
     "data": {
      "application/vnd.jupyter.widget-view+json": {
       "model_id": "9ddd133536b14d829ad66da97705ff65",
       "version_major": 2,
       "version_minor": 0
      },
      "text/plain": [
       "HBox(children=(HTML(value=''), FloatProgress(value=0.0, max=7185.0), HTML(value='')))"
      ]
     },
     "metadata": {},
     "output_type": "display_data"
    },
    {
     "name": "stdout",
     "output_type": "stream",
     "text": [
      "\n",
      "Val. Epoch: 103/600. Classification loss: 0.37806. Regression loss: 1.79753. Total loss: 2.17559\n"
     ]
    },
    {
     "data": {
      "application/vnd.jupyter.widget-view+json": {
       "model_id": "ba40e39b0547411391705bbe2e775421",
       "version_major": 2,
       "version_minor": 0
      },
      "text/plain": [
       "HBox(children=(HTML(value=''), FloatProgress(value=0.0, max=7185.0), HTML(value='')))"
      ]
     },
     "metadata": {},
     "output_type": "display_data"
    },
    {
     "name": "stdout",
     "output_type": "stream",
     "text": [
      "\n",
      "Val. Epoch: 104/600. Classification loss: 0.30474. Regression loss: 1.52228. Total loss: 1.82701\n"
     ]
    },
    {
     "data": {
      "application/vnd.jupyter.widget-view+json": {
       "model_id": "846f5ebd72d640ae995a543b7a2c0019",
       "version_major": 2,
       "version_minor": 0
      },
      "text/plain": [
       "HBox(children=(HTML(value=''), FloatProgress(value=0.0, max=7185.0), HTML(value='')))"
      ]
     },
     "metadata": {},
     "output_type": "display_data"
    },
    {
     "name": "stdout",
     "output_type": "stream",
     "text": [
      "\n",
      "Val. Epoch: 105/600. Classification loss: 0.67364. Regression loss: 2.36173. Total loss: 3.03537\n"
     ]
    },
    {
     "data": {
      "application/vnd.jupyter.widget-view+json": {
       "model_id": "2031a2d07bbd477c9fb9f9cdbaaf92a7",
       "version_major": 2,
       "version_minor": 0
      },
      "text/plain": [
       "HBox(children=(HTML(value=''), FloatProgress(value=0.0, max=7185.0), HTML(value='')))"
      ]
     },
     "metadata": {},
     "output_type": "display_data"
    },
    {
     "name": "stdout",
     "output_type": "stream",
     "text": [
      "\n",
      "Val. Epoch: 106/600. Classification loss: 0.28906. Regression loss: 1.51694. Total loss: 1.80601\n"
     ]
    },
    {
     "data": {
      "application/vnd.jupyter.widget-view+json": {
       "model_id": "e489a34e2c9d402c88b66c348a8c2400",
       "version_major": 2,
       "version_minor": 0
      },
      "text/plain": [
       "HBox(children=(HTML(value=''), FloatProgress(value=0.0, max=7185.0), HTML(value='')))"
      ]
     },
     "metadata": {},
     "output_type": "display_data"
    },
    {
     "name": "stdout",
     "output_type": "stream",
     "text": [
      "\n",
      "Val. Epoch: 107/600. Classification loss: 0.29965. Regression loss: 1.53867. Total loss: 1.83832\n"
     ]
    },
    {
     "data": {
      "application/vnd.jupyter.widget-view+json": {
       "model_id": "ae3e79422b5e46a69523ed7f788ca781",
       "version_major": 2,
       "version_minor": 0
      },
      "text/plain": [
       "HBox(children=(HTML(value=''), FloatProgress(value=0.0, max=7185.0), HTML(value='')))"
      ]
     },
     "metadata": {},
     "output_type": "display_data"
    },
    {
     "name": "stdout",
     "output_type": "stream",
     "text": [
      "\n",
      "Val. Epoch: 108/600. Classification loss: 0.54809. Regression loss: 2.11472. Total loss: 2.66281\n"
     ]
    },
    {
     "data": {
      "application/vnd.jupyter.widget-view+json": {
       "model_id": "efa0a91bd6b845b1bb2735f694187400",
       "version_major": 2,
       "version_minor": 0
      },
      "text/plain": [
       "HBox(children=(HTML(value=''), FloatProgress(value=0.0, max=7185.0), HTML(value='')))"
      ]
     },
     "metadata": {},
     "output_type": "display_data"
    },
    {
     "name": "stdout",
     "output_type": "stream",
     "text": [
      "\n",
      "Val. Epoch: 109/600. Classification loss: 0.30442. Regression loss: 1.59462. Total loss: 1.89903\n"
     ]
    },
    {
     "data": {
      "application/vnd.jupyter.widget-view+json": {
       "model_id": "c04bb0f233ba4e1a8e175a9a1b5e26e8",
       "version_major": 2,
       "version_minor": 0
      },
      "text/plain": [
       "HBox(children=(HTML(value=''), FloatProgress(value=0.0, max=7185.0), HTML(value='')))"
      ]
     },
     "metadata": {},
     "output_type": "display_data"
    },
    {
     "name": "stdout",
     "output_type": "stream",
     "text": [
      "\n",
      "Val. Epoch: 110/600. Classification loss: 0.29371. Regression loss: 1.52415. Total loss: 1.81787\n"
     ]
    },
    {
     "data": {
      "application/vnd.jupyter.widget-view+json": {
       "model_id": "55613a422d7447578918e7b7f18e400e",
       "version_major": 2,
       "version_minor": 0
      },
      "text/plain": [
       "HBox(children=(HTML(value=''), FloatProgress(value=0.0, max=7185.0), HTML(value='')))"
      ]
     },
     "metadata": {},
     "output_type": "display_data"
    },
    {
     "name": "stdout",
     "output_type": "stream",
     "text": [
      "\n",
      "Val. Epoch: 111/600. Classification loss: 0.42415. Regression loss: 1.89457. Total loss: 2.31873\n"
     ]
    },
    {
     "data": {
      "application/vnd.jupyter.widget-view+json": {
       "model_id": "353f49f7d2ec40e6b4f01a852687768a",
       "version_major": 2,
       "version_minor": 0
      },
      "text/plain": [
       "HBox(children=(HTML(value=''), FloatProgress(value=0.0, max=7185.0), HTML(value='')))"
      ]
     },
     "metadata": {},
     "output_type": "display_data"
    },
    {
     "name": "stdout",
     "output_type": "stream",
     "text": [
      "\n",
      "Val. Epoch: 112/600. Classification loss: 0.57160. Regression loss: 1.76169. Total loss: 2.33328\n"
     ]
    },
    {
     "data": {
      "application/vnd.jupyter.widget-view+json": {
       "model_id": "e857efe40cdb45a7a4997329f0eb12c3",
       "version_major": 2,
       "version_minor": 0
      },
      "text/plain": [
       "HBox(children=(HTML(value=''), FloatProgress(value=0.0, max=7185.0), HTML(value='')))"
      ]
     },
     "metadata": {},
     "output_type": "display_data"
    },
    {
     "name": "stdout",
     "output_type": "stream",
     "text": [
      "\n",
      "Val. Epoch: 113/600. Classification loss: 0.36177. Regression loss: 1.75429. Total loss: 2.11606\n"
     ]
    },
    {
     "data": {
      "application/vnd.jupyter.widget-view+json": {
       "model_id": "53b0d36f4304407bbe8419ba55f3b6bc",
       "version_major": 2,
       "version_minor": 0
      },
      "text/plain": [
       "HBox(children=(HTML(value=''), FloatProgress(value=0.0, max=7185.0), HTML(value='')))"
      ]
     },
     "metadata": {},
     "output_type": "display_data"
    },
    {
     "name": "stdout",
     "output_type": "stream",
     "text": [
      "\n",
      "Val. Epoch: 114/600. Classification loss: 0.62673. Regression loss: 1.73841. Total loss: 2.36514\n"
     ]
    },
    {
     "data": {
      "application/vnd.jupyter.widget-view+json": {
       "model_id": "62ab1cbfb565491fb33b9ff253fc810d",
       "version_major": 2,
       "version_minor": 0
      },
      "text/plain": [
       "HBox(children=(HTML(value=''), FloatProgress(value=0.0, max=7185.0), HTML(value='')))"
      ]
     },
     "metadata": {},
     "output_type": "display_data"
    },
    {
     "name": "stdout",
     "output_type": "stream",
     "text": [
      "\n",
      "Val. Epoch: 115/600. Classification loss: 0.32167. Regression loss: 1.61857. Total loss: 1.94025\n"
     ]
    },
    {
     "data": {
      "application/vnd.jupyter.widget-view+json": {
       "model_id": "f0893696bed445acb529f48192462df1",
       "version_major": 2,
       "version_minor": 0
      },
      "text/plain": [
       "HBox(children=(HTML(value=''), FloatProgress(value=0.0, max=7185.0), HTML(value='')))"
      ]
     },
     "metadata": {},
     "output_type": "display_data"
    },
    {
     "name": "stdout",
     "output_type": "stream",
     "text": [
      "\n",
      "Val. Epoch: 116/600. Classification loss: 0.30634. Regression loss: 1.52424. Total loss: 1.83058\n"
     ]
    },
    {
     "data": {
      "application/vnd.jupyter.widget-view+json": {
       "model_id": "a4785bf682a94289a15aa5393f337f4b",
       "version_major": 2,
       "version_minor": 0
      },
      "text/plain": [
       "HBox(children=(HTML(value=''), FloatProgress(value=0.0, max=7185.0), HTML(value='')))"
      ]
     },
     "metadata": {},
     "output_type": "display_data"
    },
    {
     "name": "stdout",
     "output_type": "stream",
     "text": [
      "\n",
      "Val. Epoch: 117/600. Classification loss: 0.60132. Regression loss: 2.24173. Total loss: 2.84305\n"
     ]
    },
    {
     "data": {
      "application/vnd.jupyter.widget-view+json": {
       "model_id": "2e63ba6457dc43c1b3062d260acea355",
       "version_major": 2,
       "version_minor": 0
      },
      "text/plain": [
       "HBox(children=(HTML(value=''), FloatProgress(value=0.0, max=7185.0), HTML(value='')))"
      ]
     },
     "metadata": {},
     "output_type": "display_data"
    },
    {
     "name": "stdout",
     "output_type": "stream",
     "text": [
      "\n",
      "Val. Epoch: 118/600. Classification loss: 0.31469. Regression loss: 1.55831. Total loss: 1.87300\n"
     ]
    },
    {
     "data": {
      "application/vnd.jupyter.widget-view+json": {
       "model_id": "561811eeb41e41499d2e63cf12430374",
       "version_major": 2,
       "version_minor": 0
      },
      "text/plain": [
       "HBox(children=(HTML(value=''), FloatProgress(value=0.0, max=7185.0), HTML(value='')))"
      ]
     },
     "metadata": {},
     "output_type": "display_data"
    },
    {
     "name": "stdout",
     "output_type": "stream",
     "text": [
      "\n",
      "Val. Epoch: 119/600. Classification loss: 0.52820. Regression loss: 1.81313. Total loss: 2.34133\n"
     ]
    },
    {
     "data": {
      "application/vnd.jupyter.widget-view+json": {
       "model_id": "cb234ee3734c404ebdf3ce29e465fa37",
       "version_major": 2,
       "version_minor": 0
      },
      "text/plain": [
       "HBox(children=(HTML(value=''), FloatProgress(value=0.0, max=7185.0), HTML(value='')))"
      ]
     },
     "metadata": {},
     "output_type": "display_data"
    },
    {
     "name": "stdout",
     "output_type": "stream",
     "text": [
      "\n",
      "Val. Epoch: 120/600. Classification loss: 0.98806. Regression loss: 1.89628. Total loss: 2.88434\n"
     ]
    },
    {
     "data": {
      "application/vnd.jupyter.widget-view+json": {
       "model_id": "3eb762e486c04ce8a62b6bda936cb69d",
       "version_major": 2,
       "version_minor": 0
      },
      "text/plain": [
       "HBox(children=(HTML(value=''), FloatProgress(value=0.0, max=7185.0), HTML(value='')))"
      ]
     },
     "metadata": {},
     "output_type": "display_data"
    },
    {
     "name": "stdout",
     "output_type": "stream",
     "text": [
      "\n",
      "Val. Epoch: 121/600. Classification loss: 0.28950. Regression loss: 1.49690. Total loss: 1.78640\n"
     ]
    },
    {
     "data": {
      "application/vnd.jupyter.widget-view+json": {
       "model_id": "e23636b72d7642deb46ec164e3161e46",
       "version_major": 2,
       "version_minor": 0
      },
      "text/plain": [
       "HBox(children=(HTML(value=''), FloatProgress(value=0.0, max=7185.0), HTML(value='')))"
      ]
     },
     "metadata": {},
     "output_type": "display_data"
    },
    {
     "name": "stdout",
     "output_type": "stream",
     "text": [
      "\n",
      "Val. Epoch: 122/600. Classification loss: 0.35121. Regression loss: 1.69115. Total loss: 2.04236\n"
     ]
    },
    {
     "data": {
      "application/vnd.jupyter.widget-view+json": {
       "model_id": "5929ff1b244a48b0b0e5982ddb4c1734",
       "version_major": 2,
       "version_minor": 0
      },
      "text/plain": [
       "HBox(children=(HTML(value=''), FloatProgress(value=0.0, max=7185.0), HTML(value='')))"
      ]
     },
     "metadata": {},
     "output_type": "display_data"
    },
    {
     "name": "stdout",
     "output_type": "stream",
     "text": [
      "\n",
      "Val. Epoch: 123/600. Classification loss: 0.34913. Regression loss: 1.64470. Total loss: 1.99383\n"
     ]
    },
    {
     "data": {
      "application/vnd.jupyter.widget-view+json": {
       "model_id": "8720024097bc404293e9b5923dd20f02",
       "version_major": 2,
       "version_minor": 0
      },
      "text/plain": [
       "HBox(children=(HTML(value=''), FloatProgress(value=0.0, max=7185.0), HTML(value='')))"
      ]
     },
     "metadata": {},
     "output_type": "display_data"
    },
    {
     "name": "stdout",
     "output_type": "stream",
     "text": [
      "\n",
      "Val. Epoch: 124/600. Classification loss: 0.29875. Regression loss: 1.50371. Total loss: 1.80246\n"
     ]
    },
    {
     "data": {
      "application/vnd.jupyter.widget-view+json": {
       "model_id": "4903412aa3d64f17a207959eb44d61ae",
       "version_major": 2,
       "version_minor": 0
      },
      "text/plain": [
       "HBox(children=(HTML(value=''), FloatProgress(value=0.0, max=7185.0), HTML(value='')))"
      ]
     },
     "metadata": {},
     "output_type": "display_data"
    },
    {
     "name": "stdout",
     "output_type": "stream",
     "text": [
      "\n",
      "Val. Epoch: 125/600. Classification loss: 0.30805. Regression loss: 1.54090. Total loss: 1.84895\n"
     ]
    },
    {
     "data": {
      "application/vnd.jupyter.widget-view+json": {
       "model_id": "4e528bd9f9504108ab0500dd93790e3f",
       "version_major": 2,
       "version_minor": 0
      },
      "text/plain": [
       "HBox(children=(HTML(value=''), FloatProgress(value=0.0, max=7185.0), HTML(value='')))"
      ]
     },
     "metadata": {},
     "output_type": "display_data"
    },
    {
     "name": "stdout",
     "output_type": "stream",
     "text": [
      "\n",
      "Val. Epoch: 126/600. Classification loss: 0.37135. Regression loss: 1.66110. Total loss: 2.03245\n"
     ]
    },
    {
     "data": {
      "application/vnd.jupyter.widget-view+json": {
       "model_id": "ae06cfb433ff42888e72ce8c34624a7e",
       "version_major": 2,
       "version_minor": 0
      },
      "text/plain": [
       "HBox(children=(HTML(value=''), FloatProgress(value=0.0, max=7185.0), HTML(value='')))"
      ]
     },
     "metadata": {},
     "output_type": "display_data"
    },
    {
     "name": "stdout",
     "output_type": "stream",
     "text": [
      "\n",
      "Val. Epoch: 127/600. Classification loss: 0.29550. Regression loss: 1.50498. Total loss: 1.80047\n"
     ]
    },
    {
     "data": {
      "application/vnd.jupyter.widget-view+json": {
       "model_id": "6e6b52683792470ab5bf068125508133",
       "version_major": 2,
       "version_minor": 0
      },
      "text/plain": [
       "HBox(children=(HTML(value=''), FloatProgress(value=0.0, max=7185.0), HTML(value='')))"
      ]
     },
     "metadata": {},
     "output_type": "display_data"
    },
    {
     "name": "stdout",
     "output_type": "stream",
     "text": [
      "\n",
      "Val. Epoch: 128/600. Classification loss: 0.32943. Regression loss: 1.59483. Total loss: 1.92426\n"
     ]
    },
    {
     "data": {
      "application/vnd.jupyter.widget-view+json": {
       "model_id": "12ddda618a36416487c0c039b9e9db98",
       "version_major": 2,
       "version_minor": 0
      },
      "text/plain": [
       "HBox(children=(HTML(value=''), FloatProgress(value=0.0, max=7185.0), HTML(value='')))"
      ]
     },
     "metadata": {},
     "output_type": "display_data"
    },
    {
     "name": "stdout",
     "output_type": "stream",
     "text": [
      "\n",
      "Val. Epoch: 129/600. Classification loss: 0.33423. Regression loss: 1.68724. Total loss: 2.02146\n"
     ]
    },
    {
     "data": {
      "application/vnd.jupyter.widget-view+json": {
       "model_id": "4f06289c0ae44ed5aec5c6a24769c753",
       "version_major": 2,
       "version_minor": 0
      },
      "text/plain": [
       "HBox(children=(HTML(value=''), FloatProgress(value=0.0, max=7185.0), HTML(value='')))"
      ]
     },
     "metadata": {},
     "output_type": "display_data"
    },
    {
     "name": "stdout",
     "output_type": "stream",
     "text": [
      "\n",
      "Val. Epoch: 130/600. Classification loss: 0.68902. Regression loss: 2.27473. Total loss: 2.96375\n"
     ]
    },
    {
     "data": {
      "application/vnd.jupyter.widget-view+json": {
       "model_id": "54dc52fa93d04e579167d84f9323423b",
       "version_major": 2,
       "version_minor": 0
      },
      "text/plain": [
       "HBox(children=(HTML(value=''), FloatProgress(value=0.0, max=7185.0), HTML(value='')))"
      ]
     },
     "metadata": {},
     "output_type": "display_data"
    },
    {
     "name": "stdout",
     "output_type": "stream",
     "text": [
      "\n",
      "Val. Epoch: 131/600. Classification loss: 0.29598. Regression loss: 1.52160. Total loss: 1.81758\n"
     ]
    },
    {
     "data": {
      "application/vnd.jupyter.widget-view+json": {
       "model_id": "e23b1140fa15443a9880d633ccfcd53d",
       "version_major": 2,
       "version_minor": 0
      },
      "text/plain": [
       "HBox(children=(HTML(value=''), FloatProgress(value=0.0, max=7185.0), HTML(value='')))"
      ]
     },
     "metadata": {},
     "output_type": "display_data"
    },
    {
     "name": "stdout",
     "output_type": "stream",
     "text": [
      "\n",
      "Val. Epoch: 132/600. Classification loss: 0.29729. Regression loss: 1.55794. Total loss: 1.85523\n"
     ]
    },
    {
     "data": {
      "application/vnd.jupyter.widget-view+json": {
       "model_id": "be83bedca528441c99ae707cc3424f79",
       "version_major": 2,
       "version_minor": 0
      },
      "text/plain": [
       "HBox(children=(HTML(value=''), FloatProgress(value=0.0, max=7185.0), HTML(value='')))"
      ]
     },
     "metadata": {},
     "output_type": "display_data"
    },
    {
     "name": "stdout",
     "output_type": "stream",
     "text": [
      "\n",
      "Val. Epoch: 133/600. Classification loss: 0.30801. Regression loss: 1.57310. Total loss: 1.88111\n"
     ]
    },
    {
     "data": {
      "application/vnd.jupyter.widget-view+json": {
       "model_id": "ea3488b5eead4f2ea58b39869b40095b",
       "version_major": 2,
       "version_minor": 0
      },
      "text/plain": [
       "HBox(children=(HTML(value=''), FloatProgress(value=0.0, max=7185.0), HTML(value='')))"
      ]
     },
     "metadata": {},
     "output_type": "display_data"
    },
    {
     "name": "stdout",
     "output_type": "stream",
     "text": [
      "\n",
      "Val. Epoch: 134/600. Classification loss: 0.29375. Regression loss: 1.51645. Total loss: 1.81020\n"
     ]
    },
    {
     "data": {
      "application/vnd.jupyter.widget-view+json": {
       "model_id": "2fb092e25d844f31a5fc9a5bfb6644ed",
       "version_major": 2,
       "version_minor": 0
      },
      "text/plain": [
       "HBox(children=(HTML(value=''), FloatProgress(value=0.0, max=7185.0), HTML(value='')))"
      ]
     },
     "metadata": {},
     "output_type": "display_data"
    },
    {
     "name": "stdout",
     "output_type": "stream",
     "text": [
      "\n",
      "Val. Epoch: 135/600. Classification loss: 0.31135. Regression loss: 1.55362. Total loss: 1.86497\n"
     ]
    },
    {
     "data": {
      "application/vnd.jupyter.widget-view+json": {
       "model_id": "123c500d16914343ad7d04d12c0a019d",
       "version_major": 2,
       "version_minor": 0
      },
      "text/plain": [
       "HBox(children=(HTML(value=''), FloatProgress(value=0.0, max=7185.0), HTML(value='')))"
      ]
     },
     "metadata": {},
     "output_type": "display_data"
    },
    {
     "name": "stdout",
     "output_type": "stream",
     "text": [
      "\n",
      "Val. Epoch: 136/600. Classification loss: 0.30713. Regression loss: 1.56102. Total loss: 1.86815\n"
     ]
    },
    {
     "data": {
      "application/vnd.jupyter.widget-view+json": {
       "model_id": "c48f498057ab45279850f6a4fbe85876",
       "version_major": 2,
       "version_minor": 0
      },
      "text/plain": [
       "HBox(children=(HTML(value=''), FloatProgress(value=0.0, max=7185.0), HTML(value='')))"
      ]
     },
     "metadata": {},
     "output_type": "display_data"
    },
    {
     "name": "stdout",
     "output_type": "stream",
     "text": [
      "\n",
      "Val. Epoch: 137/600. Classification loss: 0.31342. Regression loss: 1.56775. Total loss: 1.88117\n"
     ]
    },
    {
     "data": {
      "application/vnd.jupyter.widget-view+json": {
       "model_id": "a3a91674e62b4923b798abbad21fe943",
       "version_major": 2,
       "version_minor": 0
      },
      "text/plain": [
       "HBox(children=(HTML(value=''), FloatProgress(value=0.0, max=7185.0), HTML(value='')))"
      ]
     },
     "metadata": {},
     "output_type": "display_data"
    },
    {
     "name": "stdout",
     "output_type": "stream",
     "text": [
      "\n",
      "Val. Epoch: 138/600. Classification loss: 0.64296. Regression loss: 2.17816. Total loss: 2.82112\n"
     ]
    },
    {
     "data": {
      "application/vnd.jupyter.widget-view+json": {
       "model_id": "147b1989b8994db49e7ebb4902e71c5e",
       "version_major": 2,
       "version_minor": 0
      },
      "text/plain": [
       "HBox(children=(HTML(value=''), FloatProgress(value=0.0, max=7185.0), HTML(value='')))"
      ]
     },
     "metadata": {},
     "output_type": "display_data"
    },
    {
     "name": "stdout",
     "output_type": "stream",
     "text": [
      "\n",
      "Val. Epoch: 139/600. Classification loss: 0.31269. Regression loss: 1.56075. Total loss: 1.87344\n"
     ]
    },
    {
     "data": {
      "application/vnd.jupyter.widget-view+json": {
       "model_id": "b81e44f8e2af472fa2ac89f965dad1ee",
       "version_major": 2,
       "version_minor": 0
      },
      "text/plain": [
       "HBox(children=(HTML(value=''), FloatProgress(value=0.0, max=7185.0), HTML(value='')))"
      ]
     },
     "metadata": {},
     "output_type": "display_data"
    },
    {
     "name": "stdout",
     "output_type": "stream",
     "text": [
      "\n",
      "Val. Epoch: 140/600. Classification loss: 0.35285. Regression loss: 1.59164. Total loss: 1.94449\n"
     ]
    },
    {
     "data": {
      "application/vnd.jupyter.widget-view+json": {
       "model_id": "b6d51458f75e4b3bb80560106d46d4eb",
       "version_major": 2,
       "version_minor": 0
      },
      "text/plain": [
       "HBox(children=(HTML(value=''), FloatProgress(value=0.0, max=7185.0), HTML(value='')))"
      ]
     },
     "metadata": {},
     "output_type": "display_data"
    },
    {
     "name": "stdout",
     "output_type": "stream",
     "text": [
      "\n",
      "Val. Epoch: 141/600. Classification loss: 0.49495. Regression loss: 2.12023. Total loss: 2.61518\n"
     ]
    },
    {
     "data": {
      "application/vnd.jupyter.widget-view+json": {
       "model_id": "e6f5c0090ec54168b7020de16521114e",
       "version_major": 2,
       "version_minor": 0
      },
      "text/plain": [
       "HBox(children=(HTML(value=''), FloatProgress(value=0.0, max=7185.0), HTML(value='')))"
      ]
     },
     "metadata": {},
     "output_type": "display_data"
    },
    {
     "name": "stdout",
     "output_type": "stream",
     "text": [
      "\n",
      "Val. Epoch: 142/600. Classification loss: 0.50004. Regression loss: 1.82007. Total loss: 2.32010\n"
     ]
    },
    {
     "data": {
      "application/vnd.jupyter.widget-view+json": {
       "model_id": "0f0e650461f447d3a9c03b7cdf4ca0b2",
       "version_major": 2,
       "version_minor": 0
      },
      "text/plain": [
       "HBox(children=(HTML(value=''), FloatProgress(value=0.0, max=7185.0), HTML(value='')))"
      ]
     },
     "metadata": {},
     "output_type": "display_data"
    },
    {
     "name": "stdout",
     "output_type": "stream",
     "text": [
      "\n",
      "Val. Epoch: 143/600. Classification loss: 0.30025. Regression loss: 1.49287. Total loss: 1.79311\n"
     ]
    },
    {
     "data": {
      "application/vnd.jupyter.widget-view+json": {
       "model_id": "f7a38633b7524a888750cd1a56fa094c",
       "version_major": 2,
       "version_minor": 0
      },
      "text/plain": [
       "HBox(children=(HTML(value=''), FloatProgress(value=0.0, max=7185.0), HTML(value='')))"
      ]
     },
     "metadata": {},
     "output_type": "display_data"
    },
    {
     "name": "stdout",
     "output_type": "stream",
     "text": [
      "\n",
      "Val. Epoch: 144/600. Classification loss: 0.29754. Regression loss: 1.54452. Total loss: 1.84205\n"
     ]
    },
    {
     "data": {
      "application/vnd.jupyter.widget-view+json": {
       "model_id": "1a366c5e3e4f4677bb9c088039db56ca",
       "version_major": 2,
       "version_minor": 0
      },
      "text/plain": [
       "HBox(children=(HTML(value=''), FloatProgress(value=0.0, max=7185.0), HTML(value='')))"
      ]
     },
     "metadata": {},
     "output_type": "display_data"
    },
    {
     "name": "stdout",
     "output_type": "stream",
     "text": [
      "\n"
     ]
    }
   ],
   "source": [
    "epoch = 0\n",
    "best_loss = 1e5\n",
    "best_epoch = 0\n",
    "step = max(0, last_step)\n",
    "model.train()\n",
    "\n",
    "num_iter_per_epoch = len(training_generator)\n",
    "train_avg_losses = []\n",
    "train_avg_cls_losses = []\n",
    "train_avg_reg_losses = []\n",
    "val_avg_losses = []\n",
    "val_avg_cls_losses = []\n",
    "val_avg_reg_losses = []\n",
    "\n",
    "try:\n",
    "    for epoch in range(opt['num_epochs']+1):\n",
    "        last_epoch = step // num_iter_per_epoch\n",
    "        if epoch < last_epoch:\n",
    "            continue\n",
    "\n",
    "        train_losses = []\n",
    "        train_cls_losses = []\n",
    "        train_reg_losses = []\n",
    "        val_losses = []\n",
    "        val_cls_losses = []\n",
    "        val_reg_losses = []\n",
    "        \n",
    "        progress_bar = tqdm(training_generator)\n",
    "        for iter, data in enumerate(progress_bar):\n",
    "                \n",
    "            imgs = data['img']\n",
    "            annot = data['annot']\n",
    "\n",
    "            if params.num_gpus == 1:\n",
    "                # if only one gpu, just send it to cuda:0\n",
    "                # elif multiple gpus, send it to multiple gpus in CustomDataParallel, not here\n",
    "                imgs = imgs.cuda()\n",
    "                annot = annot.cuda()\n",
    "            \n",
    "            optimizer.zero_grad()\n",
    "            cls_loss, reg_loss = model(imgs, annot, obj_list=params.obj_list)\n",
    "            cls_loss = cls_loss.mean()\n",
    "            reg_loss = reg_loss.mean()\n",
    "\n",
    "            loss = cls_loss + reg_loss\n",
    "            if loss == 0 or not torch.isfinite(loss):\n",
    "                continue\n",
    "\n",
    "            loss.backward()\n",
    "            # torch.nn.utils.clip_grad_norm_(model.parameters(), 0.1)\n",
    "            optimizer.step()\n",
    "\n",
    "            train_losses.append(loss.item())\n",
    "            train_cls_losses.append(cls_loss.item())\n",
    "            train_reg_losses.append(reg_loss.item())\n",
    "            \n",
    "            progress_bar.set_description(\n",
    "               'Step: {}. Epoch: {}/{}. Iteration: {}/{}. Cls loss: {:.5f}. Reg loss: {:.5f}. Total loss: {:.5f}'.format(\n",
    "                   step, epoch, opt['num_epochs'], iter + 1, num_iter_per_epoch, cls_loss.item(),\n",
    "                   reg_loss.item(), loss.item()))\n",
    "            \n",
    "            step += 1\n",
    "\n",
    "            #if step % opt['save_interval'] == 0 and step > 0:\n",
    "            #    save_checkpoint(model, 'efficientdet-d{}_{}_{}.pth'.format(opt['compound_coef'],epoch,step))\n",
    "            #    print('checkpoint...')\n",
    "        \n",
    "        train_avg_loss = torch.mean(torch.FloatTensor(train_losses))\n",
    "        train_avg_losses.append(train_avg_loss.item())\n",
    "        train_avg_cls_loss = torch.mean(torch.FloatTensor(train_cls_losses))\n",
    "        train_avg_cls_losses.append(train_avg_cls_loss.item())        \n",
    "        train_avg_reg_loss = torch.mean(torch.FloatTensor(train_reg_losses))\n",
    "        train_avg_reg_losses.append(train_avg_reg_loss.item())               \n",
    "        \n",
    "        writer.add_scalars('Loss', {'train': train_avg_loss}, epoch)\n",
    "        writer.add_scalars('Regression_loss', {'train': train_avg_reg_loss}, epoch)\n",
    "        writer.add_scalars('Classfication_loss', {'train': train_avg_cls_loss}, epoch)\n",
    "        \n",
    "        # log learning_rate\n",
    "        current_lr = optimizer.param_groups[0]['lr']\n",
    "        writer.add_scalar('learning_rate', current_lr, epoch)          \n",
    "\n",
    "        scheduler.step(train_avg_loss)\n",
    "\n",
    "        model.eval()\n",
    "        with torch.no_grad():\n",
    "            for iter, data in enumerate(val_generator):\n",
    "                imgs = data['img']\n",
    "                annot = data['annot']\n",
    "\n",
    "                if params.num_gpus == 1:\n",
    "                    # if only one gpu, just send it to cuda:0\n",
    "                    # elif multiple gpus, send it to multiple gpus in CustomDataParallel, not here\n",
    "                    imgs = imgs.cuda()\n",
    "                    annot = annot.cuda()\n",
    "\n",
    "                cls_loss, reg_loss = model(imgs, annot, obj_list=params.obj_list)\n",
    "                cls_loss = cls_loss.mean()\n",
    "                reg_loss = reg_loss.mean()\n",
    "                \n",
    "                loss = cls_loss + reg_loss\n",
    "\n",
    "                if loss == 0 or not torch.isfinite(loss):\n",
    "                    continue\n",
    "                \n",
    "                val_losses.append(loss.item())\n",
    "                val_cls_losses.append(cls_loss.item())\n",
    "                val_reg_losses.append(reg_loss.item())\n",
    "                      \n",
    "        val_avg_loss = torch.mean(torch.FloatTensor(val_losses))\n",
    "        val_avg_losses.append(val_avg_loss.item())\n",
    "        val_avg_cls_loss = torch.mean(torch.FloatTensor(val_cls_losses))\n",
    "        val_avg_cls_losses.append(val_avg_cls_loss.item())\n",
    "        val_avg_reg_loss = torch.mean(torch.FloatTensor(val_reg_losses))\n",
    "        val_avg_reg_losses.append(val_avg_reg_loss.item())\n",
    "\n",
    "        print(\n",
    "            'Val. Epoch: {}/{}. Classification loss: {:1.5f}. Regression loss: {:1.5f}. Total loss: {:1.5f}'.format(\n",
    "                epoch, opt['num_epochs'], val_avg_cls_loss.item(), val_avg_reg_loss.item(), val_avg_loss.item()))\n",
    "        \n",
    "        writer.add_scalars('Loss', {'val': val_avg_loss}, epoch)\n",
    "        writer.add_scalars('Regression_loss', {'val': val_avg_reg_loss}, epoch)\n",
    "        writer.add_scalars('Classfication_loss', {'val': val_avg_cls_loss}, epoch)\n",
    "        \n",
    "        if val_avg_loss + opt['es_min_delta'] < best_loss:\n",
    "            best_loss = val_avg_loss\n",
    "            best_epoch = epoch\n",
    "\n",
    "            save_checkpoint(model, 'efficientdet-d{}_{}_{}.pth'.format(opt['compound_coef'],epoch,step))\n",
    "\n",
    "        model.train()\n",
    "        \n",
    "        # Early stopping\n",
    "        if epoch - best_epoch > opt['es_patience'] > 0:\n",
    "            print('[Info] Stop training at epoch {}. The lowest loss achieved is {}'.format(epoch, best_loss))\n",
    "            break\n",
    "                \n",
    "except KeyboardInterrupt:\n",
    "    save_checkpoint(model, 'efficientdet-d{}_{}_{}.pth'.format(opt['compound_coef'], epoch, step))\n",
    "    writer.close()\n",
    "writer.close()    "
   ]
  },
  {
   "cell_type": "markdown",
   "metadata": {},
   "source": [
    "# Restore Checkpoint"
   ]
  },
  {
   "cell_type": "code",
   "execution_count": 12,
   "metadata": {},
   "outputs": [
    {
     "data": {
      "image/png": "[encoded data removed]",
      "text/plain": [
       "<Figure size 360x360 with 1 Axes>"
      ]
     },
     "metadata": {
      "needs_background": "light"
     },
     "output_type": "display_data"
    }
   ],
   "source": [
    "img_path = val_image_paths[0]\n",
    "weight_path = \"./logs/hemorrhage/efficientdet-d0_12_93405.pth\"\n",
    "visualization(img_path, weight_path, 0.1, 0.1)"
   ]
  },
  {
   "cell_type": "code",
   "execution_count": null,
   "metadata": {},
   "outputs": [],
   "source": [
    "save_result(test_image_paths, 1000, 0.1, 0.1)"
   ]
  },
  {
   "cell_type": "markdown",
   "metadata": {},
   "source": [
    "# Evaluation"
   ]
  },
  {
   "cell_type": "code",
   "execution_count": 27,
   "metadata": {
    "scrolled": true
   },
   "outputs": [
    {
     "name": "stdout",
     "output_type": "stream",
     "text": [
      "Images: 10000/10000  AP: 0.080 AP05 0.278 AP10: 0.271 AP25: 0.244 AP50: 0.177 AP75: 0.061\t\t\t\t\t                    AR: 0.092 AR05: 0.219 AR10: 0.216 AR25: 0.203 AR50: 0.169 AR75: 0.089\r"
     ]
    }
   ],
   "source": [
    "# Bouinding box evaluation\n",
    "metric_fn = eval_bbox(\n",
    "    test_image_paths, test_mask_paths, weight_path, len(params.obj_list), 0.1, 0.1)"
   ]
  },
  {
   "cell_type": "code",
   "execution_count": 58,
   "metadata": {},
   "outputs": [
    {
     "name": "stdout",
     "output_type": "stream",
     "text": [
      "Images: 10000/10000  Precision: 0.787 Recall 0.637 Accuracy: 0.791 F1 score: 0.704\r"
     ]
    }
   ],
   "source": [
    "# All class evaluation\n",
    "tp, fp, tn, fn = eval_class(test_image_paths, len(test_image_paths), weight_path, 0.1, 0.1)"
   ]
  },
  {
   "cell_type": "code",
   "execution_count": 85,
   "metadata": {},
   "outputs": [
    {
     "name": "stdout",
     "output_type": "stream",
     "text": [
      "Images: 10000/10000  Precision: 0.289 Recall: 0.031 Specificity: 0.997 Accuracy: 0.963 F1 score: 0.056\r"
     ]
    }
   ],
   "source": [
    "# epidural evaluaion\n",
    "tp, fp, tn, fn = eval_each_class(test_image_paths, len(test_image_paths), weight_path, 0, 0.1, 0.1)"
   ]
  },
  {
   "cell_type": "code",
   "execution_count": 86,
   "metadata": {},
   "outputs": [
    {
     "name": "stdout",
     "output_type": "stream",
     "text": [
      "Images: 10000/10000  Precision: 0.767 Recall: 0.811 Specificity: 0.819 Accuracy: 0.816 F1 score: 0.789\r"
     ]
    }
   ],
   "source": [
    "# intraparenchymal evaluation\n",
    "tp, fp, tn, fn = eval_each_class(test_image_paths, len(test_image_paths), weight_path, 1, 0.1, 0.1)"
   ]
  },
  {
   "cell_type": "code",
   "execution_count": 87,
   "metadata": {},
   "outputs": [
    {
     "name": "stdout",
     "output_type": "stream",
     "text": [
      "Images: 10000/10000  Precision: 0.853 Recall: 0.637 Specificity: 0.944 Accuracy: 0.840 F1 score: 0.729\r"
     ]
    }
   ],
   "source": [
    "# intraventricular evaluation\n",
    "tp, fp, tn, fn = eval_each_class(test_image_paths, len(test_image_paths), weight_path, 2, 0.1, 0.1)"
   ]
  },
  {
   "cell_type": "code",
   "execution_count": 88,
   "metadata": {},
   "outputs": [
    {
     "name": "stdout",
     "output_type": "stream",
     "text": [
      "Images: 10000/10000  Precision: 0.772 Recall: 0.356 Specificity: 0.899 Accuracy: 0.633 F1 score: 0.487\r"
     ]
    }
   ],
   "source": [
    "# subarachnoid evaluation\n",
    "tp, fp, tn, fn = eval_each_class(test_image_paths, len(test_image_paths), weight_path, 3, 0.1, 0.1)"
   ]
  },
  {
   "cell_type": "code",
   "execution_count": 92,
   "metadata": {},
   "outputs": [
    {
     "name": "stdout",
     "output_type": "stream",
     "text": [
      "Images: 10000/10000  Precision: 0.784 Recall: 0.791 Specificity: 0.716 Accuracy: 0.758 F1 score: 0.787\r"
     ]
    }
   ],
   "source": [
    "# subdural evaluation\n",
    "tp, fp, tn, fn = eval_each_class(test_image_paths, len(test_image_paths), weight_path, 4, 0.1, 0.1)"
   ]
  }
 ],
 "metadata": {
  "kernelspec": {
   "display_name": "Python 3",
   "language": "python",
   "name": "python3"
  },
  "language_info": {
   "codemirror_mode": {
    "name": "ipython",
    "version": 3
   },
   "file_extension": ".py",
   "mimetype": "text/x-python",
   "name": "python",
   "nbconvert_exporter": "python",
   "pygments_lexer": "ipython3",
   "version": "3.8.5"
  }
 },
 "nbformat": 4,
 "nbformat_minor": 4
}
