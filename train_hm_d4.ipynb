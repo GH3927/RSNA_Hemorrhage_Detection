{
 "cells": [
  {
   "cell_type": "code",
   "execution_count": 1,
   "metadata": {},
   "outputs": [],
   "source": [
    "import argparse\n",
    "import datetime\n",
    "import os\n",
    "import traceback\n",
    "import cv2\n",
    "import numpy as np\n",
    "import torch\n",
    "import yaml\n",
    "from torch import nn\n",
    "from torch.utils.data import DataLoader\n",
    "from torchvision import transforms\n",
    "from tqdm.autonotebook import tqdm\n",
    "from glob import glob\n",
    "from backbone import EfficientDetBackbone\n",
    "from efficientdet.dataset import HmDataset, Resizer, Normalizer, Flip, collater, get_bbox\n",
    "from efficientdet.loss import FocalLoss\n",
    "from utils.sync_batchnorm import patch_replication_callback\n",
    "from utils.utils import replace_w_sync_bn, CustomDataParallel, get_last_weights, init_weights, boolean_string\n",
    "from efficientdet.utils import BBoxTransform, ClipBoxes\n",
    "from utils.utils import preprocess, invert_affine, postprocess\n",
    "from torch.backends import cudnn\n",
    "import matplotlib.pyplot as plt\n",
    "import matplotlib.patches as patches\n",
    "import PIL.Image as Image\n",
    "from tensorboardX import SummaryWriter\n",
    "from mean_average_precision import MeanAveragePrecision\n",
    "import seaborn as sns\n",
    "import csv\n",
    "import warnings\n",
    "import math\n",
    "warnings.filterwarnings(action='ignore')\n",
    "%matplotlib inline\n",
    "#torch.autograd.set_detect_anomaly(True)"
   ]
  },
  {
   "cell_type": "markdown",
   "metadata": {},
   "source": [
    "# Hyperparameter"
   ]
  },
  {
   "cell_type": "code",
   "execution_count": 2,
   "metadata": {},
   "outputs": [],
   "source": [
    "opt = {\n",
    "    'project':'hemorrhage',\n",
    "    'compound_coef':4,\n",
    "    'num_workers':12,\n",
    "    'batch_size':4*torch.cuda.device_count(),\n",
    "    'test_batch_size':1,\n",
    "    'head_only':False,\n",
    "    'lr':1e-3,\n",
    "    'optim':'adamw',\n",
    "    'num_epochs':600,\n",
    "    'val_interval':1,\n",
    "    'save_interval':1000,\n",
    "    'es_min_delta':0.0,\n",
    "    'es_patience':0.0,\n",
    "    'data_path':'../Hemorrhage_dataset/',\n",
    "    'log_path':'logs/',\n",
    "    'load_weights':'weights/efficientdet-d4.pth',\n",
    "    'saved_path':'logs/',\n",
    "    'debug':False,\n",
    "}\n",
    "\n",
    "class Params:\n",
    "    def __init__(self, project_file):\n",
    "        self.params = yaml.safe_load(open(project_file).read())\n",
    "\n",
    "    def __getattr__(self, item):\n",
    "        return self.params.get(item, None)\n",
    "\n",
    "params = Params(f'projects/'+opt['project']+'.yml')\n",
    "\n",
    "if params.num_gpus == 0:\n",
    "    os.environ['CUDA_VISIBLE_DEVICES'] = '-1'\n",
    "\n",
    "if torch.cuda.is_available():\n",
    "    torch.cuda.manual_seed(42)\n",
    "else:\n",
    "    torch.manual_seed(42)\n",
    "\n",
    "opt['saved_path'] = opt['saved_path'] + f'/{params.project_name}/d4/'\n",
    "opt['log_path'] = opt['log_path'] + f'/{params.project_name}/tensorboard/'\n",
    "os.makedirs(opt['log_path'], exist_ok=True)\n",
    "os.makedirs(opt['saved_path'], exist_ok=True)\n",
    "\n",
    "training_params = {'batch_size': opt['batch_size'],\n",
    "                   'shuffle': True,\n",
    "                   'drop_last': True,\n",
    "                   'collate_fn': collater,\n",
    "                   'num_workers': opt['num_workers']}\n",
    "\n",
    "val_params = {'batch_size': opt['batch_size'],\n",
    "              'shuffle': False,\n",
    "              'drop_last': True,\n",
    "              'collate_fn': collater,\n",
    "              'num_workers': opt['num_workers']}\n",
    "\n",
    "test_params = {'batch_size': opt['test_batch_size'],\n",
    "              'shuffle': False,\n",
    "              'drop_last': True,\n",
    "              'collate_fn': collater,\n",
    "              'num_workers': opt['num_workers']}\n",
    "\n",
    "#input_sizes = [512, 640, 768, 896, 1024, 1280, 1280, 1536, 1536]\n",
    "input_sizes = [512, 640, 768, 896, 512, 1280, 1280, 1536, 1536]"
   ]
  },
  {
   "cell_type": "markdown",
   "metadata": {},
   "source": [
    "# Utils"
   ]
  },
  {
   "cell_type": "code",
   "execution_count": 3,
   "metadata": {},
   "outputs": [],
   "source": [
    "class ModelWithLoss(nn.Module):\n",
    "    def __init__(self, model, debug=False):\n",
    "        super().__init__()\n",
    "        self.criterion = FocalLoss()\n",
    "        self.model = model\n",
    "        self.debug = debug\n",
    "\n",
    "    def forward(self, imgs, annotations, obj_list=None):\n",
    "        _, regression, classification, anchors = self.model(imgs)\n",
    "        if self.debug:\n",
    "            cls_loss, reg_loss = self.criterion(classification, regression, anchors, annotations,\n",
    "                                                imgs=imgs, obj_list=obj_list)\n",
    "        else:\n",
    "            cls_loss, reg_loss = self.criterion(classification, regression, anchors, annotations)\n",
    "        return cls_loss, reg_loss\n",
    "\n",
    "def save_checkpoint(model, name):\n",
    "    if isinstance(model, CustomDataParallel):\n",
    "        torch.save(model.module.model.state_dict(), os.path.join(opt['saved_path'], name))\n",
    "    else:\n",
    "        torch.save(model.model.state_dict(), os.path.join(opt['saved_path'], name))"
   ]
  },
  {
   "cell_type": "code",
   "execution_count": 4,
   "metadata": {},
   "outputs": [],
   "source": [
    "def visualization(img_path, weight_path=opt['load_weights'], threshold=0.2, iou_threshold=0.2):\n",
    "    \n",
    "    # Bounding-box colors\n",
    "    cmap = plt.get_cmap(\"tab20b\")\n",
    "    colors = [cmap(i) for i in np.linspace(0, 1, len(params.obj_list))]\n",
    "\n",
    "    fig, ax0 = plt.subplots(figsize=(5,5))\n",
    "    \n",
    "    cudnn.fastest = True\n",
    "    cudnn.benchmark = True\n",
    "\n",
    "    # tf bilinear interpolation is different from any other's, just make do\n",
    "    input_size = input_sizes[opt['compound_coef']]\n",
    "    ori_imgs, framed_imgs, framed_metas = preprocess(img_path, max_size=input_size, mean=params.mean, std=params.std)\n",
    "    \n",
    "    if torch.cuda.is_available():\n",
    "        x = torch.stack([torch.from_numpy(fi).cuda() for fi in framed_imgs], 0)\n",
    "    else:\n",
    "        x = torch.stack([torch.from_numpy(fi) for fi in framed_imgs], 0)\n",
    "\n",
    "    x = x.to(torch.float32).permute(0, 3, 1, 2)\n",
    "\n",
    "    model_eval = EfficientDetBackbone(num_classes=len(params.obj_list), compound_coef=opt['compound_coef'],\n",
    "                                 ratios=eval(params.anchors_ratios), scales=eval(params.anchors_scales))\n",
    "    \n",
    "    try:\n",
    "        model_eval.load_state_dict(torch.load(weight_path))\n",
    "    except:\n",
    "        print('The rest of the weights should be loaded already.')\n",
    "        \n",
    "    model_eval.requires_grad_(False)\n",
    "    model_eval.eval()\n",
    "\n",
    "    if torch.cuda.is_available():\n",
    "        model_eval = model_eval.cuda()\n",
    "\n",
    "    with torch.no_grad():\n",
    "        features, regression, classification, anchors = model_eval(x)\n",
    "\n",
    "        regressBoxes = BBoxTransform()\n",
    "        clipBoxes = ClipBoxes()\n",
    "\n",
    "        out = postprocess(x,\n",
    "                          anchors, regression, classification,\n",
    "                          regressBoxes, clipBoxes,\n",
    "                          threshold, iou_threshold)\n",
    "\n",
    "    out = invert_affine(framed_metas, out)\n",
    "\n",
    "    for i in range(len(ori_imgs)):\n",
    "        if len(out[i]['rois']) == 0:\n",
    "            continue\n",
    "        ori_imgs[i] = ori_imgs[i].copy()\n",
    "        for j in range(len(out[i]['rois'])):\n",
    "            (x1, y1, x2, y2) = out[i]['rois'][j].astype(np.int)\n",
    "            obj = params.obj_list[out[i]['class_ids'][j]]\n",
    "            score = float(out[i]['scores'][j])\n",
    "                       \n",
    "            color = colors[out[i]['class_ids'][j]]\n",
    "            bbox = patches.Rectangle((x1, y1), x2-x1, y2-y1, linewidth=2, edgecolor=color, facecolor=\"none\")\n",
    "            \n",
    "            ax0.add_patch(bbox)\n",
    "            # Add label\n",
    "            ax0.text(\n",
    "                x1,\n",
    "                y2,\n",
    "                s=\"{} {:.3f}\".format(obj,score),\n",
    "                color=\"white\",\n",
    "                verticalalignment=\"top\", \n",
    "                bbox={\"color\": color, \"pad\": 0},   \n",
    "            )\n",
    "\n",
    "    ax0.imshow(ori_imgs[i])\n",
    "    ax0.axis(\"off\")"
   ]
  },
  {
   "cell_type": "code",
   "execution_count": 5,
   "metadata": {},
   "outputs": [],
   "source": [
    "def save_result(image_paths, number, weight_path=opt['load_weights'], threshold=0.2, iou_threshold=0.2):\n",
    "    # Bounding-box colors\n",
    "    for num in range(0,number):\n",
    "        img_path = image_paths[num]\n",
    "\n",
    "        cmap = plt.get_cmap(\"tab20b\")\n",
    "        colors = [cmap(i) for i in np.linspace(0, 1, len(params.obj_list))]\n",
    "\n",
    "        fig, (ax0, ax1) = plt.subplots(1, 2, figsize=(12,12))\n",
    "\n",
    "        cudnn.fastest = True\n",
    "        cudnn.benchmark = True\n",
    "\n",
    "        # tf bilinear interpolation is different from any other's, just make do\n",
    "        input_size = input_sizes[opt['compound_coef']]\n",
    "        ori_imgs, framed_imgs, framed_metas = preprocess(img_path, max_size=input_size, mean=params.mean, std=params.std)\n",
    "\n",
    "        if torch.cuda.is_available():\n",
    "            x = torch.stack([torch.from_numpy(fi).cuda() for fi in framed_imgs], 0)\n",
    "        else:\n",
    "            x = torch.stack([torch.from_numpy(fi) for fi in framed_imgs], 0)\n",
    "\n",
    "        x = x.to(torch.float32).permute(0, 3, 1, 2)\n",
    "\n",
    "        model_eval = EfficientDetBackbone(num_classes=len(params.obj_list), compound_coef=opt['compound_coef'],\n",
    "                                     ratios=eval(params.anchors_ratios), scales=eval(params.anchors_scales))\n",
    "\n",
    "        try:\n",
    "            model_eval.load_state_dict(torch.load(weight_path))\n",
    "        except:\n",
    "            print('The rest of the weights should be loaded already.')\n",
    "\n",
    "        model_eval.requires_grad_(False)\n",
    "        model_eval.eval()\n",
    "\n",
    "        if torch.cuda.is_available():\n",
    "            model_eval = model_eval.cuda()\n",
    "\n",
    "        with torch.no_grad():\n",
    "            features, regression, classification, anchors = model_eval(x)\n",
    "\n",
    "            regressBoxes = BBoxTransform()\n",
    "            clipBoxes = ClipBoxes()\n",
    "\n",
    "            out = postprocess(x,\n",
    "                              anchors, regression, classification,\n",
    "                              regressBoxes, clipBoxes,\n",
    "                              threshold, iou_threshold)\n",
    "\n",
    "        out = invert_affine(framed_metas, out)\n",
    "\n",
    "        for i in range(len(ori_imgs)):\n",
    "            if len(out[i]['rois']) == 0:\n",
    "                continue\n",
    "            ori_imgs[i] = ori_imgs[i].copy()\n",
    "            for j in range(len(out[i]['rois'])):\n",
    "                (x1, y1, x2, y2) = out[i]['rois'][j].astype(np.int)\n",
    "                obj = params.obj_list[out[i]['class_ids'][j]]\n",
    "                score = float(out[i]['scores'][j])\n",
    "\n",
    "                color = colors[out[i]['class_ids'][j]]\n",
    "                bbox = patches.Rectangle((x1, y1), x2-x1, y2-y1, linewidth=2, edgecolor=color, facecolor=\"none\")\n",
    "\n",
    "                ax0.add_patch(bbox)\n",
    "                # Add label\n",
    "                ax0.text(\n",
    "                    x1,\n",
    "                    y2,\n",
    "                    s=\"{} {:.3f}\".format(obj,score),\n",
    "                    color=\"white\",\n",
    "                    verticalalignment=\"top\", \n",
    "                    bbox={\"color\": color, \"pad\": 0},   \n",
    "                )\n",
    "        # Get specific val images\n",
    "        data = test_set.__getitem__(num) # Convert to 4d tensor (BxNxHxW)\n",
    "        test_image = data['img'].unsqueeze(0)\n",
    "        test_image = ((test_image - test_image.min()) / (test_image.max() - test_image.min()))\n",
    "\n",
    "        for i in range(0,data['annot'].shape[0]):\n",
    "            [x1,y1,x2,y2,cls] = data['annot'][i].numpy()\n",
    "            color = colors[int(cls)]\n",
    "            bbox = patches.Rectangle((x1, y1), x2-x1, y2-y1, linewidth=2, edgecolor=color, facecolor=\"none\")\n",
    "            ax1.add_patch(bbox)\n",
    "            # Add label\n",
    "            ax1.text(\n",
    "                x1,\n",
    "                y2,\n",
    "                s=params.obj_list[int(cls)],\n",
    "                color=\"white\",\n",
    "                verticalalignment=\"top\", \n",
    "                bbox={\"color\": color, \"pad\": 0},   \n",
    "            )\n",
    "\n",
    "        ax0.imshow(ori_imgs[0])\n",
    "        ax0.set_title('Prediction')\n",
    "        ax0.axis('off')\n",
    "        ax1.imshow(test_image[0])\n",
    "        ax1.set_title('Ground truth')\n",
    "        ax1.axis('off')\n",
    "        fig.savefig('./test/hemorrhage_d4/result_{}'.format(num))"
   ]
  },
  {
   "cell_type": "code",
   "execution_count": 6,
   "metadata": {},
   "outputs": [],
   "source": [
    "def eval_bbox(image_paths, mask_paths, weight_path=opt['load_weights'], cls_num=1, threshold=0.2, iou_threshold=0.2):\n",
    "    \n",
    "    # create metric_fn\n",
    "    metric_fn = MeanAveragePrecision(num_classes=len(params.obj_list))\n",
    "    \n",
    "    cudnn.fastest = True\n",
    "    cudnn.benchmark = True\n",
    "\n",
    "    model_eval = EfficientDetBackbone(num_classes=len(params.obj_list), compound_coef=opt['compound_coef'],\n",
    "                                 ratios=eval(params.anchors_ratios), scales=eval(params.anchors_scales))\n",
    "    \n",
    "    try:\n",
    "        model_eval.load_state_dict(torch.load(weight_path))\n",
    "    except:\n",
    "        print('The rest of the weights should be loaded already.')\n",
    "        \n",
    "    model_eval.requires_grad_(False)\n",
    "    model_eval.eval()\n",
    "\n",
    "    if torch.cuda.is_available():\n",
    "        model_eval = model_eval.cuda()  \n",
    "    \n",
    "    # tf bilinear interpolation is different from any other's, just make do\n",
    "    input_size = input_sizes[opt['compound_coef']]\n",
    "    \n",
    "    step = 1\n",
    "    \n",
    "    with torch.no_grad():\n",
    "        for image_path, mask_path in zip(image_paths, mask_paths):\n",
    "            \n",
    "            \n",
    "            preds = np.zeros((0,6))\n",
    "            gts = np.zeros((0,7))\n",
    "\n",
    "            ori_imgs, framed_imgs, framed_metas = preprocess(\n",
    "                image_path, max_size=input_sizes[opt['compound_coef']], mean=params.mean, std=params.std)\n",
    "            \n",
    "            mask = np.array(Image.open(mask_path))\n",
    "            annots = get_bbox(mask, cls_num)\n",
    "            for annot in annots:\n",
    "                gts = np.append(gts, [[annot[0],annot[1],annot[2],annot[3],annot[4],0,0]], axis=0)\n",
    "            \n",
    "            if torch.cuda.is_available():\n",
    "                x = torch.stack([torch.from_numpy(fi).cuda() for fi in framed_imgs], 0)\n",
    "            else:\n",
    "                x = torch.stack([torch.from_numpy(fi) for fi in framed_imgs], 0)\n",
    "\n",
    "            x = x.to(torch.float32).permute(0, 3, 1, 2)\n",
    "\n",
    "            features, regression, classification, anchors = model_eval(x)\n",
    "\n",
    "            regressBoxes = BBoxTransform()\n",
    "            clipBoxes = ClipBoxes()\n",
    "\n",
    "            out = postprocess(x,\n",
    "                              anchors, regression, classification,\n",
    "                              regressBoxes, clipBoxes,\n",
    "                              threshold, iou_threshold)\n",
    "\n",
    "            out = invert_affine(framed_metas, out)\n",
    "\n",
    "            for i in range(len(ori_imgs)):\n",
    "                if len(out[i]['rois']) == 0:\n",
    "                    continue\n",
    "                for j in range(len(out[i]['rois'])):\n",
    "                    (x1, y1, x2, y2) = out[i]['rois'][j].astype(np.int)\n",
    "                    obj = params.obj_list[out[i]['class_ids'][j]]\n",
    "                    score = float(out[i]['scores'][j])\n",
    "                    preds = np.append(preds, [[x1,y1,x2,y2,out[i]['class_ids'][j],score]], axis=0)\n",
    "                    \n",
    "            # add some samples to evaluation\n",
    "            metric_fn.add(preds, gts)\n",
    "\n",
    "            if step%(len(image_paths)/20)==0:\n",
    "                \n",
    "                AR = []\n",
    "                AR05 = []\n",
    "                AR10 = []\n",
    "                AR25 = []\n",
    "                AR50 = []\n",
    "                AR75 = []\n",
    "\n",
    "                for cls in range(len(params.obj_list)):\n",
    "                    if not(math.isnan(metric_fn.value(iou_thresholds=0.05)[0.05][cls]['recall'].mean())):\n",
    "                        AR05.append(metric_fn.value(iou_thresholds=0.05)[0.05][cls]['recall'].mean())\n",
    "                    if not(math.isnan(metric_fn.value(iou_thresholds=0.1)[0.1][cls]['recall'].mean())):\n",
    "                        AR10.append(metric_fn.value(iou_thresholds=0.1)[0.1][cls]['recall'].mean())\n",
    "                    if not(math.isnan(metric_fn.value(iou_thresholds=0.25)[0.25][cls]['recall'].mean())):\n",
    "                        AR25.append(metric_fn.value(iou_thresholds=0.25)[0.25][cls]['recall'].mean())\n",
    "                    if not(math.isnan(metric_fn.value(iou_thresholds=0.5)[0.5][cls]['recall'].mean())):\n",
    "                        AR50.append(metric_fn.value(iou_thresholds=0.5)[0.5][cls]['recall'].mean())\n",
    "                    if not(math.isnan(metric_fn.value(iou_thresholds=0.75)[0.75][cls]['recall'].mean())):\n",
    "                        AR75.append(metric_fn.value(iou_thresholds=0.75)[0.75][cls]['recall'].mean())\n",
    "\n",
    "                AR05 = np.array(AR05).mean()\n",
    "                AR10 = np.array(AR10).mean()\n",
    "                AR25 = np.array(AR25).mean()\n",
    "                AR50 = np.array(AR50).mean()    \n",
    "                AR75 = np.array(AR75).mean()\n",
    "\n",
    "                for cls in range(len(params.obj_list)):\n",
    "                    for thr in np.arange(0.5, 1.0, 0.05):\n",
    "                        if not(math.isnan(metric_fn.value(iou_thresholds=np.arange(0.5, 1.0, 0.05))[thr][cls]['recall'].mean())):\n",
    "                            AR.append(metric_fn.value(iou_thresholds=np.arange(0.5, 1.0, 0.05))[thr][cls]['recall'].mean()) \n",
    "                AR = np.array(AR).mean()\n",
    "                \n",
    "                print(\n",
    "                   'Images: {}/{}  AP: {:.3f} AP05 {:.3f} AP10: {:.3f} AP25: {:.3f} AP50: {:.3f} AP75: {:.3f}\\t\\t\\t\\t\\t\\\n",
    "                    AR: {:.3f} AR05: {:.3f} AR10: {:.3f} AR25: {:.3f} AR50: {:.3f} AR75: {:.3f}\\r'.format(\n",
    "                       step, len(image_paths),\n",
    "                       metric_fn.value(iou_thresholds=np.arange(0.5, 1.0, 0.05))['mAP'],\n",
    "                       metric_fn.value(iou_thresholds=0.05)['mAP'], metric_fn.value(iou_thresholds=0.1)['mAP'],\n",
    "                       metric_fn.value(iou_thresholds=0.25)['mAP'], metric_fn.value(iou_thresholds=0.5)['mAP'],\n",
    "                       metric_fn.value(iou_thresholds=0.75)['mAP'],\n",
    "                       AR, AR05, AR10, AR25, AR50, AR75), end=\"\")\n",
    "                \n",
    "            step+=1\n",
    "            \n",
    "    return metric_fn"
   ]
  },
  {
   "cell_type": "code",
   "execution_count": 7,
   "metadata": {},
   "outputs": [],
   "source": [
    "def eval_class(image_paths, num_image, weight_path=opt['load_weights'], threshold=0.2, iou_threshold=0.2):\n",
    "    # Bounding-box colors\n",
    "    \n",
    "    tp = 0\n",
    "    fp = 0\n",
    "    tn = 0\n",
    "    fn = 0\n",
    "    obj_list = [i for i in range(len(params.obj_list))]\n",
    "    eps = 1e-10\n",
    "    \n",
    "    for num in range(0,num_image):\n",
    "        \n",
    "        obj_pred = []\n",
    "        obj_gt = []\n",
    "        \n",
    "        img_path = image_paths[num]\n",
    "\n",
    "        cudnn.fastest = True\n",
    "        cudnn.benchmark = True\n",
    "\n",
    "        # tf bilinear interpolation is different from any other's, just make do\n",
    "        input_size = input_sizes[opt['compound_coef']]\n",
    "        ori_imgs, framed_imgs, framed_metas = preprocess(img_path, max_size=input_size, mean=params.mean, std=params.std)\n",
    "\n",
    "        if torch.cuda.is_available():\n",
    "            x = torch.stack([torch.from_numpy(fi).cuda() for fi in framed_imgs], 0)\n",
    "        else:\n",
    "            x = torch.stack([torch.from_numpy(fi) for fi in framed_imgs], 0)\n",
    "\n",
    "        x = x.to(torch.float32).permute(0, 3, 1, 2)\n",
    "\n",
    "        model_eval = EfficientDetBackbone(num_classes=len(params.obj_list), compound_coef=opt['compound_coef'],\n",
    "                                     ratios=eval(params.anchors_ratios), scales=eval(params.anchors_scales))\n",
    "\n",
    "        try:\n",
    "            model_eval.load_state_dict(torch.load(weight_path))\n",
    "        except:\n",
    "            print('The rest of the weights should be loaded already.')\n",
    "\n",
    "        model_eval.requires_grad_(False)\n",
    "        model_eval.eval()\n",
    "\n",
    "        if torch.cuda.is_available():\n",
    "            model_eval = model_eval.cuda()\n",
    "\n",
    "        with torch.no_grad():\n",
    "            features, regression, classification, anchors = model_eval(x)\n",
    "\n",
    "            regressBoxes = BBoxTransform()\n",
    "            clipBoxes = ClipBoxes()\n",
    "\n",
    "            out = postprocess(x,\n",
    "                              anchors, regression, classification,\n",
    "                              regressBoxes, clipBoxes,\n",
    "                              threshold, iou_threshold)\n",
    "\n",
    "        out = invert_affine(framed_metas, out)\n",
    "\n",
    "        for i in range(len(ori_imgs)):\n",
    "            if len(out[i]['rois']) == 0:\n",
    "                continue\n",
    "            ori_imgs[i] = ori_imgs[i].copy()\n",
    "            for j in range(len(out[i]['rois'])):\n",
    "                obj_pred.append(out[i]['class_ids'][j])\n",
    "\n",
    "        # Get specific val images\n",
    "        data = test_set.__getitem__(num) # Convert to 4d tensor (BxNxHxW)\n",
    "\n",
    "        for i in range(0,data['annot'].shape[0]):\n",
    "            [x1,y1,x2,y2,cls] = data['annot'][i].numpy()\n",
    "            obj_gt.append(int(cls))\n",
    "        \n",
    "        if len(obj_pred)>0:\n",
    "            for i in range(len(obj_pred)):\n",
    "                if obj_pred[i] in obj_gt:\n",
    "                    tp += 1\n",
    "                else: fp += 1\n",
    "        \n",
    "        if len(obj_gt)>0:\n",
    "            for i in range(len(obj_gt)):\n",
    "                if obj_gt[i] not in obj_pred:\n",
    "                    fn += 1\n",
    "        \n",
    "        not_gt = [x for x in obj_list if x not in obj_gt]\n",
    "        if len(not_gt)>0:\n",
    "            for i in not_gt:\n",
    "                if i not in obj_pred:\n",
    "                    tn += 1\n",
    "    \n",
    "        if (num+1)%(len(image_paths)/20)==0:\n",
    "            print(\n",
    "               'Images: {}/{}  Precision: {:.3f} Recall: {:.3f} Specificity: {:.3f} Accuracy: {:.3f} F1 score: {:.3f}\\r'.format(\n",
    "                   num+1, num_image,\n",
    "                   tp/(tp+fp+eps),\n",
    "                   tp/(tp+fn+eps),\n",
    "                   tn/(tn+fp+eps),\n",
    "                   (tp+tn)/(tp+tn+fp+fn+eps),\n",
    "                   (2*tp)/(2*tp+fp+fn+eps)), end=\"\")    \n",
    "\n",
    "    return tp, fp, tn, fn"
   ]
  },
  {
   "cell_type": "code",
   "execution_count": 8,
   "metadata": {},
   "outputs": [],
   "source": [
    "def eval_each_class(image_paths, num_image, weight_path=opt['load_weights'], class_number=0, threshold=0.2, iou_threshold=0.2):\n",
    "    # Bounding-box colors\n",
    "    \n",
    "    tp = 0\n",
    "    fp = 0\n",
    "    tn = 0\n",
    "    fn = 0\n",
    "    obj_list = [class_number]\n",
    "    eps = 1e-10\n",
    "    \n",
    "    for num in range(0,num_image):\n",
    "        \n",
    "        obj_pred = []\n",
    "        obj_gt = []\n",
    "        \n",
    "        img_path = image_paths[num]\n",
    "\n",
    "        cudnn.fastest = True\n",
    "        cudnn.benchmark = True\n",
    "\n",
    "        # tf bilinear interpolation is different from any other's, just make do\n",
    "        input_size = input_sizes[opt['compound_coef']]\n",
    "        ori_imgs, framed_imgs, framed_metas = preprocess(img_path, max_size=input_size, mean=params.mean, std=params.std)\n",
    "\n",
    "        if torch.cuda.is_available():\n",
    "            x = torch.stack([torch.from_numpy(fi).cuda() for fi in framed_imgs], 0)\n",
    "        else:\n",
    "            x = torch.stack([torch.from_numpy(fi) for fi in framed_imgs], 0)\n",
    "\n",
    "        x = x.to(torch.float32).permute(0, 3, 1, 2)\n",
    "\n",
    "        model_eval = EfficientDetBackbone(num_classes=len(params.obj_list), compound_coef=opt['compound_coef'],\n",
    "                                     ratios=eval(params.anchors_ratios), scales=eval(params.anchors_scales))\n",
    "\n",
    "        try:\n",
    "            model_eval.load_state_dict(torch.load(weight_path))\n",
    "        except:\n",
    "            print('The rest of the weights should be loaded already.')\n",
    "\n",
    "        model_eval.requires_grad_(False)\n",
    "        model_eval.eval()\n",
    "\n",
    "        if torch.cuda.is_available():\n",
    "            model_eval = model_eval.cuda()\n",
    "\n",
    "        with torch.no_grad():\n",
    "            features, regression, classification, anchors = model_eval(x)\n",
    "\n",
    "            regressBoxes = BBoxTransform()\n",
    "            clipBoxes = ClipBoxes()\n",
    "\n",
    "            out = postprocess(x,\n",
    "                              anchors, regression, classification,\n",
    "                              regressBoxes, clipBoxes,\n",
    "                              threshold, iou_threshold)\n",
    "\n",
    "        out = invert_affine(framed_metas, out)\n",
    "\n",
    "        for i in range(len(ori_imgs)):\n",
    "            if len(out[i]['rois']) == 0:\n",
    "                continue\n",
    "            ori_imgs[i] = ori_imgs[i].copy()\n",
    "            for j in range(len(out[i]['rois'])):\n",
    "                if out[i]['class_ids'][j]==class_number:\n",
    "                    obj_pred.append(out[i]['class_ids'][j])\n",
    "\n",
    "        # Get specific val images\n",
    "        data = test_set.__getitem__(num) # Convert to 4d tensor (BxNxHxW)\n",
    "\n",
    "        for i in range(0,data['annot'].shape[0]):\n",
    "            [x1,y1,x2,y2,cls] = data['annot'][i].numpy()\n",
    "            if int(cls)==class_number:\n",
    "                obj_gt.append(int(cls))\n",
    "        \n",
    "        if len(obj_pred)>0:\n",
    "            for i in range(len(obj_pred)):\n",
    "                if obj_pred[i] in obj_gt:\n",
    "                    tp += 1\n",
    "                else: fp += 1\n",
    "        \n",
    "        if len(obj_gt)>0:\n",
    "            for i in range(len(obj_gt)):\n",
    "                if obj_gt[i] not in obj_pred:\n",
    "                    fn += 1\n",
    "        \n",
    "        not_gt = [x for x in obj_list if x not in obj_gt]\n",
    "        if len(not_gt)>0:\n",
    "            for i in not_gt:\n",
    "                if i not in obj_pred:\n",
    "                    tn += 1\n",
    "                    \n",
    "        if (num+1)%(len(image_paths)/20)==0:\n",
    "            print(\n",
    "               'Images: {}/{}  Precision: {:.3f} Recall: {:.3f} Specificity: {:.3f} Accuracy: {:.3f} F1 score: {:.3f}\\r'.format(\n",
    "                   num+1, num_image,\n",
    "                   tp/(tp+fp+eps),\n",
    "                   tp/(tp+fn+eps),\n",
    "                   tn/(tn+fp+eps),\n",
    "                   (tp+tn)/(tp+tn+fp+fn+eps),\n",
    "                   (2*tp)/(2*tp+fp+fn+eps)), end=\"\")    \n",
    "\n",
    "    return tp, fp, tn, fn"
   ]
  },
  {
   "cell_type": "markdown",
   "metadata": {},
   "source": [
    "# Model"
   ]
  },
  {
   "cell_type": "code",
   "execution_count": 9,
   "metadata": {},
   "outputs": [
    {
     "name": "stdout",
     "output_type": "stream",
     "text": [
      "[Warning] Ignoring Error(s) in loading state_dict for EfficientDetBackbone:\n",
      "\tsize mismatch for classifier.header.pointwise_conv.conv.weight: copying a param with shape torch.Size([810, 224, 1, 1]) from checkpoint, the shape in current model is torch.Size([45, 224, 1, 1]).\n",
      "\tsize mismatch for classifier.header.pointwise_conv.conv.bias: copying a param with shape torch.Size([810]) from checkpoint, the shape in current model is torch.Size([45]).\n",
      "[Warning] Don't panic if you see this, this might be because you load a pretrained weights with different number of classes. The rest of the weights should be loaded already.\n",
      "[Info] loaded weights: efficientdet-d4.pth, resuming checkpoint from step: 0\n"
     ]
    }
   ],
   "source": [
    "model = EfficientDetBackbone(num_classes=len(params.obj_list), compound_coef=opt['compound_coef'],\n",
    "                             ratios=eval(params.anchors_ratios), scales=eval(params.anchors_scales))\n",
    "\n",
    "# load last weights\n",
    "if opt['load_weights'] is not None:\n",
    "    if opt['load_weights'].endswith('.pth'):\n",
    "        weights_path = opt['load_weights']\n",
    "    else:\n",
    "        weights_path = get_last_weights(opt['saved_path'])\n",
    "    try:\n",
    "        last_step = int(os.path.basename(weights_path).split('_')[-1].split('.')[0])\n",
    "    except:\n",
    "        last_step = 0\n",
    "\n",
    "    try:\n",
    "        ret = model.load_state_dict(torch.load(weights_path), strict=False)\n",
    "    except RuntimeError as e:\n",
    "        print(f'[Warning] Ignoring {e}')\n",
    "        print(\n",
    "            '[Warning] Don\\'t panic if you see this, this might be because you load a pretrained weights with different number of classes. The rest of the weights should be loaded already.')\n",
    "\n",
    "    print(f'[Info] loaded weights: {os.path.basename(weights_path)}, resuming checkpoint from step: {last_step}')\n",
    "else:\n",
    "    last_step = 0\n",
    "    print('[Info] initializing weights...')\n",
    "    init_weights(model)\n",
    "\n",
    "# freeze backbone if train head_only\n",
    "if opt['head_only']:\n",
    "    def freeze_backbone(m):\n",
    "        classname = m.__class__.__name__\n",
    "        for ntl in ['EfficientNet', 'BiFPN']:\n",
    "            if ntl in classname:\n",
    "                for param in m.parameters():\n",
    "                    param.requires_grad = False\n",
    "\n",
    "    model.apply(freeze_backbone)\n",
    "    print('[Info] freezed backbone')\n",
    "\n",
    "# https://github.com/vacancy/Synchronized-BatchNorm-PyTorch\n",
    "# apply sync_bn when using multiple gpu and batch_size per gpu is lower than 4\n",
    "#  useful when gpu memory is limited.\n",
    "# because when bn is disable, the training will be very unstable or slow to converge,\n",
    "# apply sync_bn can solve it,\n",
    "# by packing all mini-batch across all gpus as one batch and normalize, then send it back to all gpus.\n",
    "# but it would also slow down the training by a little bit.\n",
    "if params.num_gpus > 1 and opt.batch_size // params.num_gpus < 4:\n",
    "    model.apply(replace_w_sync_bn)\n",
    "    use_sync_bn = True\n",
    "else:\n",
    "    use_sync_bn = False\n",
    "\n",
    "writer = SummaryWriter(opt['log_path'] + f'/{datetime.datetime.now().strftime(\"%Y%m%d-%H%M%S\")}/')\n",
    "\n",
    "# warp the model with loss function, to reduce the memory usage on gpu0 and speedup\n",
    "model = ModelWithLoss(model, debug=opt['debug'])\n",
    "\n",
    "if params.num_gpus > 0:\n",
    "    model = model.cuda()\n",
    "    if params.num_gpus > 1:\n",
    "        model = CustomDataParallel(model, params.num_gpus)\n",
    "        if use_sync_bn:\n",
    "            patch_replication_callback(model)"
   ]
  },
  {
   "cell_type": "markdown",
   "metadata": {},
   "source": [
    "# Preprocessing"
   ]
  },
  {
   "cell_type": "code",
   "execution_count": 10,
   "metadata": {},
   "outputs": [
    {
     "name": "stdout",
     "output_type": "stream",
     "text": [
      "Train images: 86225   Val images: 10000   Test images: 10000\n"
     ]
    }
   ],
   "source": [
    "image_paths = glob(opt['data_path'] + 'image/*.png')\n",
    "image_list = os.listdir(opt['data_path'] + 'image')\n",
    "mask_paths = [image_paths[i][:22] + 'label/' + image_list[i][:-8] + '_label.png' for i in range(len(image_paths))]\n",
    "\n",
    "train_image_paths = image_paths[20000:]\n",
    "train_mask_paths = mask_paths[20000:]\n",
    "\n",
    "val_image_paths = image_paths[:10000]\n",
    "val_mask_paths = mask_paths[:10000]\n",
    "\n",
    "test_image_paths = image_paths[10000:20000]\n",
    "test_mask_paths = mask_paths[10000:20000]\n",
    "\n",
    "print('Train images: {}   Val images: {}   Test images: {}'.format(len(train_image_paths),len(val_image_paths),len(test_image_paths)))"
   ]
  },
  {
   "cell_type": "code",
   "execution_count": 11,
   "metadata": {},
   "outputs": [],
   "source": [
    "training_set = HmDataset(train_image_paths, train_mask_paths, len(params.obj_list),\n",
    "                           transform=transforms.Compose([Normalizer(mean=params.mean, std=params.std),\n",
    "                                                         Flip(),\n",
    "                                                         Resizer(input_sizes[opt['compound_coef']])]))\n",
    "training_generator = DataLoader(training_set, **training_params)\n",
    "\n",
    "val_set = HmDataset(val_image_paths, val_mask_paths, len(params.obj_list),\n",
    "                      transform=transforms.Compose([Normalizer(mean=params.mean, std=params.std),\n",
    "                                                    Resizer(input_sizes[opt['compound_coef']])]))\n",
    "val_generator = DataLoader(val_set, **val_params)\n",
    "\n",
    "test_set = HmDataset(test_image_paths, test_mask_paths, len(params.obj_list),\n",
    "                      transform=transforms.Compose([Normalizer(mean=params.mean, std=params.std),\n",
    "                                                    Resizer(input_sizes[opt['compound_coef']])]))\n",
    "test_generator = DataLoader(test_set, **test_params)"
   ]
  },
  {
   "cell_type": "code",
   "execution_count": 12,
   "metadata": {},
   "outputs": [
    {
     "name": "stdout",
     "output_type": "stream",
     "text": [
      "batch: 7171/7185\r"
     ]
    }
   ],
   "source": [
    "train_0 = 0\n",
    "train_1 = 0\n",
    "train_2 = 0\n",
    "train_3 = 0\n",
    "train_4 = 0\n",
    "\n",
    "for i, data in enumerate(training_generator):\n",
    "    imgs = data['img']\n",
    "    annot = data['annot']\n",
    "    for j in range(len(annot)):\n",
    "        for k in range(len(annot[0])):\n",
    "            if annot[j][k][4]==0: train_0+=1\n",
    "            if annot[j][k][4]==1: train_1+=1\n",
    "            if annot[j][k][4]==2: train_2+=1\n",
    "            if annot[j][k][4]==3: train_3+=1\n",
    "            if annot[j][k][4]==4: train_4+=1\n",
    "        \n",
    "    if i%int((len(training_generator)/100))==0:\n",
    "        print('batch: {}/{}\\r'.format(i, len(training_generator)), end=\"\")"
   ]
  },
  {
   "cell_type": "code",
   "execution_count": 35,
   "metadata": {},
   "outputs": [
    {
     "name": "stdout",
     "output_type": "stream",
     "text": [
      "batch: 832/833\r"
     ]
    }
   ],
   "source": [
    "val_0 = 0\n",
    "val_1 = 0\n",
    "val_2 = 0\n",
    "val_3 = 0\n",
    "val_4 = 0\n",
    "\n",
    "for i, data in enumerate(val_generator):\n",
    "    imgs = data['img']\n",
    "    annot = data['annot']\n",
    "    for j in range(len(annot)):\n",
    "        for k in range(len(annot[0])):\n",
    "            if annot[j][k][4]==0: val_0+=1\n",
    "            if annot[j][k][4]==1: val_1+=1\n",
    "            if annot[j][k][4]==2: val_2+=1\n",
    "            if annot[j][k][4]==3: val_3+=1\n",
    "            if annot[j][k][4]==4: val_4+=1\n",
    "        \n",
    "    if i%int((len(val_generator)/100))==0:\n",
    "        print('batch: {}/{}\\r'.format(i, len(val_generator)), end=\"\")"
   ]
  },
  {
   "cell_type": "code",
   "execution_count": 36,
   "metadata": {},
   "outputs": [
    {
     "name": "stdout",
     "output_type": "stream",
     "text": [
      "batch: 9900/10000\r"
     ]
    }
   ],
   "source": [
    "test_0 = 0\n",
    "test_1 = 0\n",
    "test_2 = 0\n",
    "test_3 = 0\n",
    "test_4 = 0\n",
    "\n",
    "for i, data in enumerate(test_generator):\n",
    "    imgs = data['img']\n",
    "    annot = data['annot']\n",
    "    for j in range(len(annot)):\n",
    "        for k in range(len(annot[0])):\n",
    "            if annot[j][k][4]==0: test_0+=1\n",
    "            if annot[j][k][4]==1: test_1+=1\n",
    "            if annot[j][k][4]==2: test_2+=1\n",
    "            if annot[j][k][4]==3: test_3+=1\n",
    "            if annot[j][k][4]==4: test_4+=1\n",
    "        \n",
    "    if i%int((len(test_generator)/100))==0:\n",
    "        print('batch: {}/{}\\r'.format(i, len(test_generator)), end=\"\")"
   ]
  },
  {
   "cell_type": "code",
   "execution_count": 57,
   "metadata": {},
   "outputs": [
    {
     "data": {
      "image/png": "[encoded data removed]",
      "text/plain": [
       "<Figure size 720x504 with 1 Axes>"
      ]
     },
     "metadata": {
      "needs_background": "light"
     },
     "output_type": "display_data"
    }
   ],
   "source": [
    "# Counting the number of bounding boxes per class\n",
    "\n",
    "labels = ['epidural', 'intraparenchymal', 'intraventricular', 'subarachnoid', 'subdural']\n",
    "train_class_num = [train_0, train_1, train_2, train_3, train_4]\n",
    "val_class_num = [val_0, val_1, val_2, val_3, val_4]\n",
    "test_class_num = [test_0, test_1, test_2, test_3, test_4]\n",
    "\n",
    "x = np.arange(len(labels))  # the label locations\n",
    "width = 0.2  # the width of the bars\n",
    "\n",
    "fig, ax = plt.subplots(figsize=(10,7))\n",
    "rects_train = ax.bar(x - width*10/9, train_class_num, width, label='Train')\n",
    "rects_val = ax.bar(x, val_class_num, width, label='Validation')\n",
    "rects_test = ax.bar(x + width*10/9, test_class_num, width, label='Test')\n",
    "\n",
    "# Add some text for labels, title and custom x-axis tick labels, etc.\n",
    "ax.set_ylabel('Number')\n",
    "ax.set_title('Counting the number of bounding boxes per class')\n",
    "ax.set_xticks(x)\n",
    "ax.set_xticklabels(labels)\n",
    "ax.legend()\n",
    "\n",
    "\n",
    "def autolabel(rects):\n",
    "    \"\"\"Attach a text label above each bar in *rects*, displaying its height.\"\"\"\n",
    "    for rect in rects:\n",
    "        height = rect.get_height()\n",
    "        ax.annotate('{}'.format(height),\n",
    "                    xy=(rect.get_x() + rect.get_width() / 2, height),\n",
    "                    xytext=(0, 3),  # 3 points vertical offset\n",
    "                    textcoords=\"offset points\",\n",
    "                    ha='center', va='bottom')\n",
    "\n",
    "\n",
    "autolabel(rects_train)\n",
    "autolabel(rects_val)\n",
    "autolabel(rects_test)\n",
    "\n",
    "fig.tight_layout()\n",
    "\n",
    "plt.show()\n"
   ]
  },
  {
   "cell_type": "code",
   "execution_count": 11,
   "metadata": {},
   "outputs": [
    {
     "name": "stdout",
     "output_type": "stream",
     "text": [
      "torch.Size([12, 3, 512, 512]) torch.Size([12, 5, 5])\n"
     ]
    }
   ],
   "source": [
    "for i, data in enumerate(val_generator):\n",
    "    if i == 0:\n",
    "        print(data['img'].shape, data['annot'].shape)\n",
    "        break"
   ]
  },
  {
   "cell_type": "code",
   "execution_count": 19,
   "metadata": {},
   "outputs": [
    {
     "data": {
      "text/plain": [
       "<matplotlib.image.AxesImage at 0x26e78cc4f10>"
      ]
     },
     "execution_count": 19,
     "metadata": {},
     "output_type": "execute_result"
    },
    {
     "data": {
      "image/png": "[encoded data removed]",
      "text/plain": [
       "<Figure size 360x360 with 1 Axes>"
      ]
     },
     "metadata": {
      "needs_background": "light"
     },
     "output_type": "display_data"
    }
   ],
   "source": [
    "# Get specific val images\n",
    "data = training_set.__getitem__(10) # Convert to 4d tensor (BxNxHxW)\n",
    "val_image = data['img'].unsqueeze(0)\n",
    "val_image = ((val_image - val_image.min()) / (val_image.max() - val_image.min()))\n",
    "\n",
    "cmap = plt.get_cmap(\"tab20b\")\n",
    "colors = [cmap(i) for i in np.linspace(0, 1, len(params.obj_list))]\n",
    "fig, ax0 = plt.subplots(figsize=(5,5))\n",
    "for i in range(0,data['annot'].shape[0]):\n",
    "    [x1,y1,x2,y2,cls] = data['annot'][i].numpy()\n",
    "    color = colors[int(cls)]\n",
    "    bbox = patches.Rectangle((x1, y1), x2-x1, y2-y1, linewidth=2, edgecolor=color, facecolor=\"none\")\n",
    "    ax0.add_patch(bbox)\n",
    "    # Add label\n",
    "    ax0.text(\n",
    "        x1,\n",
    "        y2,\n",
    "        s=params.obj_list[int(cls)],\n",
    "        color=\"white\",\n",
    "        verticalalignment=\"top\", \n",
    "        bbox={\"color\": color, \"pad\": 0},\n",
    "    )\n",
    "    \n",
    "ax0.imshow(val_image[0])\n",
    "#ax0.axis('off')"
   ]
  },
  {
   "cell_type": "markdown",
   "metadata": {},
   "source": [
    "# Visualization"
   ]
  },
  {
   "cell_type": "code",
   "execution_count": 17,
   "metadata": {},
   "outputs": [
    {
     "name": "stdout",
     "output_type": "stream",
     "text": [
      "The rest of the weights should be loaded already.\n"
     ]
    },
    {
     "data": {
      "image/png": "[encoded data removed]",
      "text/plain": [
       "<Figure size 360x360 with 1 Axes>"
      ]
     },
     "metadata": {
      "needs_background": "light"
     },
     "output_type": "display_data"
    }
   ],
   "source": [
    "img_path = image_paths[0]\n",
    "visualization(img_path)"
   ]
  },
  {
   "cell_type": "markdown",
   "metadata": {},
   "source": [
    "# Optimizer"
   ]
  },
  {
   "cell_type": "code",
   "execution_count": 12,
   "metadata": {},
   "outputs": [],
   "source": [
    "if opt['optim'] == 'adamw':\n",
    "    optimizer = torch.optim.AdamW(model.parameters(), opt['lr'])\n",
    "else:\n",
    "    optimizer = torch.optim.SGD(model.parameters(), opt['lr'], momentum=0.9, nesterov=True)\n",
    "\n",
    "scheduler = torch.optim.lr_scheduler.ReduceLROnPlateau(optimizer, patience=3, verbose=True)"
   ]
  },
  {
   "cell_type": "markdown",
   "metadata": {},
   "source": [
    "# Train"
   ]
  },
  {
   "cell_type": "code",
   "execution_count": 14,
   "metadata": {
    "scrolled": true
   },
   "outputs": [
    {
     "data": {
      "application/vnd.jupyter.widget-view+json": {
       "model_id": "64b41bdf66774738bd1c1119d40a7b90",
       "version_major": 2,
       "version_minor": 0
      },
      "text/plain": [
       "HBox(children=(HTML(value=''), FloatProgress(value=0.0, max=21556.0), HTML(value='')))"
      ]
     },
     "metadata": {},
     "output_type": "display_data"
    },
    {
     "name": "stdout",
     "output_type": "stream",
     "text": [
      "\n",
      "Val. Epoch: 0/600. Classification loss: 0.62023. Regression loss: 2.53056. Total loss: 3.15079\n"
     ]
    },
    {
     "data": {
      "application/vnd.jupyter.widget-view+json": {
       "model_id": "38964f0cf5964b1f9bc45ce9cfcf5a58",
       "version_major": 2,
       "version_minor": 0
      },
      "text/plain": [
       "HBox(children=(HTML(value=''), FloatProgress(value=0.0, max=21556.0), HTML(value='')))"
      ]
     },
     "metadata": {},
     "output_type": "display_data"
    },
    {
     "name": "stdout",
     "output_type": "stream",
     "text": [
      "\n",
      "Val. Epoch: 1/600. Classification loss: 0.37054. Regression loss: 1.67304. Total loss: 2.04358\n"
     ]
    },
    {
     "data": {
      "application/vnd.jupyter.widget-view+json": {
       "model_id": "5486b2f9b89b485cb11c78d8e557ad9b",
       "version_major": 2,
       "version_minor": 0
      },
      "text/plain": [
       "HBox(children=(HTML(value=''), FloatProgress(value=0.0, max=21556.0), HTML(value='')))"
      ]
     },
     "metadata": {},
     "output_type": "display_data"
    },
    {
     "name": "stdout",
     "output_type": "stream",
     "text": [
      "\n",
      "Val. Epoch: 2/600. Classification loss: 0.60786. Regression loss: 2.33852. Total loss: 2.94639\n"
     ]
    },
    {
     "data": {
      "application/vnd.jupyter.widget-view+json": {
       "model_id": "82f1afe34b584f59bd2e9fead812c662",
       "version_major": 2,
       "version_minor": 0
      },
      "text/plain": [
       "HBox(children=(HTML(value=''), FloatProgress(value=0.0, max=21556.0), HTML(value='')))"
      ]
     },
     "metadata": {},
     "output_type": "display_data"
    },
    {
     "name": "stdout",
     "output_type": "stream",
     "text": [
      "\n",
      "Val. Epoch: 3/600. Classification loss: 0.34664. Regression loss: 1.60845. Total loss: 1.95509\n"
     ]
    },
    {
     "data": {
      "application/vnd.jupyter.widget-view+json": {
       "model_id": "edb7d7c0070b47e383859c76257ff1a6",
       "version_major": 2,
       "version_minor": 0
      },
      "text/plain": [
       "HBox(children=(HTML(value=''), FloatProgress(value=0.0, max=21556.0), HTML(value='')))"
      ]
     },
     "metadata": {},
     "output_type": "display_data"
    },
    {
     "name": "stdout",
     "output_type": "stream",
     "text": [
      "\n",
      "Val. Epoch: 4/600. Classification loss: 0.35462. Regression loss: 1.58301. Total loss: 1.93763\n"
     ]
    },
    {
     "data": {
      "application/vnd.jupyter.widget-view+json": {
       "model_id": "c89db0dd434241d7826807dcd36e95c0",
       "version_major": 2,
       "version_minor": 0
      },
      "text/plain": [
       "HBox(children=(HTML(value=''), FloatProgress(value=0.0, max=21556.0), HTML(value='')))"
      ]
     },
     "metadata": {},
     "output_type": "display_data"
    },
    {
     "name": "stdout",
     "output_type": "stream",
     "text": [
      "\n",
      "Val. Epoch: 5/600. Classification loss: 0.34708. Regression loss: 1.65153. Total loss: 1.99861\n"
     ]
    },
    {
     "data": {
      "application/vnd.jupyter.widget-view+json": {
       "model_id": "1ce5fa228f2d4696bfdf83b76c6c0b27",
       "version_major": 2,
       "version_minor": 0
      },
      "text/plain": [
       "HBox(children=(HTML(value=''), FloatProgress(value=0.0, max=21556.0), HTML(value='')))"
      ]
     },
     "metadata": {},
     "output_type": "display_data"
    },
    {
     "name": "stdout",
     "output_type": "stream",
     "text": [
      "\n",
      "Val. Epoch: 6/600. Classification loss: 0.31979. Regression loss: 1.55091. Total loss: 1.87070\n"
     ]
    },
    {
     "data": {
      "application/vnd.jupyter.widget-view+json": {
       "model_id": "d1dda17de536436798e083555ebc11b6",
       "version_major": 2,
       "version_minor": 0
      },
      "text/plain": [
       "HBox(children=(HTML(value=''), FloatProgress(value=0.0, max=21556.0), HTML(value='')))"
      ]
     },
     "metadata": {},
     "output_type": "display_data"
    },
    {
     "name": "stdout",
     "output_type": "stream",
     "text": [
      "\n",
      "Val. Epoch: 7/600. Classification loss: 0.34934. Regression loss: 1.58348. Total loss: 1.93282\n"
     ]
    },
    {
     "data": {
      "application/vnd.jupyter.widget-view+json": {
       "model_id": "3f539b00b2db4d4ab0a87283199afb43",
       "version_major": 2,
       "version_minor": 0
      },
      "text/plain": [
       "HBox(children=(HTML(value=''), FloatProgress(value=0.0, max=21556.0), HTML(value='')))"
      ]
     },
     "metadata": {},
     "output_type": "display_data"
    },
    {
     "name": "stdout",
     "output_type": "stream",
     "text": [
      "\n",
      "Val. Epoch: 8/600. Classification loss: 0.32182. Regression loss: 1.50546. Total loss: 1.82727\n"
     ]
    },
    {
     "data": {
      "application/vnd.jupyter.widget-view+json": {
       "model_id": "dc52496de2f74cacab94aa9c29372b07",
       "version_major": 2,
       "version_minor": 0
      },
      "text/plain": [
       "HBox(children=(HTML(value=''), FloatProgress(value=0.0, max=21556.0), HTML(value='')))"
      ]
     },
     "metadata": {},
     "output_type": "display_data"
    },
    {
     "name": "stdout",
     "output_type": "stream",
     "text": [
      "\n",
      "Val. Epoch: 9/600. Classification loss: 0.30560. Regression loss: 1.50254. Total loss: 1.80814\n"
     ]
    },
    {
     "data": {
      "application/vnd.jupyter.widget-view+json": {
       "model_id": "e1697a19d9ec45549bce0b321a853e33",
       "version_major": 2,
       "version_minor": 0
      },
      "text/plain": [
       "HBox(children=(HTML(value=''), FloatProgress(value=0.0, max=21556.0), HTML(value='')))"
      ]
     },
     "metadata": {},
     "output_type": "display_data"
    },
    {
     "name": "stdout",
     "output_type": "stream",
     "text": [
      "\n",
      "Val. Epoch: 10/600. Classification loss: 0.46598. Regression loss: 1.96102. Total loss: 2.42700\n"
     ]
    },
    {
     "data": {
      "application/vnd.jupyter.widget-view+json": {
       "model_id": "af63558858d8452eb32cf59519dee1d9",
       "version_major": 2,
       "version_minor": 0
      },
      "text/plain": [
       "HBox(children=(HTML(value=''), FloatProgress(value=0.0, max=21556.0), HTML(value='')))"
      ]
     },
     "metadata": {},
     "output_type": "display_data"
    },
    {
     "name": "stdout",
     "output_type": "stream",
     "text": [
      "\n",
      "Val. Epoch: 11/600. Classification loss: 0.32256. Regression loss: 1.55193. Total loss: 1.87449\n"
     ]
    },
    {
     "data": {
      "application/vnd.jupyter.widget-view+json": {
       "model_id": "f5d7b230d00e42a2b60dd4251f2ebb42",
       "version_major": 2,
       "version_minor": 0
      },
      "text/plain": [
       "HBox(children=(HTML(value=''), FloatProgress(value=0.0, max=21556.0), HTML(value='')))"
      ]
     },
     "metadata": {},
     "output_type": "display_data"
    },
    {
     "name": "stdout",
     "output_type": "stream",
     "text": [
      "\n",
      "Val. Epoch: 12/600. Classification loss: 0.31346. Regression loss: 1.55816. Total loss: 1.87162\n"
     ]
    },
    {
     "data": {
      "application/vnd.jupyter.widget-view+json": {
       "model_id": "e8f780c7cb31439783c4ecd24c5b4743",
       "version_major": 2,
       "version_minor": 0
      },
      "text/plain": [
       "HBox(children=(HTML(value=''), FloatProgress(value=0.0, max=21556.0), HTML(value='')))"
      ]
     },
     "metadata": {},
     "output_type": "display_data"
    },
    {
     "name": "stdout",
     "output_type": "stream",
     "text": [
      "\n",
      "Val. Epoch: 13/600. Classification loss: 0.31046. Regression loss: 1.48905. Total loss: 1.79951\n"
     ]
    },
    {
     "data": {
      "application/vnd.jupyter.widget-view+json": {
       "model_id": "5928694c03474764822c58e3f59d558e",
       "version_major": 2,
       "version_minor": 0
      },
      "text/plain": [
       "HBox(children=(HTML(value=''), FloatProgress(value=0.0, max=21556.0), HTML(value='')))"
      ]
     },
     "metadata": {},
     "output_type": "display_data"
    },
    {
     "name": "stdout",
     "output_type": "stream",
     "text": [
      "\n",
      "Val. Epoch: 14/600. Classification loss: 0.63519. Regression loss: 2.39946. Total loss: 3.03465\n"
     ]
    },
    {
     "data": {
      "application/vnd.jupyter.widget-view+json": {
       "model_id": "984c037d793d4c95b9e3628abdb7a474",
       "version_major": 2,
       "version_minor": 0
      },
      "text/plain": [
       "HBox(children=(HTML(value=''), FloatProgress(value=0.0, max=21556.0), HTML(value='')))"
      ]
     },
     "metadata": {},
     "output_type": "display_data"
    },
    {
     "name": "stdout",
     "output_type": "stream",
     "text": [
      "\n",
      "Val. Epoch: 15/600. Classification loss: 0.68556. Regression loss: 2.15352. Total loss: 2.83909\n"
     ]
    },
    {
     "data": {
      "application/vnd.jupyter.widget-view+json": {
       "model_id": "55d5006f86864fd28099a02014a0e211",
       "version_major": 2,
       "version_minor": 0
      },
      "text/plain": [
       "HBox(children=(HTML(value=''), FloatProgress(value=0.0, max=21556.0), HTML(value='')))"
      ]
     },
     "metadata": {},
     "output_type": "display_data"
    },
    {
     "name": "stdout",
     "output_type": "stream",
     "text": [
      "\n",
      "Val. Epoch: 16/600. Classification loss: 0.32109. Regression loss: 1.52401. Total loss: 1.84510\n"
     ]
    },
    {
     "data": {
      "application/vnd.jupyter.widget-view+json": {
       "model_id": "b7845629d1ad4832bf5f24a3d21332c2",
       "version_major": 2,
       "version_minor": 0
      },
      "text/plain": [
       "HBox(children=(HTML(value=''), FloatProgress(value=0.0, max=21556.0), HTML(value='')))"
      ]
     },
     "metadata": {},
     "output_type": "display_data"
    },
    {
     "name": "stdout",
     "output_type": "stream",
     "text": [
      "\n",
      "Val. Epoch: 17/600. Classification loss: 0.53773. Regression loss: 2.01182. Total loss: 2.54955\n"
     ]
    },
    {
     "data": {
      "application/vnd.jupyter.widget-view+json": {
       "model_id": "dd23a03558814e0a90f12e4a01dd36c6",
       "version_major": 2,
       "version_minor": 0
      },
      "text/plain": [
       "HBox(children=(HTML(value=''), FloatProgress(value=0.0, max=21556.0), HTML(value='')))"
      ]
     },
     "metadata": {},
     "output_type": "display_data"
    },
    {
     "name": "stdout",
     "output_type": "stream",
     "text": [
      "\n",
      "Val. Epoch: 18/600. Classification loss: 0.30430. Regression loss: 1.47026. Total loss: 1.77455\n"
     ]
    },
    {
     "data": {
      "application/vnd.jupyter.widget-view+json": {
       "model_id": "b9258180744b4c84b77414b8293b13f7",
       "version_major": 2,
       "version_minor": 0
      },
      "text/plain": [
       "HBox(children=(HTML(value=''), FloatProgress(value=0.0, max=21556.0), HTML(value='')))"
      ]
     },
     "metadata": {},
     "output_type": "display_data"
    },
    {
     "name": "stdout",
     "output_type": "stream",
     "text": [
      "\n",
      "Val. Epoch: 19/600. Classification loss: 1.12652. Regression loss: 2.20299. Total loss: 3.32951\n"
     ]
    },
    {
     "data": {
      "application/vnd.jupyter.widget-view+json": {
       "model_id": "a489b0a7748c4847b3ca9c2a8bbdf521",
       "version_major": 2,
       "version_minor": 0
      },
      "text/plain": [
       "HBox(children=(HTML(value=''), FloatProgress(value=0.0, max=21556.0), HTML(value='')))"
      ]
     },
     "metadata": {},
     "output_type": "display_data"
    },
    {
     "name": "stdout",
     "output_type": "stream",
     "text": [
      "\n",
      "Val. Epoch: 20/600. Classification loss: 0.34532. Regression loss: 1.48835. Total loss: 1.83367\n"
     ]
    },
    {
     "data": {
      "application/vnd.jupyter.widget-view+json": {
       "model_id": "ef16a006b96f47c4b4ab63b4311ba84f",
       "version_major": 2,
       "version_minor": 0
      },
      "text/plain": [
       "HBox(children=(HTML(value=''), FloatProgress(value=0.0, max=21556.0), HTML(value='')))"
      ]
     },
     "metadata": {},
     "output_type": "display_data"
    },
    {
     "name": "stdout",
     "output_type": "stream",
     "text": [
      "\n",
      "Val. Epoch: 21/600. Classification loss: 0.31698. Regression loss: 1.54286. Total loss: 1.85984\n"
     ]
    },
    {
     "data": {
      "application/vnd.jupyter.widget-view+json": {
       "model_id": "c1273198664e41238c2af7c73f9e8bbf",
       "version_major": 2,
       "version_minor": 0
      },
      "text/plain": [
       "HBox(children=(HTML(value=''), FloatProgress(value=0.0, max=21556.0), HTML(value='')))"
      ]
     },
     "metadata": {},
     "output_type": "display_data"
    },
    {
     "name": "stdout",
     "output_type": "stream",
     "text": [
      "\n",
      "Val. Epoch: 22/600. Classification loss: 0.32037. Regression loss: 1.55235. Total loss: 1.87272\n"
     ]
    },
    {
     "data": {
      "application/vnd.jupyter.widget-view+json": {
       "model_id": "a7342283929e45769883ca6c49d43ecd",
       "version_major": 2,
       "version_minor": 0
      },
      "text/plain": [
       "HBox(children=(HTML(value=''), FloatProgress(value=0.0, max=21556.0), HTML(value='')))"
      ]
     },
     "metadata": {},
     "output_type": "display_data"
    },
    {
     "name": "stdout",
     "output_type": "stream",
     "text": [
      "\n",
      "Val. Epoch: 23/600. Classification loss: 0.52240. Regression loss: 1.75590. Total loss: 2.27831\n"
     ]
    },
    {
     "data": {
      "application/vnd.jupyter.widget-view+json": {
       "model_id": "1a759223b1464fe8a507deddb1d3722f",
       "version_major": 2,
       "version_minor": 0
      },
      "text/plain": [
       "HBox(children=(HTML(value=''), FloatProgress(value=0.0, max=21556.0), HTML(value='')))"
      ]
     },
     "metadata": {},
     "output_type": "display_data"
    },
    {
     "name": "stdout",
     "output_type": "stream",
     "text": [
      "\n",
      "Val. Epoch: 24/600. Classification loss: 0.31677. Regression loss: 1.51009. Total loss: 1.82686\n"
     ]
    },
    {
     "data": {
      "application/vnd.jupyter.widget-view+json": {
       "model_id": "a672377584e24c77a2bab609295c9cf0",
       "version_major": 2,
       "version_minor": 0
      },
      "text/plain": [
       "HBox(children=(HTML(value=''), FloatProgress(value=0.0, max=21556.0), HTML(value='')))"
      ]
     },
     "metadata": {},
     "output_type": "display_data"
    },
    {
     "name": "stdout",
     "output_type": "stream",
     "text": [
      "\n",
      "Val. Epoch: 25/600. Classification loss: 0.31604. Regression loss: 1.53778. Total loss: 1.85382\n"
     ]
    },
    {
     "data": {
      "application/vnd.jupyter.widget-view+json": {
       "model_id": "49fc28e669e24248b3d7204ed39f2916",
       "version_major": 2,
       "version_minor": 0
      },
      "text/plain": [
       "HBox(children=(HTML(value=''), FloatProgress(value=0.0, max=21556.0), HTML(value='')))"
      ]
     },
     "metadata": {},
     "output_type": "display_data"
    },
    {
     "name": "stdout",
     "output_type": "stream",
     "text": [
      "\n",
      "Val. Epoch: 26/600. Classification loss: 0.30021. Regression loss: 1.51928. Total loss: 1.81949\n"
     ]
    },
    {
     "data": {
      "application/vnd.jupyter.widget-view+json": {
       "model_id": "84c00a9578e9487a999ce080d34c6023",
       "version_major": 2,
       "version_minor": 0
      },
      "text/plain": [
       "HBox(children=(HTML(value=''), FloatProgress(value=0.0, max=21556.0), HTML(value='')))"
      ]
     },
     "metadata": {},
     "output_type": "display_data"
    },
    {
     "name": "stdout",
     "output_type": "stream",
     "text": [
      "\n",
      "Val. Epoch: 27/600. Classification loss: 0.31417. Regression loss: 1.49666. Total loss: 1.81083\n"
     ]
    },
    {
     "data": {
      "application/vnd.jupyter.widget-view+json": {
       "model_id": "e4da3a4d7c9d457189d86412197aa03c",
       "version_major": 2,
       "version_minor": 0
      },
      "text/plain": [
       "HBox(children=(HTML(value=''), FloatProgress(value=0.0, max=21556.0), HTML(value='')))"
      ]
     },
     "metadata": {},
     "output_type": "display_data"
    },
    {
     "name": "stdout",
     "output_type": "stream",
     "text": [
      "\n",
      "Val. Epoch: 28/600. Classification loss: 0.64349. Regression loss: 2.44747. Total loss: 3.09096\n"
     ]
    },
    {
     "data": {
      "application/vnd.jupyter.widget-view+json": {
       "model_id": "4e99adb022dd4ef598ac0329524ec270",
       "version_major": 2,
       "version_minor": 0
      },
      "text/plain": [
       "HBox(children=(HTML(value=''), FloatProgress(value=0.0, max=21556.0), HTML(value='')))"
      ]
     },
     "metadata": {},
     "output_type": "display_data"
    },
    {
     "name": "stdout",
     "output_type": "stream",
     "text": [
      "\n",
      "Val. Epoch: 29/600. Classification loss: 0.31530. Regression loss: 1.56181. Total loss: 1.87711\n"
     ]
    },
    {
     "data": {
      "application/vnd.jupyter.widget-view+json": {
       "model_id": "b72860e5cb2745aca1fb2baf645ba571",
       "version_major": 2,
       "version_minor": 0
      },
      "text/plain": [
       "HBox(children=(HTML(value=''), FloatProgress(value=0.0, max=21556.0), HTML(value='')))"
      ]
     },
     "metadata": {},
     "output_type": "display_data"
    },
    {
     "name": "stdout",
     "output_type": "stream",
     "text": [
      "\n",
      "Val. Epoch: 30/600. Classification loss: 0.32709. Regression loss: 1.56514. Total loss: 1.89223\n"
     ]
    },
    {
     "data": {
      "application/vnd.jupyter.widget-view+json": {
       "model_id": "cbd94712a4294ad1a0cc4300032989d1",
       "version_major": 2,
       "version_minor": 0
      },
      "text/plain": [
       "HBox(children=(HTML(value=''), FloatProgress(value=0.0, max=21556.0), HTML(value='')))"
      ]
     },
     "metadata": {},
     "output_type": "display_data"
    },
    {
     "name": "stdout",
     "output_type": "stream",
     "text": [
      "\n",
      "Val. Epoch: 31/600. Classification loss: 1.31544. Regression loss: 2.27660. Total loss: 3.59204\n"
     ]
    },
    {
     "data": {
      "application/vnd.jupyter.widget-view+json": {
       "model_id": "f47a59eefadf45cc811a533145da2960",
       "version_major": 2,
       "version_minor": 0
      },
      "text/plain": [
       "HBox(children=(HTML(value=''), FloatProgress(value=0.0, max=21556.0), HTML(value='')))"
      ]
     },
     "metadata": {},
     "output_type": "display_data"
    },
    {
     "name": "stdout",
     "output_type": "stream",
     "text": [
      "\n",
      "Val. Epoch: 32/600. Classification loss: 0.50014. Regression loss: 1.90483. Total loss: 2.40496\n"
     ]
    },
    {
     "data": {
      "application/vnd.jupyter.widget-view+json": {
       "model_id": "8cb5441f24aa41c396d25b20857859ee",
       "version_major": 2,
       "version_minor": 0
      },
      "text/plain": [
       "HBox(children=(HTML(value=''), FloatProgress(value=0.0, max=21556.0), HTML(value='')))"
      ]
     },
     "metadata": {},
     "output_type": "display_data"
    },
    {
     "name": "stdout",
     "output_type": "stream",
     "text": [
      "\n",
      "Val. Epoch: 33/600. Classification loss: 0.35725. Regression loss: 1.63054. Total loss: 1.98779\n"
     ]
    },
    {
     "data": {
      "application/vnd.jupyter.widget-view+json": {
       "model_id": "dddd26256f3b465a97e2510d454f85cc",
       "version_major": 2,
       "version_minor": 0
      },
      "text/plain": [
       "HBox(children=(HTML(value=''), FloatProgress(value=0.0, max=21556.0), HTML(value='')))"
      ]
     },
     "metadata": {},
     "output_type": "display_data"
    },
    {
     "name": "stdout",
     "output_type": "stream",
     "text": [
      "\n",
      "Val. Epoch: 34/600. Classification loss: 0.31164. Regression loss: 1.50529. Total loss: 1.81693\n"
     ]
    },
    {
     "data": {
      "application/vnd.jupyter.widget-view+json": {
       "model_id": "23cdac27d44e4a0798c8ee5671896870",
       "version_major": 2,
       "version_minor": 0
      },
      "text/plain": [
       "HBox(children=(HTML(value=''), FloatProgress(value=0.0, max=21556.0), HTML(value='')))"
      ]
     },
     "metadata": {},
     "output_type": "display_data"
    },
    {
     "name": "stdout",
     "output_type": "stream",
     "text": [
      "\n",
      "Val. Epoch: 35/600. Classification loss: 0.39304. Regression loss: 1.71194. Total loss: 2.10498\n"
     ]
    },
    {
     "data": {
      "application/vnd.jupyter.widget-view+json": {
       "model_id": "6f1c51b3fe1c4505bdc47ed646cce6c9",
       "version_major": 2,
       "version_minor": 0
      },
      "text/plain": [
       "HBox(children=(HTML(value=''), FloatProgress(value=0.0, max=21556.0), HTML(value='')))"
      ]
     },
     "metadata": {},
     "output_type": "display_data"
    },
    {
     "name": "stdout",
     "output_type": "stream",
     "text": [
      "\n",
      "Val. Epoch: 36/600. Classification loss: 0.32688. Regression loss: 1.52996. Total loss: 1.85684\n"
     ]
    },
    {
     "data": {
      "application/vnd.jupyter.widget-view+json": {
       "model_id": "4fedeb969d1442dcbdbec25a5a8cf1ab",
       "version_major": 2,
       "version_minor": 0
      },
      "text/plain": [
       "HBox(children=(HTML(value=''), FloatProgress(value=0.0, max=21556.0), HTML(value='')))"
      ]
     },
     "metadata": {},
     "output_type": "display_data"
    },
    {
     "name": "stdout",
     "output_type": "stream",
     "text": [
      "\n",
      "Val. Epoch: 37/600. Classification loss: 0.49492. Regression loss: 1.96942. Total loss: 2.46435\n"
     ]
    },
    {
     "data": {
      "application/vnd.jupyter.widget-view+json": {
       "model_id": "8e6f6774b795433da4d7672cd12e662d",
       "version_major": 2,
       "version_minor": 0
      },
      "text/plain": [
       "HBox(children=(HTML(value=''), FloatProgress(value=0.0, max=21556.0), HTML(value='')))"
      ]
     },
     "metadata": {},
     "output_type": "display_data"
    },
    {
     "name": "stdout",
     "output_type": "stream",
     "text": [
      "\n",
      "Val. Epoch: 38/600. Classification loss: 0.78214. Regression loss: 2.14328. Total loss: 2.92542\n"
     ]
    },
    {
     "data": {
      "application/vnd.jupyter.widget-view+json": {
       "model_id": "01bbc9badd6049a5871788b58f148022",
       "version_major": 2,
       "version_minor": 0
      },
      "text/plain": [
       "HBox(children=(HTML(value=''), FloatProgress(value=0.0, max=21556.0), HTML(value='')))"
      ]
     },
     "metadata": {},
     "output_type": "display_data"
    },
    {
     "name": "stdout",
     "output_type": "stream",
     "text": [
      "\n",
      "Val. Epoch: 39/600. Classification loss: 0.31982. Regression loss: 1.55760. Total loss: 1.87741\n"
     ]
    },
    {
     "data": {
      "application/vnd.jupyter.widget-view+json": {
       "model_id": "bd8fe7fc10ca4f87969a06332abeffe2",
       "version_major": 2,
       "version_minor": 0
      },
      "text/plain": [
       "HBox(children=(HTML(value=''), FloatProgress(value=0.0, max=21556.0), HTML(value='')))"
      ]
     },
     "metadata": {},
     "output_type": "display_data"
    },
    {
     "name": "stdout",
     "output_type": "stream",
     "text": [
      "\n",
      "Val. Epoch: 40/600. Classification loss: 0.31654. Regression loss: 1.50850. Total loss: 1.82504\n"
     ]
    },
    {
     "data": {
      "application/vnd.jupyter.widget-view+json": {
       "model_id": "b4fc59292a1d4a9594f45ad7fefdbc6d",
       "version_major": 2,
       "version_minor": 0
      },
      "text/plain": [
       "HBox(children=(HTML(value=''), FloatProgress(value=0.0, max=21556.0), HTML(value='')))"
      ]
     },
     "metadata": {},
     "output_type": "display_data"
    },
    {
     "name": "stdout",
     "output_type": "stream",
     "text": [
      "\n",
      "Val. Epoch: 41/600. Classification loss: 0.70271. Regression loss: 2.19113. Total loss: 2.89384\n"
     ]
    },
    {
     "data": {
      "application/vnd.jupyter.widget-view+json": {
       "model_id": "448b165251704e8995739e31a3c33840",
       "version_major": 2,
       "version_minor": 0
      },
      "text/plain": [
       "HBox(children=(HTML(value=''), FloatProgress(value=0.0, max=21556.0), HTML(value='')))"
      ]
     },
     "metadata": {},
     "output_type": "display_data"
    },
    {
     "name": "stdout",
     "output_type": "stream",
     "text": [
      "\n",
      "Val. Epoch: 42/600. Classification loss: 0.32851. Regression loss: 1.55654. Total loss: 1.88505\n"
     ]
    },
    {
     "data": {
      "application/vnd.jupyter.widget-view+json": {
       "model_id": "8de2b02478f542188668df67f11fe917",
       "version_major": 2,
       "version_minor": 0
      },
      "text/plain": [
       "HBox(children=(HTML(value=''), FloatProgress(value=0.0, max=21556.0), HTML(value='')))"
      ]
     },
     "metadata": {},
     "output_type": "display_data"
    },
    {
     "name": "stdout",
     "output_type": "stream",
     "text": [
      "\n",
      "Val. Epoch: 43/600. Classification loss: 0.31417. Regression loss: 1.56763. Total loss: 1.88181\n"
     ]
    },
    {
     "data": {
      "application/vnd.jupyter.widget-view+json": {
       "model_id": "acdee14aa56241ee8fba49b734e53882",
       "version_major": 2,
       "version_minor": 0
      },
      "text/plain": [
       "HBox(children=(HTML(value=''), FloatProgress(value=0.0, max=21556.0), HTML(value='')))"
      ]
     },
     "metadata": {},
     "output_type": "display_data"
    },
    {
     "name": "stdout",
     "output_type": "stream",
     "text": [
      "\n",
      "Val. Epoch: 44/600. Classification loss: 0.33479. Regression loss: 1.49641. Total loss: 1.83120\n"
     ]
    },
    {
     "data": {
      "application/vnd.jupyter.widget-view+json": {
       "model_id": "a6862af93fbb4fc8a550f5ed5c3d1205",
       "version_major": 2,
       "version_minor": 0
      },
      "text/plain": [
       "HBox(children=(HTML(value=''), FloatProgress(value=0.0, max=21556.0), HTML(value='')))"
      ]
     },
     "metadata": {},
     "output_type": "display_data"
    },
    {
     "name": "stdout",
     "output_type": "stream",
     "text": [
      "\n",
      "Val. Epoch: 45/600. Classification loss: 0.30963. Regression loss: 1.50034. Total loss: 1.80997\n"
     ]
    },
    {
     "data": {
      "application/vnd.jupyter.widget-view+json": {
       "model_id": "523aba0b1a92407fa902fc178b43cb01",
       "version_major": 2,
       "version_minor": 0
      },
      "text/plain": [
       "HBox(children=(HTML(value=''), FloatProgress(value=0.0, max=21556.0), HTML(value='')))"
      ]
     },
     "metadata": {},
     "output_type": "display_data"
    },
    {
     "name": "stdout",
     "output_type": "stream",
     "text": [
      "\n",
      "Val. Epoch: 46/600. Classification loss: 0.35954. Regression loss: 1.64363. Total loss: 2.00317\n"
     ]
    },
    {
     "data": {
      "application/vnd.jupyter.widget-view+json": {
       "model_id": "6f158be9e3bc448db47c39b6c29844a8",
       "version_major": 2,
       "version_minor": 0
      },
      "text/plain": [
       "HBox(children=(HTML(value=''), FloatProgress(value=0.0, max=21556.0), HTML(value='')))"
      ]
     },
     "metadata": {},
     "output_type": "display_data"
    },
    {
     "name": "stdout",
     "output_type": "stream",
     "text": [
      "\n",
      "Epoch    48: reducing learning rate of group 0 to 1.0000e-04.\n",
      "Val. Epoch: 47/600. Classification loss: 0.86044. Regression loss: 3.54603. Total loss: 4.40646\n"
     ]
    },
    {
     "data": {
      "application/vnd.jupyter.widget-view+json": {
       "model_id": "7021d83e6e7e4eb285f825d1edf49213",
       "version_major": 2,
       "version_minor": 0
      },
      "text/plain": [
       "HBox(children=(HTML(value=''), FloatProgress(value=0.0, max=21556.0), HTML(value='')))"
      ]
     },
     "metadata": {},
     "output_type": "display_data"
    },
    {
     "name": "stdout",
     "output_type": "stream",
     "text": [
      "\n",
      "Val. Epoch: 48/600. Classification loss: 0.27755. Regression loss: 1.30527. Total loss: 1.58282\n"
     ]
    },
    {
     "data": {
      "application/vnd.jupyter.widget-view+json": {
       "model_id": "1b49ed4da9eb44cd8090e23f3a9c5f26",
       "version_major": 2,
       "version_minor": 0
      },
      "text/plain": [
       "HBox(children=(HTML(value=''), FloatProgress(value=0.0, max=21556.0), HTML(value='')))"
      ]
     },
     "metadata": {},
     "output_type": "display_data"
    },
    {
     "name": "stdout",
     "output_type": "stream",
     "text": [
      "\n",
      "Val. Epoch: 49/600. Classification loss: 0.26914. Regression loss: 1.28875. Total loss: 1.55789\n"
     ]
    },
    {
     "data": {
      "application/vnd.jupyter.widget-view+json": {
       "model_id": "ab7197c1e2e94ab79369db57c5d6e49c",
       "version_major": 2,
       "version_minor": 0
      },
      "text/plain": [
       "HBox(children=(HTML(value=''), FloatProgress(value=0.0, max=21556.0), HTML(value='')))"
      ]
     },
     "metadata": {},
     "output_type": "display_data"
    },
    {
     "name": "stdout",
     "output_type": "stream",
     "text": [
      "\n",
      "Val. Epoch: 50/600. Classification loss: 0.27468. Regression loss: 1.29360. Total loss: 1.56827\n"
     ]
    },
    {
     "data": {
      "application/vnd.jupyter.widget-view+json": {
       "model_id": "a6768c68496b40938c03dbccb9211409",
       "version_major": 2,
       "version_minor": 0
      },
      "text/plain": [
       "HBox(children=(HTML(value=''), FloatProgress(value=0.0, max=21556.0), HTML(value='')))"
      ]
     },
     "metadata": {},
     "output_type": "display_data"
    },
    {
     "name": "stdout",
     "output_type": "stream",
     "text": [
      "\n",
      "Val. Epoch: 51/600. Classification loss: 0.28189. Regression loss: 1.29349. Total loss: 1.57538\n"
     ]
    },
    {
     "data": {
      "application/vnd.jupyter.widget-view+json": {
       "model_id": "65c57ef8ab154a86a9ec4fec48160443",
       "version_major": 2,
       "version_minor": 0
      },
      "text/plain": [
       "HBox(children=(HTML(value=''), FloatProgress(value=0.0, max=21556.0), HTML(value='')))"
      ]
     },
     "metadata": {},
     "output_type": "display_data"
    },
    {
     "name": "stdout",
     "output_type": "stream",
     "text": [
      "\n",
      "Val. Epoch: 52/600. Classification loss: 0.26573. Regression loss: 1.29030. Total loss: 1.55603\n"
     ]
    },
    {
     "data": {
      "application/vnd.jupyter.widget-view+json": {
       "model_id": "293a15f48d304f1283e47990f3c30e69",
       "version_major": 2,
       "version_minor": 0
      },
      "text/plain": [
       "HBox(children=(HTML(value=''), FloatProgress(value=0.0, max=21556.0), HTML(value='')))"
      ]
     },
     "metadata": {},
     "output_type": "display_data"
    },
    {
     "name": "stdout",
     "output_type": "stream",
     "text": [
      "\n",
      "Val. Epoch: 53/600. Classification loss: 0.26386. Regression loss: 1.31450. Total loss: 1.57835\n"
     ]
    },
    {
     "data": {
      "application/vnd.jupyter.widget-view+json": {
       "model_id": "302aad6c7887475ea842cf6cfefef9f4",
       "version_major": 2,
       "version_minor": 0
      },
      "text/plain": [
       "HBox(children=(HTML(value=''), FloatProgress(value=0.0, max=21556.0), HTML(value='')))"
      ]
     },
     "metadata": {},
     "output_type": "display_data"
    },
    {
     "name": "stdout",
     "output_type": "stream",
     "text": [
      "\n",
      "Val. Epoch: 54/600. Classification loss: 0.27008. Regression loss: 1.30342. Total loss: 1.57350\n"
     ]
    },
    {
     "data": {
      "application/vnd.jupyter.widget-view+json": {
       "model_id": "ee9e4cf76632430084ec71d63990854e",
       "version_major": 2,
       "version_minor": 0
      },
      "text/plain": [
       "HBox(children=(HTML(value=''), FloatProgress(value=0.0, max=21556.0), HTML(value='')))"
      ]
     },
     "metadata": {},
     "output_type": "display_data"
    },
    {
     "name": "stdout",
     "output_type": "stream",
     "text": [
      "\n",
      "Val. Epoch: 55/600. Classification loss: 0.26324. Regression loss: 1.31961. Total loss: 1.58285\n"
     ]
    },
    {
     "data": {
      "application/vnd.jupyter.widget-view+json": {
       "model_id": "924cd40a48d1436fbf84df4908a1b52d",
       "version_major": 2,
       "version_minor": 0
      },
      "text/plain": [
       "HBox(children=(HTML(value=''), FloatProgress(value=0.0, max=21556.0), HTML(value='')))"
      ]
     },
     "metadata": {},
     "output_type": "display_data"
    },
    {
     "name": "stdout",
     "output_type": "stream",
     "text": [
      "\n",
      "Val. Epoch: 56/600. Classification loss: 0.28896. Regression loss: 1.37622. Total loss: 1.66518\n"
     ]
    },
    {
     "data": {
      "application/vnd.jupyter.widget-view+json": {
       "model_id": "80fff824856148d69de25c9e6bce34a2",
       "version_major": 2,
       "version_minor": 0
      },
      "text/plain": [
       "HBox(children=(HTML(value=''), FloatProgress(value=0.0, max=21556.0), HTML(value='')))"
      ]
     },
     "metadata": {},
     "output_type": "display_data"
    },
    {
     "name": "stdout",
     "output_type": "stream",
     "text": [
      "\n",
      "Val. Epoch: 57/600. Classification loss: 0.28423. Regression loss: 1.38079. Total loss: 1.66502\n"
     ]
    },
    {
     "data": {
      "application/vnd.jupyter.widget-view+json": {
       "model_id": "cb437c0227eb4b64bc01a63c0671016c",
       "version_major": 2,
       "version_minor": 0
      },
      "text/plain": [
       "HBox(children=(HTML(value=''), FloatProgress(value=0.0, max=21556.0), HTML(value='')))"
      ]
     },
     "metadata": {},
     "output_type": "display_data"
    },
    {
     "name": "stdout",
     "output_type": "stream",
     "text": [
      "\n",
      "Val. Epoch: 58/600. Classification loss: 0.28468. Regression loss: 1.38340. Total loss: 1.66808\n"
     ]
    },
    {
     "data": {
      "application/vnd.jupyter.widget-view+json": {
       "model_id": "34b865b9621541fbb65d1fc8e73d7e79",
       "version_major": 2,
       "version_minor": 0
      },
      "text/plain": [
       "HBox(children=(HTML(value=''), FloatProgress(value=0.0, max=21556.0), HTML(value='')))"
      ]
     },
     "metadata": {},
     "output_type": "display_data"
    },
    {
     "name": "stdout",
     "output_type": "stream",
     "text": [
      "\n",
      "Val. Epoch: 59/600. Classification loss: 0.27064. Regression loss: 1.36880. Total loss: 1.63944\n"
     ]
    },
    {
     "data": {
      "application/vnd.jupyter.widget-view+json": {
       "model_id": "5043ce1863f74e4cbd4e5be09e96d23d",
       "version_major": 2,
       "version_minor": 0
      },
      "text/plain": [
       "HBox(children=(HTML(value=''), FloatProgress(value=0.0, max=21556.0), HTML(value='')))"
      ]
     },
     "metadata": {},
     "output_type": "display_data"
    },
    {
     "name": "stdout",
     "output_type": "stream",
     "text": [
      "\n",
      "Val. Epoch: 60/600. Classification loss: 0.27259. Regression loss: 1.37697. Total loss: 1.64956\n"
     ]
    },
    {
     "data": {
      "application/vnd.jupyter.widget-view+json": {
       "model_id": "f7cf2414cef24a6895d163379adb41fe",
       "version_major": 2,
       "version_minor": 0
      },
      "text/plain": [
       "HBox(children=(HTML(value=''), FloatProgress(value=0.0, max=21556.0), HTML(value='')))"
      ]
     },
     "metadata": {},
     "output_type": "display_data"
    },
    {
     "name": "stdout",
     "output_type": "stream",
     "text": [
      "\n",
      "Val. Epoch: 61/600. Classification loss: 0.27487. Regression loss: 1.39529. Total loss: 1.67017\n"
     ]
    },
    {
     "data": {
      "application/vnd.jupyter.widget-view+json": {
       "model_id": "61acca297bb74261bf4a5e198d9e67f5",
       "version_major": 2,
       "version_minor": 0
      },
      "text/plain": [
       "HBox(children=(HTML(value=''), FloatProgress(value=0.0, max=21556.0), HTML(value='')))"
      ]
     },
     "metadata": {},
     "output_type": "display_data"
    },
    {
     "name": "stdout",
     "output_type": "stream",
     "text": [
      "\n",
      "Val. Epoch: 62/600. Classification loss: 0.28336. Regression loss: 1.41489. Total loss: 1.69825\n"
     ]
    },
    {
     "data": {
      "application/vnd.jupyter.widget-view+json": {
       "model_id": "c909e382a4aa404f949c4c70e46a4a5a",
       "version_major": 2,
       "version_minor": 0
      },
      "text/plain": [
       "HBox(children=(HTML(value=''), FloatProgress(value=0.0, max=21556.0), HTML(value='')))"
      ]
     },
     "metadata": {},
     "output_type": "display_data"
    },
    {
     "name": "stdout",
     "output_type": "stream",
     "text": [
      "\n",
      "Val. Epoch: 63/600. Classification loss: 0.27344. Regression loss: 1.41944. Total loss: 1.69288\n"
     ]
    },
    {
     "data": {
      "application/vnd.jupyter.widget-view+json": {
       "model_id": "8447892c6297422c92cc1448d7bfe231",
       "version_major": 2,
       "version_minor": 0
      },
      "text/plain": [
       "HBox(children=(HTML(value=''), FloatProgress(value=0.0, max=21556.0), HTML(value='')))"
      ]
     },
     "metadata": {},
     "output_type": "display_data"
    },
    {
     "name": "stdout",
     "output_type": "stream",
     "text": [
      "\n",
      "Val. Epoch: 64/600. Classification loss: 0.27280. Regression loss: 1.41588. Total loss: 1.68868\n"
     ]
    },
    {
     "data": {
      "application/vnd.jupyter.widget-view+json": {
       "model_id": "cc4ddf9f8eee45e8928322baf25ee4fd",
       "version_major": 2,
       "version_minor": 0
      },
      "text/plain": [
       "HBox(children=(HTML(value=''), FloatProgress(value=0.0, max=21556.0), HTML(value='')))"
      ]
     },
     "metadata": {},
     "output_type": "display_data"
    },
    {
     "name": "stdout",
     "output_type": "stream",
     "text": [
      "\n",
      "Val. Epoch: 65/600. Classification loss: 0.29474. Regression loss: 1.45962. Total loss: 1.75435\n"
     ]
    },
    {
     "data": {
      "application/vnd.jupyter.widget-view+json": {
       "model_id": "266ce84798e544bb82419cd71e5768f6",
       "version_major": 2,
       "version_minor": 0
      },
      "text/plain": [
       "HBox(children=(HTML(value=''), FloatProgress(value=0.0, max=21556.0), HTML(value='')))"
      ]
     },
     "metadata": {},
     "output_type": "display_data"
    },
    {
     "name": "stdout",
     "output_type": "stream",
     "text": [
      "\n",
      "Val. Epoch: 66/600. Classification loss: 0.28335. Regression loss: 1.45306. Total loss: 1.73641\n"
     ]
    },
    {
     "data": {
      "application/vnd.jupyter.widget-view+json": {
       "model_id": "e647afe0536447ef9e0ad3556a4d9eb4",
       "version_major": 2,
       "version_minor": 0
      },
      "text/plain": [
       "HBox(children=(HTML(value=''), FloatProgress(value=0.0, max=21556.0), HTML(value='')))"
      ]
     },
     "metadata": {},
     "output_type": "display_data"
    },
    {
     "name": "stdout",
     "output_type": "stream",
     "text": [
      "\n",
      "Val. Epoch: 67/600. Classification loss: 0.27756. Regression loss: 1.45567. Total loss: 1.73323\n"
     ]
    },
    {
     "data": {
      "application/vnd.jupyter.widget-view+json": {
       "model_id": "5fee3aca820f43f39142ec7944870efa",
       "version_major": 2,
       "version_minor": 0
      },
      "text/plain": [
       "HBox(children=(HTML(value=''), FloatProgress(value=0.0, max=21556.0), HTML(value='')))"
      ]
     },
     "metadata": {},
     "output_type": "display_data"
    },
    {
     "name": "stdout",
     "output_type": "stream",
     "text": [
      "\n",
      "Val. Epoch: 68/600. Classification loss: 0.28218. Regression loss: 1.47261. Total loss: 1.75479\n"
     ]
    },
    {
     "data": {
      "application/vnd.jupyter.widget-view+json": {
       "model_id": "689d0cf613224504aef21873cc54ee6e",
       "version_major": 2,
       "version_minor": 0
      },
      "text/plain": [
       "HBox(children=(HTML(value=''), FloatProgress(value=0.0, max=21556.0), HTML(value='')))"
      ]
     },
     "metadata": {},
     "output_type": "display_data"
    },
    {
     "name": "stdout",
     "output_type": "stream",
     "text": [
      "\n",
      "Val. Epoch: 69/600. Classification loss: 0.28722. Regression loss: 1.48131. Total loss: 1.76853\n"
     ]
    },
    {
     "data": {
      "application/vnd.jupyter.widget-view+json": {
       "model_id": "f2d7d29004ad4f7199ecbb3bbf74ccb1",
       "version_major": 2,
       "version_minor": 0
      },
      "text/plain": [
       "HBox(children=(HTML(value=''), FloatProgress(value=0.0, max=21556.0), HTML(value='')))"
      ]
     },
     "metadata": {},
     "output_type": "display_data"
    },
    {
     "name": "stdout",
     "output_type": "stream",
     "text": [
      "\n",
      "Val. Epoch: 70/600. Classification loss: 0.28388. Regression loss: 1.48684. Total loss: 1.77073\n"
     ]
    },
    {
     "data": {
      "application/vnd.jupyter.widget-view+json": {
       "model_id": "7046a5adbea049f9abc3c56496312fd2",
       "version_major": 2,
       "version_minor": 0
      },
      "text/plain": [
       "HBox(children=(HTML(value=''), FloatProgress(value=0.0, max=21556.0), HTML(value='')))"
      ]
     },
     "metadata": {},
     "output_type": "display_data"
    },
    {
     "name": "stdout",
     "output_type": "stream",
     "text": [
      "\n",
      "Val. Epoch: 71/600. Classification loss: 0.29768. Regression loss: 1.53549. Total loss: 1.83317\n"
     ]
    },
    {
     "data": {
      "application/vnd.jupyter.widget-view+json": {
       "model_id": "6e41ef5df4af4778b5f85a1d28af5497",
       "version_major": 2,
       "version_minor": 0
      },
      "text/plain": [
       "HBox(children=(HTML(value=''), FloatProgress(value=0.0, max=21556.0), HTML(value='')))"
      ]
     },
     "metadata": {},
     "output_type": "display_data"
    },
    {
     "name": "stdout",
     "output_type": "stream",
     "text": [
      "\n",
      "Val. Epoch: 72/600. Classification loss: 0.28586. Regression loss: 1.50279. Total loss: 1.78865\n"
     ]
    },
    {
     "data": {
      "application/vnd.jupyter.widget-view+json": {
       "model_id": "fc069e859cb64970b5fe4ad1828f9318",
       "version_major": 2,
       "version_minor": 0
      },
      "text/plain": [
       "HBox(children=(HTML(value=''), FloatProgress(value=0.0, max=21556.0), HTML(value='')))"
      ]
     },
     "metadata": {},
     "output_type": "display_data"
    },
    {
     "name": "stdout",
     "output_type": "stream",
     "text": [
      "\n",
      "Val. Epoch: 73/600. Classification loss: 0.30823. Regression loss: 1.57540. Total loss: 1.88363\n"
     ]
    },
    {
     "data": {
      "application/vnd.jupyter.widget-view+json": {
       "model_id": "6fb46cf2e75b4dee9276bafb4d31c038",
       "version_major": 2,
       "version_minor": 0
      },
      "text/plain": [
       "HBox(children=(HTML(value=''), FloatProgress(value=0.0, max=21556.0), HTML(value='')))"
      ]
     },
     "metadata": {},
     "output_type": "display_data"
    },
    {
     "name": "stdout",
     "output_type": "stream",
     "text": [
      "\n",
      "Val. Epoch: 74/600. Classification loss: 0.29185. Regression loss: 1.51899. Total loss: 1.81084\n"
     ]
    },
    {
     "data": {
      "application/vnd.jupyter.widget-view+json": {
       "model_id": "5aea5f534707410885f195daf63a91f9",
       "version_major": 2,
       "version_minor": 0
      },
      "text/plain": [
       "HBox(children=(HTML(value=''), FloatProgress(value=0.0, max=21556.0), HTML(value='')))"
      ]
     },
     "metadata": {},
     "output_type": "display_data"
    },
    {
     "name": "stdout",
     "output_type": "stream",
     "text": [
      "\n",
      "Val. Epoch: 75/600. Classification loss: 0.28562. Regression loss: 1.52507. Total loss: 1.81069\n"
     ]
    },
    {
     "data": {
      "application/vnd.jupyter.widget-view+json": {
       "model_id": "86e8d9cfe2b14c3f894393fbdfd8077b",
       "version_major": 2,
       "version_minor": 0
      },
      "text/plain": [
       "HBox(children=(HTML(value=''), FloatProgress(value=0.0, max=21556.0), HTML(value='')))"
      ]
     },
     "metadata": {},
     "output_type": "display_data"
    },
    {
     "name": "stdout",
     "output_type": "stream",
     "text": [
      "\n",
      "Val. Epoch: 76/600. Classification loss: 0.29281. Regression loss: 1.53712. Total loss: 1.82993\n"
     ]
    },
    {
     "data": {
      "application/vnd.jupyter.widget-view+json": {
       "model_id": "5593549ef44b43299733c9fe82e41a6b",
       "version_major": 2,
       "version_minor": 0
      },
      "text/plain": [
       "HBox(children=(HTML(value=''), FloatProgress(value=0.0, max=21556.0), HTML(value='')))"
      ]
     },
     "metadata": {},
     "output_type": "display_data"
    },
    {
     "name": "stdout",
     "output_type": "stream",
     "text": [
      "\n",
      "Val. Epoch: 77/600. Classification loss: 0.29813. Regression loss: 1.57231. Total loss: 1.87044\n"
     ]
    },
    {
     "data": {
      "application/vnd.jupyter.widget-view+json": {
       "model_id": "cfcde27714c343a6b8bea5e31c5bfbd3",
       "version_major": 2,
       "version_minor": 0
      },
      "text/plain": [
       "HBox(children=(HTML(value=''), FloatProgress(value=0.0, max=21556.0), HTML(value='')))"
      ]
     },
     "metadata": {},
     "output_type": "display_data"
    },
    {
     "name": "stdout",
     "output_type": "stream",
     "text": [
      "\n",
      "Val. Epoch: 78/600. Classification loss: 0.31606. Regression loss: 1.61948. Total loss: 1.93554\n"
     ]
    },
    {
     "data": {
      "application/vnd.jupyter.widget-view+json": {
       "model_id": "ec8fb57173c04e7e8623c4aba3f7d7cf",
       "version_major": 2,
       "version_minor": 0
      },
      "text/plain": [
       "HBox(children=(HTML(value=''), FloatProgress(value=0.0, max=21556.0), HTML(value='')))"
      ]
     },
     "metadata": {},
     "output_type": "display_data"
    },
    {
     "name": "stdout",
     "output_type": "stream",
     "text": [
      "\n"
     ]
    }
   ],
   "source": [
    "epoch = 0\n",
    "best_loss = 1e5\n",
    "best_epoch = 0\n",
    "step = max(0, last_step)\n",
    "model.train()\n",
    "\n",
    "num_iter_per_epoch = len(training_generator)\n",
    "train_avg_losses = []\n",
    "train_avg_cls_losses = []\n",
    "train_avg_reg_losses = []\n",
    "val_avg_losses = []\n",
    "val_avg_cls_losses = []\n",
    "val_avg_reg_losses = []\n",
    "\n",
    "try:\n",
    "    for epoch in range(opt['num_epochs']+1):\n",
    "        last_epoch = step // num_iter_per_epoch\n",
    "        if epoch < last_epoch:\n",
    "            continue\n",
    "\n",
    "        train_losses = []\n",
    "        train_cls_losses = []\n",
    "        train_reg_losses = []\n",
    "        val_losses = []\n",
    "        val_cls_losses = []\n",
    "        val_reg_losses = []\n",
    "        \n",
    "        progress_bar = tqdm(training_generator)\n",
    "        for iter, data in enumerate(progress_bar):\n",
    "                \n",
    "            imgs = data['img']\n",
    "            annot = data['annot']\n",
    "\n",
    "            if params.num_gpus == 1:\n",
    "                # if only one gpu, just send it to cuda:0\n",
    "                # elif multiple gpus, send it to multiple gpus in CustomDataParallel, not here\n",
    "                imgs = imgs.cuda()\n",
    "                annot = annot.cuda()\n",
    "            \n",
    "            optimizer.zero_grad()\n",
    "            cls_loss, reg_loss = model(imgs, annot, obj_list=params.obj_list)\n",
    "            cls_loss = cls_loss.mean()\n",
    "            reg_loss = reg_loss.mean()\n",
    "\n",
    "            loss = cls_loss + reg_loss\n",
    "            if loss == 0 or not torch.isfinite(loss):\n",
    "                continue\n",
    "\n",
    "            loss.backward()\n",
    "            # torch.nn.utils.clip_grad_norm_(model.parameters(), 0.1)\n",
    "            optimizer.step()\n",
    "\n",
    "            train_losses.append(loss.item())\n",
    "            train_cls_losses.append(cls_loss.item())\n",
    "            train_reg_losses.append(reg_loss.item())\n",
    "            \n",
    "            progress_bar.set_description(\n",
    "               'Step: {}. Epoch: {}/{}. Iteration: {}/{}. Cls loss: {:.5f}. Reg loss: {:.5f}. Total loss: {:.5f}'.format(\n",
    "                   step, epoch, opt['num_epochs'], iter + 1, num_iter_per_epoch, cls_loss.item(),\n",
    "                   reg_loss.item(), loss.item()))\n",
    "            \n",
    "            step += 1\n",
    "\n",
    "            #if step % opt['save_interval'] == 0 and step > 0:\n",
    "            #    save_checkpoint(model, 'efficientdet-d{}_{}_{}.pth'.format(opt['compound_coef'],epoch,step))\n",
    "            #    print('checkpoint...')\n",
    "        \n",
    "        train_avg_loss = torch.mean(torch.FloatTensor(train_losses))\n",
    "        train_avg_losses.append(train_avg_loss.item())\n",
    "        train_avg_cls_loss = torch.mean(torch.FloatTensor(train_cls_losses))\n",
    "        train_avg_cls_losses.append(train_avg_cls_loss.item())        \n",
    "        train_avg_reg_loss = torch.mean(torch.FloatTensor(train_reg_losses))\n",
    "        train_avg_reg_losses.append(train_avg_reg_loss.item())               \n",
    "        \n",
    "        writer.add_scalars('Loss', {'train': train_avg_loss}, epoch)\n",
    "        writer.add_scalars('Regression_loss', {'train': train_avg_reg_loss}, epoch)\n",
    "        writer.add_scalars('Classfication_loss', {'train': train_avg_cls_loss}, epoch)\n",
    "        \n",
    "        # log learning_rate\n",
    "        current_lr = optimizer.param_groups[0]['lr']\n",
    "        writer.add_scalar('learning_rate', current_lr, epoch)          \n",
    "\n",
    "        scheduler.step(train_avg_loss)\n",
    "\n",
    "        model.eval()\n",
    "        with torch.no_grad():\n",
    "            for iter, data in enumerate(val_generator):\n",
    "                imgs = data['img']\n",
    "                annot = data['annot']\n",
    "\n",
    "                if params.num_gpus == 1:\n",
    "                    # if only one gpu, just send it to cuda:0\n",
    "                    # elif multiple gpus, send it to multiple gpus in CustomDataParallel, not here\n",
    "                    imgs = imgs.cuda()\n",
    "                    annot = annot.cuda()\n",
    "\n",
    "                cls_loss, reg_loss = model(imgs, annot, obj_list=params.obj_list)\n",
    "                cls_loss = cls_loss.mean()\n",
    "                reg_loss = reg_loss.mean()\n",
    "                \n",
    "                loss = cls_loss + reg_loss\n",
    "\n",
    "                if loss == 0 or not torch.isfinite(loss):\n",
    "                    continue\n",
    "                \n",
    "                val_losses.append(loss.item())\n",
    "                val_cls_losses.append(cls_loss.item())\n",
    "                val_reg_losses.append(reg_loss.item())\n",
    "                      \n",
    "        val_avg_loss = torch.mean(torch.FloatTensor(val_losses))\n",
    "        val_avg_losses.append(val_avg_loss.item())\n",
    "        val_avg_cls_loss = torch.mean(torch.FloatTensor(val_cls_losses))\n",
    "        val_avg_cls_losses.append(val_avg_cls_loss.item())\n",
    "        val_avg_reg_loss = torch.mean(torch.FloatTensor(val_reg_losses))\n",
    "        val_avg_reg_losses.append(val_avg_reg_loss.item())\n",
    "\n",
    "        print(\n",
    "            'Val. Epoch: {}/{}. Classification loss: {:1.5f}. Regression loss: {:1.5f}. Total loss: {:1.5f}'.format(\n",
    "                epoch, opt['num_epochs'], val_avg_cls_loss.item(), val_avg_reg_loss.item(), val_avg_loss.item()))\n",
    "        \n",
    "        writer.add_scalars('Loss', {'val': val_avg_loss}, epoch)\n",
    "        writer.add_scalars('Regression_loss', {'val': val_avg_reg_loss}, epoch)\n",
    "        writer.add_scalars('Classfication_loss', {'val': val_avg_cls_loss}, epoch)\n",
    "        \n",
    "        if val_avg_loss + opt['es_min_delta'] < best_loss:\n",
    "            best_loss = val_avg_loss\n",
    "            best_epoch = epoch\n",
    "\n",
    "            save_checkpoint(model, 'efficientdet-d{}_{}_{}.pth'.format(opt['compound_coef'],epoch,step))\n",
    "\n",
    "        model.train()\n",
    "        \n",
    "        # Early stopping\n",
    "        if epoch - best_epoch > opt['es_patience'] > 0:\n",
    "            print('[Info] Stop training at epoch {}. The lowest loss achieved is {}'.format(epoch, best_loss))\n",
    "            break\n",
    "                \n",
    "except KeyboardInterrupt:\n",
    "    save_checkpoint(model, 'efficientdet-d{}_{}_{}.pth'.format(opt['compound_coef'], epoch, step))\n",
    "    writer.close()\n",
    "writer.close()    "
   ]
  },
  {
   "cell_type": "markdown",
   "metadata": {},
   "source": [
    "# Restore Checkpoint"
   ]
  },
  {
   "cell_type": "code",
   "execution_count": 13,
   "metadata": {},
   "outputs": [
    {
     "data": {
      "image/png": "[encoded data removed]",
      "text/plain": [
       "<Figure size 360x360 with 1 Axes>"
      ]
     },
     "metadata": {
      "needs_background": "light"
     },
     "output_type": "display_data"
    }
   ],
   "source": [
    "img_path = val_image_paths[0]\n",
    "weight_path = \"./logs/hemorrhage/d4/efficientdet-d4_52_1142468.pth\"\n",
    "visualization(img_path, weight_path, 0.1, 0.1)"
   ]
  },
  {
   "cell_type": "code",
   "execution_count": null,
   "metadata": {},
   "outputs": [],
   "source": [
    "save_result(test_image_paths, 1000, weight_path, 0.1, 0.1)"
   ]
  },
  {
   "cell_type": "markdown",
   "metadata": {},
   "source": [
    "# Evaluation"
   ]
  },
  {
   "cell_type": "code",
   "execution_count": null,
   "metadata": {
    "scrolled": true
   },
   "outputs": [
    {
     "name": "stdout",
     "output_type": "stream",
     "text": [
      "Images: 7500/10000  AP: 0.090 AP05 0.304 AP10: 0.295 AP25: 0.264 AP50: 0.195 AP75: 0.072\t\t\t\t\t                    AR: 0.099 AR05: 0.237 AR10: 0.233 AR25: 0.218 AR50: 0.180 AR75: 0.096\r"
     ]
    }
   ],
   "source": [
    "# Bouinding box evaluation\n",
    "metric_fn = eval_bbox(\n",
    "    test_image_paths, test_mask_paths, weight_path, len(params.obj_list), 0.1, 0.1)"
   ]
  },
  {
   "cell_type": "code",
   "execution_count": 14,
   "metadata": {},
   "outputs": [
    {
     "name": "stdout",
     "output_type": "stream",
     "text": [
      "Images: 10000/10000  Precision: 0.762 Recall: 0.718 Specificity: 0.855 Accuracy: 0.801 F1 score: 0.739\r"
     ]
    }
   ],
   "source": [
    "# All class evaluation\n",
    "tp, fp, tn, fn = eval_class(test_image_paths, len(test_image_paths), weight_path, 0.1, 0.1)"
   ]
  },
  {
   "cell_type": "code",
   "execution_count": 15,
   "metadata": {},
   "outputs": [
    {
     "name": "stdout",
     "output_type": "stream",
     "text": [
      "Images: 10000/10000  Precision: 0.422 Recall: 0.076 Specificity: 0.996 Accuracy: 0.964 F1 score: 0.129\r"
     ]
    }
   ],
   "source": [
    "# epidural evaluaion\n",
    "tp, fp, tn, fn = eval_each_class(test_image_paths, len(test_image_paths), weight_path, 0, 0.1, 0.1)"
   ]
  },
  {
   "cell_type": "code",
   "execution_count": 16,
   "metadata": {},
   "outputs": [
    {
     "name": "stdout",
     "output_type": "stream",
     "text": [
      "Images: 10000/10000  Precision: 0.849 Recall: 0.773 Specificity: 0.902 Accuracy: 0.849 F1 score: 0.809\r"
     ]
    }
   ],
   "source": [
    "# intraparenchymal evaluation\n",
    "tp, fp, tn, fn = eval_each_class(test_image_paths, len(test_image_paths), weight_path, 1, 0.1, 0.1)"
   ]
  },
  {
   "cell_type": "code",
   "execution_count": 17,
   "metadata": {},
   "outputs": [
    {
     "name": "stdout",
     "output_type": "stream",
     "text": [
      "Images: 10000/10000  Precision: 0.876 Recall: 0.672 Specificity: 0.951 Accuracy: 0.856 F1 score: 0.761\r"
     ]
    }
   ],
   "source": [
    "# intraventricular evaluation\n",
    "tp, fp, tn, fn = eval_each_class(test_image_paths, len(test_image_paths), weight_path, 2, 0.1, 0.1)"
   ]
  },
  {
   "cell_type": "code",
   "execution_count": 18,
   "metadata": {},
   "outputs": [
    {
     "name": "stdout",
     "output_type": "stream",
     "text": [
      "Images: 10000/10000  Precision: 0.684 Recall: 0.562 Specificity: 0.755 Accuracy: 0.661 F1 score: 0.617\r"
     ]
    }
   ],
   "source": [
    "# subarachnoid evaluation\n",
    "tp, fp, tn, fn = eval_each_class(test_image_paths, len(test_image_paths), weight_path, 3, 0.1, 0.1)"
   ]
  },
  {
   "cell_type": "code",
   "execution_count": 19,
   "metadata": {},
   "outputs": [
    {
     "name": "stdout",
     "output_type": "stream",
     "text": [
      "Images: 10000/10000  Precision: 0.736 Recall: 0.864 Specificity: 0.596 Accuracy: 0.748 F1 score: 0.795\r"
     ]
    }
   ],
   "source": [
    "# subdural evaluation\n",
    "tp, fp, tn, fn = eval_each_class(test_image_paths, len(test_image_paths), weight_path, 4, 0.1, 0.1)"
   ]
  },
  {
   "cell_type": "code",
   "execution_count": null,
   "metadata": {},
   "outputs": [],
   "source": []
  }
 ],
 "metadata": {
  "kernelspec": {
   "display_name": "Python 3",
   "language": "python",
   "name": "python3"
  },
  "language_info": {
   "codemirror_mode": {
    "name": "ipython",
    "version": 3
   },
   "file_extension": ".py",
   "mimetype": "text/x-python",
   "name": "python",
   "nbconvert_exporter": "python",
   "pygments_lexer": "ipython3",
   "version": "3.8.5"
  }
 },
 "nbformat": 4,
 "nbformat_minor": 4
}
